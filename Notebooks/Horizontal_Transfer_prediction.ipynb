{
 "cells": [
  {
   "cell_type": "markdown",
   "metadata": {},
   "source": [
    "#  GENOM PROJECT 2020-2021\n",
    "\n",
    "## Kmer computation in Horizontal transfert origin prediction\n",
    "#### Alex Lence, Simon Chardin, Adrien Leroy\n",
    "\n",
    "This project is the **second** part of the project and shows how we predicted the origin of Kmer signature from horizontal transfers from K-Mer signatures using **kython** and a hard coded Fully connected neural network.\n",
    "\n",
    "[Kython on Github](https://www.github.com/LeroyAdrien/Kython), [Kython on testPypi](https://test.pypi.org/project/kython/)"
   ]
  },
  {
   "cell_type": "markdown",
   "metadata": {},
   "source": [
    "<img src='TOL_notebook.png' title=\"Tree from Archaeas and Bacterias\">&nbsp;"
   ]
  },
  {
   "cell_type": "markdown",
   "metadata": {},
   "source": [
    "##### This notebook shows:\n",
    "\n",
    "* **Module pp**\n",
    "    * Preparing Data for the training of the neural network\n",
    "   \n",
    "* **Module pl**\n"
   ]
  },
  {
   "cell_type": "code",
   "execution_count": 1,
   "metadata": {},
   "outputs": [],
   "source": [
    "from kython import pp,pl\n",
    "import matplotlib.pyplot as plt\n",
    "import numpy as np\n",
    "import random\n",
    "from scipy.stats import chi2_contingency\n",
    "from os import listdir\n",
    "from os.path import isfile, join\n",
    "import pandas as pd\n",
    "import random as rd"
   ]
  },
  {
   "cell_type": "markdown",
   "metadata": {},
   "source": [
    "### I-Retrieving organisms names linked to their .fna files\n",
    "\n",
    "We used a nested dictionnary to be able to retrieve phylums, organism names and genomin .fna file path\n",
    "\n",
    "\n",
    "\n",
    "**Structure is the following:** $\\color{black}{\\text{Dictionnary}}$**\\[**$\\color{blue}{\\text{Phylum}}$**\\]\\[**$\\color{blue}{\\text{Organism}}$**\\]=**$\\color{red}{\\text{'Path to Genomic File'}}$\n",
    "\n",
    "#### Setting up paths "
   ]
  },
  {
   "cell_type": "code",
   "execution_count": 2,
   "metadata": {},
   "outputs": [],
   "source": [
    "bacteriaListPath='../data/Bacteria.list'\n",
    "archaeaListPath='../data/Archea.list'\n",
    "resultsfolder='./refseq/'"
   ]
  },
  {
   "cell_type": "code",
   "execution_count": 3,
   "metadata": {},
   "outputs": [],
   "source": [
    "pathDictionnary=pp.ParseSequences(resultsfolder)"
   ]
  },
  {
   "cell_type": "markdown",
   "metadata": {},
   "source": [
    "#### We retreived the following organisms:"
   ]
  },
  {
   "cell_type": "code",
   "execution_count": 4,
   "metadata": {},
   "outputs": [
    {
     "name": "stdout",
     "output_type": "stream",
     "text": [
      "Bacterias: \n",
      "\n",
      "Cupriavidus_taiwanensis_isolate_Cupriavidus_taiwanensis_STM_6119_chromosome_CBM2610_a\n",
      "Methylacidiphilum_infernorum_V4\n",
      "Cupriavidus_taiwanensis_isolate_Cupriavidus_taiwanensis_SWF_66322_\n",
      "Cupriavidus_taiwanensis_isolate_Cupriavidus_taiwanensis_STM_8558_chromosome_CBM2615_a\n",
      "Cupriavidus_taiwanensis_isolate_Cupriavidus_taiwanensis_STM_3679_\n",
      "Cupriavidus_taiwanensis_isolate_Cupriavidus_taiwanensis_ip2.30/pp_2.30_chromosome_CBM2623_a\n",
      "Coxiella_burnetii_RSA_493\n",
      "Campylobacter_jejuni_subsp._jejuni_81-176-UMCW7_plasmid_pVir\n",
      "Mycoplasma_genitalium_G37\n",
      "Cupriavidus_taiwanensis_isolate_Cupriavidus_taiwanensis_STM_3521_chromosome_CBM2589_a\n",
      "Bacteroides_fragilis_YCH46\n",
      "Cupriavidus_taiwanensis_isolate_Cupriavidus_taiwanensis_STM_3511_chromosome_CBM2588_a\n",
      "Cupriavidus_taiwanensis_isolate_Cupriavidus_taiwanensis_STM_8561_chromosome_CBM2618_a\n",
      "Thermotoga_maritima_MSB8\n",
      "Cupriavidus_taiwanensis_isolate_Cupriavidus_taiwanensis_mpp_1.3_chromosome_CBM2625_a\n",
      "Nostoc_punctiforme_PCC_73102\n",
      "Bordetella_pertussis_Tohama_I_\n",
      "Cupriavidus_taiwanensis_isolate_Cupriavidus_taiwanensis_STM_6150_chromosome_CBM2608_a\n",
      "Cupriavidus_taiwanensis_isolate_Cupriavidus_taiwanensis_STM_6132_chromosome_CBM2599_a\n",
      "Gemmata_obscuriglobus_UQM_2246_\n",
      "Thermanaerovibrio_acidaminovorans_DSM_6589\n",
      "Gloeobacter_violaceus_PCC_7421\n",
      "Cupriavidus_taiwanensis_isolate_Cupriavidus_taiwanensis_STM_6043_chromosome_CBM2597_a\n",
      "Shewanella_putrefaciens_CN-32\n",
      "Gemmatimonas_aurantiaca_T-27\n",
      "Cupriavidus_taiwanensis_isolate_Cupriavidus_taiwanensis_STM_3681\n",
      "Cupriavidus_taiwanensis_isolate_Cupriavidus_taiwanensis_SWF_65033_\n",
      "Cupriavidus_taiwanensis_isolate_Cupriavidus_taiwanensis_STM_8556_chromosome_CBM2613_a\n",
      "Clostridium_acetobutylicum_ATCC_824\n",
      "Cupriavidus_taiwanensis_isolate_Cupriavidus_taiwanensis_STM_3711_chromosome_CBM2592_a\n",
      "Campylobacter_jejuni_subsp._jejuni_81-176\n",
      "Cupriavidus_taiwanensis_isolate_Cupriavidus_taiwanensis_STM_8557_chromosome_CBM2614_a\n",
      "Corynebacterium_glutamicum_ATCC_13032\n",
      "Cupriavidus_taiwanensis_isolate_Cupriavidus_taiwanensis_cmp_52\n",
      "Chlorobium_chlorochromatii_CaD3\n",
      "Mycoplasma_genitalium_G37_strain_G-37_unique_20\n",
      "Prochlorococcus_marinus_str._AS9601\n",
      "Cupriavidus_taiwanensis_isolate_Cupriavidus_taiwanensis_MAPUD_10.1\n",
      "Deinococcus_radiodurans_R1_chromosome_1\n",
      "Rhizobium_leguminosarum_bv._trifolii_WSM1325\n",
      "Pedobacter_heparinus_DSM_2366_ctg7180000000005_quiver\n",
      "Bacillus_cereus_Q1\n",
      "Cupriavidus_taiwanensis_isolate_Cupriavidus_taiwanensis_STM_6021_chromosome_CBM2594_a\n",
      "Thermomicrobium_roseum_DSM_5159\n",
      "Cupriavidus_taiwanensis_isolate_Cupriavidus_taiwanensis_STM_6162_chromosome_CBM2600_a\n",
      "Cupriavidus_taiwanensis_isolate_Cupriavidus_taiwanensis_SWF_66324_chromosome_CBM2637_a\n",
      "Akkermansia_muciniphila_ATCC_BAA-835\n",
      "Cupriavidus_taiwanensis_isolate_Cupriavidus_sp._LMG_19464_chromosome_CBM2587_a\n",
      "Cupriavidus_taiwanensis_isolate_Cupriavidus_taiwanensis_STM_8564_chromosome_CBM2621_a\n",
      "Cupriavidus_taiwanensis_isolate_Cupriavidus_taiwanensis_TPUD_27.6_chromosome_CBM2631_a\n",
      "Cupriavidus_taiwanensis_isolate_Cupriavidus_taiwanensis_STM_8560_chromosome_CBM2617_a\n",
      "Leptospira_interrogans_serovar_Lai_str._56601_chromosome_I\n",
      "Cupriavidus_taiwanensis_isolate_Cupriavidus_taiwanensis_TPIG_6a_chromosome_CBM2629_a\n",
      "Gemmata_obscuriglobus_UQM_2246_gcontig_1106221710807\n",
      "Cupriavidus_taiwanensis_isolate_Cupriavidus_taiwanensis_STM_6082_chromosome_CBM2605_a\n",
      "Carboxydothermus_hydrogenoformans_Z-2901\n",
      "Bordetella_pertussis_Tohama_I\n",
      "Flavobacterium_psychrophilum_JIP02/86\n",
      "Bdellovibrio_bacteriovorus_HD100\n",
      "Coxiella_burnetii_RSA_493_strain_Cb171_QLYMPHOMA\n",
      "Alicyclobacillus_acidocaldarius_subsp._acidocaldarius_DSM_446\n",
      "Cupriavidus_taiwanensis_isolate_Cupriavidus_taiwanensis_STM_8565_chromosome_CBM2622_a\n",
      "Fibrobacter_succinogenes_subsp._succinogenes_S85\n",
      "Cupriavidus_taiwanensis_isolate_Cupriavidus_taiwanensis_LMG_19431_chromosome_CT19431\n",
      "Rickettsia_rickettsii_str._Iowa\n",
      "Rhodospirillum_rubrum_ATCC_11170\n",
      "Bacteroides_fragilis_YCH46_isolate_Bacteroides_fragilis_82A12\n",
      "Synechococcus_elongatus_PCC_6301\n",
      "Thermobaculum_terrenum_ATCC_BAA-798_chromosome_1\n",
      "Cupriavidus_taiwanensis_isolate_Cupriavidus_taiwanensis_STM_6044_\n",
      "Candidatus_Amoebophilus_asiaticus_5a2\n",
      "Aquifex_aeolicus_VF5\n",
      "Cupriavidus_taiwanensis_isolate_Cupriavidus_taiwanensis_mpp_1.1_chromosome_CBM2626_a\n",
      "Dictyoglomus_thermophilum_H-6-12\n",
      "Opitutus_terrae_PB90-1\n",
      "Cupriavidus_taiwanensis_STM_6018_A3AADRAFT_scaffold_0.1_C\n",
      "Cupriavidus_taiwanensis_isolate_Cupriavidus_taiwanensis_STM_6117_chromosome_CBM2604_a\n",
      "Cupriavidus_taiwanensis_LMG_19424\n",
      "Elusimicrobium_minutum_Pei191\n",
      "Cupriavidus_taiwanensis_strain_USM6_USM6_assembled_contig_1\n",
      "Acholeplasma_laidlawii_PG-8A\n",
      "Psychrobacter_arcticus_273-4\n",
      "Cupriavidus_taiwanensis_isolate_Cupriavidus_taiwanensis_LMG_19430_chromosome_CBM2586_a\n",
      "Cupriavidus_taiwanensis_isolate_Cupriavidus_taiwanensis_LMG_19426_chromosome_CBM2585_a\n",
      "Cupriavidus_taiwanensis_isolate_Cupriavidus_taiwanensis_STM_6041_plasmid_I\n",
      "Thermodesulfovibrio_yellowstonii_DSM_11347\n",
      "Chlamydia_trachomatis_434/Bu\n",
      "Rhodopirellula_baltica_SH_1\n",
      "Cupriavidus_taiwanensis_isolate_Cupriavidus_taiwanensis_LMG_19425_\n",
      "Thermus_thermophilus_HB8_chromosome_1\n",
      "Cupriavidus_taiwanensis_isolate_Cupriavidus_taiwanensis_STM_6083_\n",
      "Cupriavidus_taiwanensis_isolate_Cupriavidus_taiwanensis_STM_6032_\n",
      "Bacillus_pseudofirmus_OF4\n",
      "Pirellula_staleyi_DSM_6068\n",
      "Acidobacterium_capsulatum_ATCC_51196\n",
      "Cupriavidus_taiwanensis_isolate_Cupriavidus_taiwanensis_STM_6116_chromosome_CBM2609_a\n",
      "Chloroflexus_aurantiacus_J-10-fl\n",
      "Pedobacter_heparinus_DSM_2366\n",
      "\n",
      "\n",
      "Archaeas: \n",
      "\n",
      "Picrophilus_torridus_DSM_9790\n",
      "Methanobrevibacter_ruminantium_M1\n",
      "Candidatus_Korarchaeum_cryptofilum_OPF8\n",
      "Metallosphaera_sedula_DSM_5348\n",
      "Ignicoccus_hospitalis_KIN4/I\n",
      "Nitrosopumilus_maritimus_SCM1\n",
      "Methanosphaera_stadtmanae_DSM_3091\n",
      "Methanocaldococcus_fervens_AG86\n",
      "Pyrobaculum_aerophilum_str._IM2\n",
      "Methanospirillum_hungatei_JF-1\n",
      "Pyrobaculum_arsenaticum_DSM_13514\n",
      "Methanosarcina_acetivorans_C2A\n",
      "Pyrococcus_abyssi_GE5\n",
      "Pyrococcus_furiosus_DSM_3638\n",
      "Halorubrum_lacusprofundi_ATCC_49239_chromosome_1\n",
      "Methanosarcina_barkeri_str._Fusaro\n",
      "Archaeoglobus_profundus_DSM_5631\n",
      "Methanococcoides_burtonii_DSM_6242\n",
      "Halomicrobium_mukohataei_DSM_12286\n",
      "Natronomonas_pharaonis_DSM_2160\n",
      "Sulfolobus_acidocaldarius_DSM_639\n",
      "Methanocorpusculum_labreanum_Z\n",
      "Hyperthermus_butylicus_DSM_5456\n",
      "Aeropyrum_pernix_K1\n",
      "Thermofilum_pendens_Hrk_5\n",
      "Haloquadratum_walsbyi_DSM_16790\n",
      "Caldivirga_maquilingensis_IC-167\n",
      "Halorhabdus_utahensis_DSM_12940\n",
      "Staphylothermus_marinus_F1\n",
      "Thermoplasma_acidophilum_DSM_1728\n",
      "Archaeoglobus_fulgidus_DSM_4304\n",
      "Haloarcula_marismortui_ATCC_43049_chromosome_I\n",
      "Haloarcula_marismortui_ATCC_43049\n",
      "Methanococcus_aeolicus_Nankai-3\n",
      "Pyrococcus_horikoshii_OT3\n",
      "Methanococcus_vannielii_SB\n",
      "Methanosarcina_mazei_Go1\n",
      "Thermococcus_gammatolerans_EJ3\n",
      "Methanocella_paludicola_SANAE\n",
      "Methanopyrus_kandleri_AV19\n",
      "Methanococcus_maripaludis_C6\n",
      "Haloterrigena_turkmenica_DSM_5511\n",
      "Thermoplasma_volcanium_GSS1\n",
      "Methanoculleus_marisnigri_JR1\n"
     ]
    }
   ],
   "source": [
    "print(\"Bacterias:\",'\\n')\n",
    "for bacteria in pathDictionnary['bacteria'].keys():\n",
    "    print(bacteria)\n",
    "print(\"\\n\")\n",
    "\n",
    "print(\"Archaeas:\",'\\n')\n",
    "for archaea in pathDictionnary['archaea'].keys():\n",
    "    print(archaea)"
   ]
  },
  {
   "cell_type": "markdown",
   "metadata": {},
   "source": [
    "### II-Building the Neural network"
   ]
  },
  {
   "cell_type": "markdown",
   "metadata": {},
   "source": [
    "#### a-Classes"
   ]
  },
  {
   "cell_type": "code",
   "execution_count": 5,
   "metadata": {},
   "outputs": [],
   "source": [
    "class Layer:\n",
    "    def __init__(self):\n",
    "        self.input = None\n",
    "        self.output = None\n",
    "        \n",
    "    def forward_propagation(self,input):\n",
    "        raise NotImplementedError\n",
    "        \n",
    "    def backward_propagation(self,output_error, learning_rate):\n",
    "        raise NotImplementedError\n",
    "\n",
    "# inherit from base class Layer\n",
    "class FCLayer(Layer):\n",
    "    # input_size = number of input neurons\n",
    "    # output_size = number of output neurons\n",
    "    def __init__(self, input_size, output_size):\n",
    "        self.weights = np.random.rand(input_size, output_size) - 0.5\n",
    "        self.bias = np.random.rand(1, output_size) - 0.5\n",
    "\n",
    "    # returns output for a given input\n",
    "    def forward_propagation(self, input_data):\n",
    "        self.input = input_data\n",
    "        self.output = np.dot(self.input, self.weights) + self.bias\n",
    "        return self.output\n",
    "\n",
    "    # computes dE/dW, dE/dB for a given output_error=dE/dY. Returns input_error=dE/dX.\n",
    "    def backward_propagation(self, output_error, learning_rate):\n",
    "        input_error = np.dot(output_error, self.weights.T)\n",
    "        weights_error = np.dot(self.input.T, output_error)\n",
    "        # dBias = output_error\n",
    "\n",
    "        # update parameters\n",
    "        self.weights -= learning_rate * weights_error\n",
    "        self.bias -= learning_rate * output_error\n",
    "        return input_error\n",
    "\n",
    "    \n",
    "# inherit from base class Layer\n",
    "class ActivationLayer(Layer):\n",
    "    def __init__(self, activation, activation_prime):\n",
    "        self.activation = activation\n",
    "        self.activation_prime = activation_prime\n",
    "\n",
    "    # returns the activated input\n",
    "    def forward_propagation(self, input_data):\n",
    "        self.input = input_data\n",
    "        self.output = self.activation(self.input)\n",
    "        return self.output\n",
    "\n",
    "    # Returns input_error=dE/dX for a given output_error=dE/dY.\n",
    "    # learning_rate is not used because there is no \"learnable\" parameters.\n",
    "    def backward_propagation(self, output_error, learning_rate):\n",
    "        return self.activation_prime(self.input) * output_error\n",
    "    \n",
    "    \n",
    "\n",
    "class Network:\n",
    "    def __init__(self):\n",
    "        self.layers = []\n",
    "        self.loss = None\n",
    "        self.loss_prime = None\n",
    "\n",
    "    # add layer to network\n",
    "    def add(self, layer):\n",
    "        self.layers.append(layer)\n",
    "\n",
    "    # set loss to use\n",
    "    def use(self, loss, loss_prime):\n",
    "        self.loss = loss\n",
    "        self.loss_prime = loss_prime\n",
    "\n",
    "    # predict output for given input\n",
    "    def predict(self, input_data):\n",
    "        # sample dimension first\n",
    "        samples = len(input_data)\n",
    "        result = []\n",
    "\n",
    "        # run network over all samples\n",
    "        for i in range(samples):\n",
    "            # forward propagation\n",
    "            output = input_data[i]\n",
    "            for layer in self.layers:\n",
    "                output = layer.forward_propagation(output)\n",
    "            result.append(output)\n",
    "\n",
    "        return result\n",
    "\n",
    "    # train the network\n",
    "    def fit(self, x_train, y_train, epochs, learning_rate):\n",
    "        # sample dimension first\n",
    "        samples = len(x_train)\n",
    "\n",
    "        # training loop\n",
    "        for i in range(epochs):\n",
    "            err = 0\n",
    "            for j in range(samples):\n",
    "                # forward propagation\n",
    "                output = x_train[j]\n",
    "                for layer in self.layers:\n",
    "                    output = layer.forward_propagation(output)\n",
    "\n",
    "                # compute loss (for display purpose only)\n",
    "                err += self.loss(y_train[j], output)\n",
    "\n",
    "                # backward propagation\n",
    "                error = self.loss_prime(y_train[j], output)\n",
    "                for layer in reversed(self.layers):\n",
    "                    error = layer.backward_propagation(error, learning_rate)\n",
    "\n",
    "            # calculate average error on all samples\n",
    "            err /= samples\n",
    "            #print('epoch %d/%d   error=%f' % (i+1, epochs, err))\n",
    "\n",
    "# loss function and its derivative\n",
    "def mse(y_true, y_pred):\n",
    "    return np.mean(np.power(y_true-y_pred, 2));\n",
    "\n",
    "def mse_prime(y_true, y_pred):\n",
    "    return 2*(y_pred-y_true)/y_true.size;\n",
    "            \n",
    "# activation function and its derivative\n",
    "def tanh(x):\n",
    "    return np.tanh(x);\n",
    "\n",
    "def tanh_prime(x):\n",
    "    return 1-np.tanh(x)**2;"
   ]
  },
  {
   "cell_type": "markdown",
   "metadata": {},
   "source": [
    "#### b-Functions"
   ]
  },
  {
   "cell_type": "code",
   "execution_count": null,
   "metadata": {},
   "outputs": [],
   "source": [
    "def def_matrice_learn(supermatrice):\n",
    "    \"Initialization of learning's matrix and label from the GatherTrainingData file\"\n",
    "    Y_learn=[]\n",
    "    X_learn=[]\n",
    "    for i in range(len(supermatrice)):\n",
    "        if len(supermatrice[i])>=50:\n",
    "            for j in range(50):\n",
    "                y_learn=np.zeros(len(supermatrice))\n",
    "                y_learn[i]=1\n",
    "                Y_learn.append(y_learn)\n",
    "                X_learn.append([supermatrice[i][j]])\n",
    "        else:\n",
    "            for j in range(len(supermatrice[i])):\n",
    "                y_learn=np.zeros(len(supermatrice))\n",
    "                y_learn[i]=1\n",
    "                Y_learn.append(y_learn)\n",
    "                X_learn.append([supermatrice[i][j]])\n",
    "                \n",
    "    return(np.array(X_learn),np.array(Y_learn))\n",
    " \n",
    "\n",
    "def nom_organisme(inputPath):\n",
    "    \"Creat list of species and the supermatrix that concatenate all the kmer signature \"\n",
    "    supermatrice=[]\n",
    "    liste_org=[]\n",
    "    fichiers = [f for f in listdir(inputPath) if isfile(join(inputPath, f))]\n",
    "    for org in fichiers:\n",
    "        try:\n",
    "            data=pd.read_csv(inputPath+\"/\"+org)\n",
    "            org=org.split(\"_\")[1]\n",
    "            org=org.split(\".\")[0]\n",
    "            liste_org.append(org)\n",
    "            supermatrice.append(data.values)\n",
    "        #If a file is empty\n",
    "        except ValueError:\n",
    "            pass\n",
    "    return(liste_org,np.array(supermatrice))\n",
    "\n",
    "def FindOrganism(kmer: int, kmersignature:list, inputPath:str,train=True)->str:\n",
    "    liste_org,supermatrice=nom_organisme(inputPath)\n",
    "    X_learn,Y_learn=def_matrice_learn(supermatrice)\n",
    "    \n",
    "    # Network\n",
    "    net = Network()\n",
    "    net.add(FCLayer(4**kmer, 300))                # input_shape=(1, 4**kmer)    ;   output_shape=(1, 300)\n",
    "    net.add(ActivationLayer(tanh, tanh_prime))\n",
    "    net.add(FCLayer(300, 200))                   # input_shape=(1, 300)      ;   output_shape=(1, 200)\n",
    "    net.add(ActivationLayer(tanh, tanh_prime))\n",
    "    net.add(FCLayer(200, 128))                   # input_shape=(1, 200)      ;   output_shape=(1, 128)\n",
    "    net.add(ActivationLayer(tanh, tanh_prime))\n",
    "    net.add(FCLayer(128,len(liste_org)))          # input_shape=(1, 128)      ;   output_shape=(1, len(liste_org))         \n",
    "    net.add(ActivationLayer(tanh, tanh_prime))\n",
    "\n",
    "    \n",
    "    #Function use for forward and backward activation \n",
    "    net.use(mse, mse_prime)\n",
    "    \n",
    "    #Shuffle the learning matrix and the label matrix as the same\n",
    "    rd.seed(0)\n",
    "    rd.shuffle(X_learn)\n",
    "    rd.seed(0)\n",
    "    rd.shuffle(Y_learn)\n",
    "    \n",
    "    \n",
    "    #Fit the network on the data from GatherTrainingData file\n",
    "    if train==True:\n",
    "        net.fit(X_learn, Y_learn, epochs=10, learning_rate=0.1)\n",
    "\n",
    "    #Predict the species from kmersignature\n",
    "    out = net.predict(kmersignature)\n",
    "    print(liste_org[np.argmax(out)])\n",
    "    return(liste_org[np.argmax(out)])"
   ]
  },
  {
   "cell_type": "markdown",
   "metadata": {},
   "source": [
    "### III-Application : Organism of interest "
   ]
  },
  {
   "cell_type": "code",
   "execution_count": 18,
   "metadata": {},
   "outputs": [
    {
     "name": "stdout",
     "output_type": "stream",
     "text": [
      "Bacteria: Coxiella burnetii RSA 493\n",
      "\n"
     ]
    },
    {
     "data": {
      "image/png": "[encoded data removed]",
      "text/plain": [
       "<Figure size 432x288 with 1 Axes>"
      ]
     },
     "metadata": {
      "needs_background": "light"
     },
     "output_type": "display_data"
    },
    {
     "data": {
      "image/png": "[encoded data removed]",
      "text/plain": [
       "<Figure size 1440x288 with 1 Axes>"
      ]
     },
     "metadata": {
      "needs_background": "light"
     },
     "output_type": "display_data"
    }
   ],
   "source": [
    "print(\"Bacteria: Coxiella burnetii RSA 493\")\n",
    "\n",
    "signature=pp.KmerSignature(pathDictionnary[\"bacteria\"][\"Coxiella_burnetii_RSA_493\"],6,False)\n",
    "pl.KmerSignature(signature,\"Coxiella burnetii RSA 493\")\n",
    "\n",
    "listPvalue,listPositions=pp.SequenceHomogeneity(pathDictionnary[\"bacteria\"][\"Coxiella_burnetii_RSA_493\"],6,10000)\n",
    "pl.SequenceHomogeneity(listPvalue,listPositions,0.05,\"Coxiella burnetii RSA 493\")"
   ]
  },
  {
   "cell_type": "markdown",
   "metadata": {},
   "source": [
    "### IV- Applying the network on a given organism"
   ]
  },
  {
   "cell_type": "markdown",
   "metadata": {},
   "source": [
    "#### Preparing Data <u> (about 45 minutes Long on i5 7200 U and 6Gb RAM)"
   ]
  },
  {
   "cell_type": "code",
   "execution_count": null,
   "metadata": {
    "scrolled": true
   },
   "outputs": [
    {
     "name": "stdout",
     "output_type": "stream",
     "text": [
      "Gathering Training Data from:  Cupriavidus_taiwanensis_isolate_Cupriavidus_taiwanensis_STM_6119_chromosome_CBM2610_a\n",
      "Number of Samples Gathered: 43\n",
      "Size of file: 1409136\n",
      "Gathering Training Data from:  Methylacidiphilum_infernorum_V4\n",
      "Number of Samples Gathered: 51\n",
      "Size of file: 1671280\n",
      "Gathering Training Data from:  Cupriavidus_taiwanensis_isolate_Cupriavidus_taiwanensis_SWF_66322_\n",
      "Number of Samples Gathered: 42\n",
      "Size of file: 1376368\n",
      "Gathering Training Data from:  Cupriavidus_taiwanensis_isolate_Cupriavidus_taiwanensis_STM_8558_chromosome_CBM2615_a\n",
      "Number of Samples Gathered: 31\n",
      "Size of file: 1015920\n",
      "Gathering Training Data from:  Cupriavidus_taiwanensis_isolate_Cupriavidus_taiwanensis_STM_3679_\n",
      "Number of Samples Gathered: 0\n",
      "Size of file: 96\n",
      "Gathering Training Data from:  Cupriavidus_taiwanensis_isolate_Cupriavidus_taiwanensis_ip2.30/pp_2.30_chromosome_CBM2623_a\n",
      "Number of Samples Gathered: 0\n",
      "Size of file: 96\n",
      "Gathering Training Data from:  Coxiella_burnetii_RSA_493\n",
      "Number of Samples Gathered: 51\n",
      "Size of file: 1671280\n",
      "Gathering Training Data from:  Campylobacter_jejuni_subsp._jejuni_81-176-UMCW7_plasmid_pVir\n",
      "Number of Samples Gathered: 0\n",
      "Size of file: 96\n",
      "Gathering Training Data from:  Mycoplasma_genitalium_G37\n",
      "Number of Samples Gathered: 0\n",
      "Size of file: 96\n",
      "Gathering Training Data from:  Cupriavidus_taiwanensis_isolate_Cupriavidus_taiwanensis_STM_3521_chromosome_CBM2589_a\n"
     ]
    }
   ],
   "source": [
    "pp.GatherTrainingData(pathDictionnary,6,20000,'../data/training_data',0.05,'bacteria')"
   ]
  },
  {
   "cell_type": "markdown",
   "metadata": {},
   "source": [
    "#### Training the Network"
   ]
  },
  {
   "cell_type": "code",
   "execution_count": null,
   "metadata": {},
   "outputs": [],
   "source": [
    "def FindHorizontalTransfers(path:str,kmer:int,fragmentSize:int,seuil:float):\n",
    "        \"\"\"Compute the Homogeneity of a sequence and spots any horizontal transfers \"\"\"\n",
    "        #Retrieve sequence and dictionnary\n",
    "        globalSignature=pp.KmerSignature(path,kmer,False)\n",
    "        sequence=pp.Read_Sequence(path)\n",
    "        \n",
    "        #List of values\n",
    "        listepval = []\n",
    "        listepos= [0]\n",
    "        listOrigins=[]\n",
    "        pos=0\n",
    "        train=True\n",
    "        \n",
    "        while pos<len(sequence):\n",
    "                \"\"\"\n",
    "                if int(pos/len(sequence)*100)%5==0:\n",
    "                        print((pos/len(sequence))*100,\"%\")\n",
    "                \"\"\"\n",
    "                #Cuts sequence fragment\n",
    "                sequenceFragment=sequence[pos:pos+fragmentSize]\n",
    "                seqCut = [sequenceFragment[i:i+kmer] for i in range(len(sequenceFragment)-(kmer-1)) ]\n",
    "                \n",
    "                #Retrieve signature of fragment\n",
    "                fragmentSignature = pp.Count_Cuts(seqCut,False)\n",
    "                \n",
    "                #Create contingency table\n",
    "                contingency=np.concatenate((globalSignature.values+1,fragmentSignature.values+1),axis=0)\n",
    "                \n",
    "                \n",
    "                resultat,pval, dof, expctd = chi2_contingency(contingency)\n",
    "                \n",
    "                if pval<seuil:\n",
    "                    organismFound=FindOrganism(kmer,list(fragmentSignature.values),'../data/training_data',train)\n",
    "                    train=False\n",
    "                    listOrigins.append(organismFound)\n",
    "                    \n",
    "\n",
    "\n",
    "                if pos+fragmentSize>len(sequence):\n",
    "                        fragmentSize=len(sequence)-pos\n",
    "                        pos+=fragmentSize\n",
    "                else:\n",
    "                        pos+=fragmentSize\n",
    "                        \n",
    "                #Add new position\n",
    "                listepos.append(pos)\n",
    "\n",
    "        return listepval,listepos,listOrigins"
   ]
  },
  {
   "cell_type": "markdown",
   "metadata": {},
   "source": [
    "#### Applying the network on an organism"
   ]
  },
  {
   "cell_type": "code",
   "execution_count": null,
   "metadata": {
    "scrolled": true
   },
   "outputs": [],
   "source": [
    "listepVal,listepos,listOrigins=FindHorizontalTransfers(pathDictionnary[\"bacteria\"][\"Coxiella_burnetii_RSA_493\"],6,20000,0.05)"
   ]
  },
  {
   "cell_type": "markdown",
   "metadata": {},
   "source": [
    "#### Retrieving the results"
   ]
  },
  {
   "cell_type": "code",
   "execution_count": null,
   "metadata": {},
   "outputs": [],
   "source": [
    "listOrigins"
   ]
  },
  {
   "cell_type": "code",
   "execution_count": null,
   "metadata": {},
   "outputs": [],
   "source": []
  }
 ],
 "metadata": {
  "kernelspec": {
   "display_name": "Python 3",
   "language": "python",
   "name": "python3"
  },
  "language_info": {
   "codemirror_mode": {
    "name": "ipython",
    "version": 3
   },
   "file_extension": ".py",
   "mimetype": "text/x-python",
   "name": "python",
   "nbconvert_exporter": "python",
   "pygments_lexer": "ipython3",
   "version": "3.8.5"
  }
 },
 "nbformat": 4,
 "nbformat_minor": 4
}
