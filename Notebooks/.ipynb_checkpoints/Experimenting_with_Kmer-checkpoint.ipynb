{
 "cells": [
  {
   "cell_type": "markdown",
   "metadata": {},
   "source": [
    "#  GENOM PROJECT 2020-2021\n",
    "\n",
    "## Kmer computation in phylogeny reconstruction\n",
    "#### Alex Lence, Simon Chardin, Adrien Leroy\n",
    "\n",
    "This project tries to implement various phylogeny reconstruction methodologies from K-Mer signatures using **kython**, a python package we devised for the occasion [Kython on Github](https://www.github.com/LeroyAdrien/Kython), [Kython on testPypi](https://test.pypi.org/project/kython/)"
   ]
  },
  {
   "cell_type": "markdown",
   "metadata": {},
   "source": [
    "##### This notebook shows:\n",
    "\n",
    "* **Module pp**\n",
    "    * **Downloading** Whole Genomes from **ncbi website** with Archea names list, Bacteria names list\n",
    "    * Computing **K-mer signature** from an .fna file \n",
    "    * Computing **distance matrices** of all the files in a folder\n",
    "    * Computing Phylogenetic tree from said distance matrix in **Newick Format** using **NJ algorithm**\n",
    "    * Computing **Chi2 conformity** between subsamples of a genome to spot **horizontal transfers**\n",
    "    \n",
    "    \n",
    "    \n",
    "* **Module pl**\n",
    "    * Plotting **K-mer signature** with custom matplotlib barplot\n",
    "    * Plotting **Phylogenetic tree** in newick format using itools\n",
    "    * Plotting **horizontal transfers** on genome with custom matplotlib"
   ]
  },
  {
   "cell_type": "code",
   "execution_count": 8,
   "metadata": {},
   "outputs": [],
   "source": [
    "from kython import pp,pl"
   ]
  },
  {
   "cell_type": "markdown",
   "metadata": {},
   "source": [
    "### I-Downloading whole genomes from the ncbi website\n",
    "\n",
    "#### Setting up paths "
   ]
  },
  {
   "cell_type": "code",
   "execution_count": 5,
   "metadata": {},
   "outputs": [],
   "source": [
    "bacteriaListPath='../data/Bacteria.list'\n",
    "archaeaListPath='../data/Archea.list'\n",
    "resultsfolder='./refseq/'"
   ]
  },
  {
   "cell_type": "markdown",
   "metadata": {},
   "source": [
    "#### Downloading files"
   ]
  },
  {
   "cell_type": "code",
   "execution_count": 6,
   "metadata": {},
   "outputs": [
    {
     "name": "stdout",
     "output_type": "stream",
     "text": [
      "Downloading Files... \n",
      "\n",
      "Downloading Bacteria Files\n",
      "Downloading: Bactéries\n"
     ]
    },
    {
     "name": "stderr",
     "output_type": "stream",
     "text": [
      "No downloads matched your filter. Please check your options.\n"
     ]
    },
    {
     "name": "stdout",
     "output_type": "stream",
     "text": [
      "Downloading: Acholeplasma laidlawii PG-8A\n",
      "Downloading: Acidobacterium capsulatum ATCC 51196\n",
      "Downloading: Akkermansia muciniphila ATCC BAA-835\n",
      "Downloading: Alicyclobacillus acidocaldarius subsp. acidocaldarius DSM 446\n",
      "Downloading: Aquifex aeolicus VF5\n",
      "Downloading: Bacillus cereus Q1\n",
      "Downloading: Bacillus pseudofirmus OF4\n",
      "Downloading: Bacteroides fragilis YCH46\n",
      "Downloading: Bdellovibrio bacteriovorus HD100\n",
      "Downloading: Bordetella pertussis Tohama I\n",
      "Downloading: Borrelia burgdorferi B31\n"
     ]
    },
    {
     "name": "stderr",
     "output_type": "stream",
     "text": [
      "No downloads matched your filter. Please check your options.\n"
     ]
    },
    {
     "name": "stdout",
     "output_type": "stream",
     "text": [
      "Downloading: Campylobacter jejuni subsp. jejuni 81-176\n",
      "Downloading: Candidatus Amoebophilus asiaticus 5a2\n",
      "Downloading: Candidatus Cloacamonas acidaminovorans\n"
     ]
    },
    {
     "name": "stderr",
     "output_type": "stream",
     "text": [
      "No downloads matched your filter. Please check your options.\n"
     ]
    },
    {
     "name": "stdout",
     "output_type": "stream",
     "text": [
      "Downloading: Candidatus Endomicrobium sp. Rs-D17\n"
     ]
    },
    {
     "name": "stderr",
     "output_type": "stream",
     "text": [
      "No downloads matched your filter. Please check your options.\n"
     ]
    },
    {
     "name": "stdout",
     "output_type": "stream",
     "text": [
      "Downloading: Carboxydothermus hydrogenoformans Z-2901\n",
      "Downloading: Chlamydia trachomatis 434/Bu\n",
      "Downloading: Chlorobium chlorochromatii CaD3\n",
      "Downloading: Chloroflexus aurantiacus J-10-fl\n",
      "Downloading: Clostridium acetobutylicum ATCC 824\n",
      "Downloading: Corynebacterium glutamicum ATCC 13032\n",
      "Downloading: Coxiella burnetii RSA 493\n",
      "Downloading: Cupriavidus taiwanensis\n",
      "Downloading: Cupriavidus taiwanensis\n",
      "Downloading: Cyanothece sp. ATCC 51142\n"
     ]
    },
    {
     "name": "stderr",
     "output_type": "stream",
     "text": [
      "No downloads matched your filter. Please check your options.\n"
     ]
    },
    {
     "name": "stdout",
     "output_type": "stream",
     "text": [
      "Downloading: Cyanothece sp. ATCC 51142\n"
     ]
    },
    {
     "name": "stderr",
     "output_type": "stream",
     "text": [
      "No downloads matched your filter. Please check your options.\n"
     ]
    },
    {
     "name": "stdout",
     "output_type": "stream",
     "text": [
      "Downloading: Dehalococcoides ethenogenes 195\n"
     ]
    },
    {
     "name": "stderr",
     "output_type": "stream",
     "text": [
      "No downloads matched your filter. Please check your options.\n"
     ]
    },
    {
     "name": "stdout",
     "output_type": "stream",
     "text": [
      "Downloading: Deinococcus radiodurans R1\n",
      "Downloading: Deinococcus radiodurans R1\n",
      "Downloading: Dictyoglomus thermophilum H-6-12\n",
      "Downloading: Elusimicrobium minutum Pei191\n",
      "Downloading: Fibrobacter succinogenes subsp. succinogenes S85\n",
      "Downloading: Flavobacterium psychrophilum JIP02/86\n",
      "Downloading: Fusobacterium nucleatum subsp. nucleatum ATCC 25586\n"
     ]
    },
    {
     "name": "stderr",
     "output_type": "stream",
     "text": [
      "No downloads matched your filter. Please check your options.\n"
     ]
    },
    {
     "name": "stdout",
     "output_type": "stream",
     "text": [
      "Downloading: Gemmata obscuriglobus UQM 2246\n",
      "Downloading: Gemmatimonas aurantiaca T-27\n",
      "Downloading: Gloeobacter violaceus PCC 7421\n",
      "Downloading: Leptospira interrogans serovar Lai str. 56601\n",
      "Downloading: Leptospira interrogans serovar Lai str. 56601\n",
      "Downloading: Magnetococcus sp. MC-1\n"
     ]
    },
    {
     "name": "stderr",
     "output_type": "stream",
     "text": [
      "No downloads matched your filter. Please check your options.\n"
     ]
    },
    {
     "name": "stdout",
     "output_type": "stream",
     "text": [
      "Downloading: Methylacidiphilum infernorum V4\n",
      "Downloading: Mycoplasma genitalium G37\n",
      "Downloading: Nostoc punctiforme PCC 73102\n",
      "Downloading: Opitutus terrae PB90-1\n",
      "Downloading: Pedobacter heparinus DSM 2366\n",
      "Downloading: Pirellula staleyi DSM 6068\n",
      "Downloading: Prochlorococcus marinus str. AS9601\n",
      "Downloading: Psychrobacter arcticus 273-4\n",
      "Downloading: Rhizobium leguminosarum bv. trifolii WSM1325\n",
      "Downloading: Rhodopirellula baltica SH 1\n",
      "Downloading: Rhodospirillum rubrum ATCC 11170\n",
      "Downloading: Rickettsia rickettsii str. Iowa\n",
      "Downloading: Shewanella putrefaciens CN-32\n",
      "Downloading: Solibacter usitatus Ellin6076\n"
     ]
    },
    {
     "name": "stderr",
     "output_type": "stream",
     "text": [
      "No downloads matched your filter. Please check your options.\n"
     ]
    },
    {
     "name": "stdout",
     "output_type": "stream",
     "text": [
      "Downloading: Synechococcus elongatus PCC 6301\n",
      "Downloading: Thermanaerovibrio acidaminovorans DSM 6589\n",
      "Downloading: Thermoanaerobacter tengcongensis MB4\n"
     ]
    },
    {
     "name": "stderr",
     "output_type": "stream",
     "text": [
      "No downloads matched your filter. Please check your options.\n"
     ]
    },
    {
     "name": "stdout",
     "output_type": "stream",
     "text": [
      "Downloading: Thermobaculum terrenum ATCC BAA-798\n",
      "Downloading: Thermobaculum terrenum ATCC BAA-798\n",
      "Downloading: Thermodesulfovibrio yellowstonii DSM 11347\n",
      "Downloading: Thermomicrobium roseum DSM 5159\n",
      "Downloading: Thermotoga maritima MSB8\n",
      "Downloading: Thermus thermophilus HB8\n",
      "Downloading Archaea Files\n",
      "Downloading: Archées\n"
     ]
    },
    {
     "name": "stderr",
     "output_type": "stream",
     "text": [
      "No downloads matched your filter. Please check your options.\n"
     ]
    },
    {
     "name": "stdout",
     "output_type": "stream",
     "text": [
      "Downloading: Aeropyrum pernix K1\n",
      "Downloading: Archaeoglobus fulgidus DSM 4304\n",
      "Downloading: Archaeoglobus profundus DSM 5631\n",
      "Downloading: Caldivirga maquilingensis IC-167\n",
      "Downloading: Candidatus Korarchaeum cryptofilum OPF8\n",
      "Downloading: Candidatus Methanoregula boonei 6A8\n"
     ]
    },
    {
     "name": "stderr",
     "output_type": "stream",
     "text": [
      "No downloads matched your filter. Please check your options.\n"
     ]
    },
    {
     "name": "stdout",
     "output_type": "stream",
     "text": [
      "Downloading: Candidatus Methanosphaerula palustris E1-9c\n"
     ]
    },
    {
     "name": "stderr",
     "output_type": "stream",
     "text": [
      "No downloads matched your filter. Please check your options.\n"
     ]
    },
    {
     "name": "stdout",
     "output_type": "stream",
     "text": [
      "Downloading: Cenarchaeum symbiosum A\n"
     ]
    },
    {
     "name": "stderr",
     "output_type": "stream",
     "text": [
      "No downloads matched your filter. Please check your options.\n"
     ]
    },
    {
     "name": "stdout",
     "output_type": "stream",
     "text": [
      "Downloading: Desulfurococcus kamchatkensis 1221n\n"
     ]
    },
    {
     "name": "stderr",
     "output_type": "stream",
     "text": [
      "No downloads matched your filter. Please check your options.\n"
     ]
    },
    {
     "name": "stdout",
     "output_type": "stream",
     "text": [
      "Downloading: Haloarcula marismortui ATCC 43049\n",
      "Downloading: Haloarcula marismortui ATCC 43049\n",
      "Downloading: Halobacterium sp. NRC-1\n"
     ]
    },
    {
     "name": "stderr",
     "output_type": "stream",
     "text": [
      "No downloads matched your filter. Please check your options.\n"
     ]
    },
    {
     "name": "stdout",
     "output_type": "stream",
     "text": [
      "Downloading: Halomicrobium mukohataei DSM 12286\n",
      "Downloading: Haloquadratum walsbyi DSM 16790\n",
      "Downloading: Halorhabdus utahensis DSM 12940\n",
      "Downloading: Halorubrum lacusprofundi ATCC 49239\n",
      "Downloading: Halorubrum lacusprofundi ATCC 49239\n",
      "Downloading: Haloterrigena turkmenica DSM 5511\n",
      "Downloading: Hyperthermus butylicus DSM 5456\n",
      "Downloading: Ignicoccus hospitalis KIN4/I\n",
      "Downloading: Metallosphaera sedula DSM 5348\n",
      "Downloading: Methanobrevibacter ruminantium M1\n",
      "Downloading: Methanocaldococcus fervens AG86\n",
      "Downloading: Methanocella paludicola SANAE\n",
      "Downloading: Methanococcoides burtonii DSM 6242\n",
      "Downloading: Methanococcus aeolicus Nankai-3\n",
      "Downloading: Methanococcus maripaludis C6\n",
      "Downloading: Methanococcus vannielii SB\n",
      "Downloading: Methanocorpusculum labreanum Z\n",
      "Downloading: Methanoculleus marisnigri JR1\n",
      "Downloading: Methanopyrus kandleri AV19\n",
      "Downloading: Methanosaeta thermophila PT\n"
     ]
    },
    {
     "name": "stderr",
     "output_type": "stream",
     "text": [
      "No downloads matched your filter. Please check your options.\n"
     ]
    },
    {
     "name": "stdout",
     "output_type": "stream",
     "text": [
      "Downloading: Methanosarcina acetivorans C2A\n",
      "Downloading: Methanosarcina barkeri str. Fusaro\n",
      "Downloading: Methanosarcina mazei Go1\n",
      "Downloading: Methanosphaera stadtmanae DSM 3091\n",
      "Downloading: Methanospirillum hungatei JF-1\n",
      "Downloading: Nanoarchaeum equitans Kin4-M\n"
     ]
    },
    {
     "name": "stderr",
     "output_type": "stream",
     "text": [
      "No downloads matched your filter. Please check your options.\n"
     ]
    },
    {
     "name": "stdout",
     "output_type": "stream",
     "text": [
      "Downloading: Natronomonas pharaonis DSM 2160\n",
      "Downloading: Nitrosopumilus maritimus SCM1\n",
      "Downloading: Picrophilus torridus DSM 9790\n",
      "Downloading: Pyrobaculum aerophilum str. IM2\n",
      "Downloading: Pyrobaculum arsenaticum DSM 13514\n",
      "Downloading: Pyrococcus abyssi GE5\n",
      "Downloading: Pyrococcus furiosus DSM 3638\n",
      "Downloading: Pyrococcus horikoshii OT3\n",
      "Downloading: Staphylothermus marinus F1\n",
      "Downloading: Sulfolobus acidocaldarius DSM 639\n",
      "Downloading: Sulfolobus solfataricus P2\n"
     ]
    },
    {
     "name": "stderr",
     "output_type": "stream",
     "text": [
      "No downloads matched your filter. Please check your options.\n"
     ]
    },
    {
     "name": "stdout",
     "output_type": "stream",
     "text": [
      "Downloading: Thermococcus gammatolerans EJ3\n",
      "Downloading: Thermofilum pendens Hrk 5\n",
      "Downloading: Thermoplasma acidophilum DSM 1728\n",
      "Downloading: Thermoplasma volcanium GSS1\n",
      "Downloading: Thermoproteus neutrophilus V24Sta\n"
     ]
    },
    {
     "name": "stderr",
     "output_type": "stream",
     "text": [
      "No downloads matched your filter. Please check your options.\n"
     ]
    },
    {
     "name": "stdout",
     "output_type": "stream",
     "text": [
      "{'archaea': {'Methanobrevibacter ruminantium M1': './refseq//archaea/GCF_000024185.1/GCF_000024185.1_ASM2418v1_genomic.fna', 'Staphylothermus marinus F1': './refseq//archaea/GCF_000015945.1/GCF_000015945.1_ASM1594v1_genomic.fna', 'Methanosarcina barkeri str. Fusaro': './refseq//archaea/GCF_000195895.1/GCF_000195895.1_ASM19589v1_genomic.fna', 'Nitrosopumilus maritimus SCM1': './refseq//archaea/GCF_000018465.1/GCF_000018465.1_ASM1846v1_genomic.fna', 'Archaeoglobus profundus DSM 5631': './refseq//archaea/GCF_000025285.1/GCF_000025285.1_ASM2528v1_genomic.fna', 'Caldivirga maquilingensis IC-167': './refseq//archaea/GCF_000018305.1/GCF_000018305.1_ASM1830v1_genomic.fna', 'Methanocella paludicola SANAE': './refseq//archaea/GCF_000011005.1/GCF_000011005.1_ASM1100v1_genomic.fna', 'Haloarcula marismortui ATCC 43049 chromosome I': './refseq//archaea/GCF_000011085.1/GCF_000011085.1_ASM1108v1_genomic.fna', 'Pyrococcus furiosus DSM 3638': './refseq//archaea/GCF_000007305.1/GCF_000007305.1_ASM730v1_genomic.fna', 'Methanosarcina mazei Go1': './refseq//archaea/GCF_000007065.1/GCF_000007065.1_ASM706v1_genomic.fna', 'Aeropyrum pernix K1': './refseq//archaea/GCF_000011125.1/GCF_000011125.1_ASM1112v1_genomic.fna', 'Methanocorpusculum labreanum Z': './refseq//archaea/GCF_000015765.1/GCF_000015765.1_ASM1576v1_genomic.fna', 'Halomicrobium mukohataei DSM 12286': './refseq//archaea/GCF_000023965.1/GCF_000023965.1_ASM2396v1_genomic.fna', 'Picrophilus torridus DSM 9790': './refseq//archaea/GCF_000008265.1/GCF_000008265.1_ASM826v1_genomic.fna', 'Halorhabdus utahensis DSM 12940': './refseq//archaea/GCF_000023945.1/GCF_000023945.1_ASM2394v1_genomic.fna', 'Thermoplasma volcanium GSS1': './refseq//archaea/GCF_000011185.1/GCF_000011185.1_ASM1118v1_genomic.fna', 'Pyrobaculum arsenaticum DSM 13514': './refseq//archaea/GCF_000016385.1/GCF_000016385.1_ASM1638v1_genomic.fna', 'Methanoculleus marisnigri JR1': './refseq//archaea/GCF_000015825.1/GCF_000015825.1_ASM1582v1_genomic.fna', 'Methanococcus aeolicus Nankai-3': './refseq//archaea/GCF_000017185.1/GCF_000017185.1_ASM1718v1_genomic.fna', 'Pyrobaculum aerophilum str. IM2': './refseq//archaea/GCF_000007225.1/GCF_000007225.1_ASM722v1_genomic.fna', 'Thermoplasma acidophilum DSM 1728': './refseq//archaea/GCF_000195915.1/GCF_000195915.1_ASM19591v1_genomic.fna', 'Pyrococcus horikoshii OT3': './refseq//archaea/GCF_000011105.1/GCF_000011105.1_ASM1110v1_genomic.fna', 'Archaeoglobus fulgidus DSM 4304': './refseq//archaea/GCF_000008665.1/GCF_000008665.1_ASM866v1_genomic.fna', 'Candidatus Korarchaeum cryptofilum OPF8': './refseq//archaea/GCF_000019605.1/GCF_000019605.1_ASM1960v1_genomic.fna', 'Methanococcus vannielii SB': './refseq//archaea/GCF_000017165.1/GCF_000017165.1_ASM1716v1_genomic.fna', 'Halorubrum lacusprofundi ATCC 49239 chromosome 1': './refseq//archaea/GCF_000022205.1/GCF_000022205.1_ASM2220v1_genomic.fna', 'Haloquadratum walsbyi DSM 16790': './refseq//archaea/GCF_000009185.1/GCF_000009185.1_ASM918v1_genomic.fna', 'Methanococcoides burtonii DSM 6242': './refseq//archaea/GCF_000013725.1/GCF_000013725.1_ASM1372v1_genomic.fna', 'Methanocaldococcus fervens AG86': './refseq//archaea/GCF_000023985.1/GCF_000023985.1_ASM2398v1_genomic.fna', 'Natronomonas pharaonis DSM 2160': './refseq//archaea/GCF_000026045.1/GCF_000026045.1_ASM2604v1_genomic.fna', 'Methanococcus maripaludis C6': './refseq//archaea/GCF_000018485.1/GCF_000018485.1_ASM1848v1_genomic.fna', 'Thermofilum pendens Hrk 5': './refseq//archaea/GCF_000015225.1/GCF_000015225.1_ASM1522v1_genomic.fna', 'Thermococcus gammatolerans EJ3': './refseq//archaea/GCF_000022365.1/GCF_000022365.1_ASM2236v1_genomic.fna', 'Methanopyrus kandleri AV19': './refseq//archaea/GCF_000007185.1/GCF_000007185.1_ASM718v1_genomic.fna', 'Pyrococcus abyssi GE5': './refseq//archaea/GCF_000195935.2/GCF_000195935.2_ASM19593v2_genomic.fna', 'Methanosarcina acetivorans C2A': './refseq//archaea/GCF_000007345.1/GCF_000007345.1_ASM734v1_genomic.fna', 'Hyperthermus butylicus DSM 5456': './refseq//archaea/GCF_000015145.1/GCF_000015145.1_ASM1514v1_genomic.fna', 'Haloarcula marismortui ATCC 43049': './refseq//archaea/GCF_005310945.1/GCF_005310945.1_ASM531094v1_genomic.fna', 'Methanosphaera stadtmanae DSM 3091': './refseq//archaea/GCF_000012545.1/GCF_000012545.1_ASM1254v1_genomic.fna', 'Ignicoccus hospitalis KIN4/I': './refseq//archaea/GCF_000017945.1/GCF_000017945.1_ASM1794v1_genomic.fna', 'Metallosphaera sedula DSM 5348': './refseq//archaea/GCF_000016605.1/GCF_000016605.1_ASM1660v1_genomic.fna', 'Methanospirillum hungatei JF-1': './refseq//archaea/GCF_000013445.1/GCF_000013445.1_ASM1344v1_genomic.fna', 'Haloterrigena turkmenica DSM 5511': './refseq//archaea/GCF_000025325.1/GCF_000025325.1_ASM2532v1_genomic.fna', 'Sulfolobus acidocaldarius DSM 639': './refseq//archaea/GCF_000012285.1/GCF_000012285.1_ASM1228v1_genomic.fna'}, 'bacteria': {'Synechococcus elongatus PCC 6301': './refseq//bacteria/GCF_000010065.1/GCF_000010065.1_ASM1006v1_genomic.fna', 'Aquifex aeolicus VF5': './refseq//bacteria/GCF_000008625.1/GCF_000008625.1_ASM862v1_genomic.fna', 'Thermotoga maritima MSB8': './refseq//bacteria/GCF_000230655.2/GCF_000230655.2_ASM23065v3_genomic.fna', 'Cupriavidus taiwanensis isolate Cupriavidus taiwanensis STM 6116 chromosome CBM2609_a': './refseq//bacteria/GCF_900249845.1/GCF_900249845.1_CBM2609_genomic.fna', 'Cupriavidus taiwanensis isolate Cupriavidus taiwanensis LMG 19430 chromosome CBM2586_a': './refseq//bacteria/GCF_900249745.1/GCF_900249745.1_CBM2586_genomic.fna', 'Cupriavidus taiwanensis isolate Cupriavidus taiwanensis SWF 65033 ': './refseq//bacteria/GCF_900250075.1/GCF_900250075.1_CBM2638_genomic.fna', 'Gloeobacter violaceus PCC 7421': './refseq//bacteria/GCF_000011385.1/GCF_000011385.1_ASM1138v1_genomic.fna', 'Cupriavidus taiwanensis isolate Cupriavidus taiwanensis STM 6117 chromosome CBM2604_a': './refseq//bacteria/GCF_900249855.1/GCF_900249855.1_CBM2604_genomic.fna', 'Flavobacterium psychrophilum JIP02/86': './refseq//bacteria/GCF_000064305.2/GCF_000064305.2_ASM6430v2_genomic.fna', 'Elusimicrobium minutum Pei191': './refseq//bacteria/GCF_000020145.1/GCF_000020145.1_ASM2014v1_genomic.fna', 'Cupriavidus taiwanensis isolate Cupriavidus taiwanensis LMG 19431 chromosome CT19431': './refseq//bacteria/GCF_900250035.1/GCF_900250035.1_CT19431_genomic.fna', 'Cupriavidus taiwanensis isolate Cupriavidus taiwanensis STM 3711 chromosome CBM2592_a': './refseq//bacteria/GCF_900249765.1/GCF_900249765.1_CBM2592_genomic.fna', 'Cupriavidus taiwanensis isolate Cupriavidus taiwanensis STM 8556 chromosome CBM2613_a': './refseq//bacteria/GCF_900249925.1/GCF_900249925.1_CBM2613_genomic.fna', 'Cupriavidus taiwanensis isolate Cupriavidus taiwanensis MAPUD 10.1': './refseq//bacteria/GCF_900250015.1/GCF_900250015.1_CBM2633_genomic.fna', 'Cupriavidus taiwanensis isolate Cupriavidus taiwanensis STM 6044 ': './refseq//bacteria/GCF_900249795.1/GCF_900249795.1_CBM2598_genomic.fna', 'Cupriavidus taiwanensis isolate Cupriavidus taiwanensis STM 3521 chromosome CBM2589_a': './refseq//bacteria/GCF_900249735.1/GCF_900249735.1_CBM2589_genomic.fna', 'Cupriavidus taiwanensis isolate Cupriavidus taiwanensis STM 6021 chromosome CBM2594_a': './refseq//bacteria/GCF_900249815.1/GCF_900249815.1_CBM2594_genomic.fna', 'Mycoplasma genitalium G37': './refseq//bacteria/GCF_000027325.1/GCF_000027325.1_ASM2732v1_genomic.fna', 'Deinococcus radiodurans R1 chromosome 1': './refseq//bacteria/GCF_000008565.1/GCF_000008565.1_ASM856v1_genomic.fna', 'Rhodopirellula baltica SH 1': './refseq//bacteria/GCF_000196115.1/GCF_000196115.1_ASM19611v1_genomic.fna', 'Thermomicrobium roseum DSM 5159': './refseq//bacteria/GCF_000021685.1/GCF_000021685.1_ASM2168v1_genomic.fna', 'Cupriavidus taiwanensis isolate Cupriavidus taiwanensis mpp 1.3 chromosome CBM2625_a': './refseq//bacteria/GCF_900250005.1/GCF_900250005.1_CBM2625_genomic.fna', 'Cupriavidus taiwanensis isolate Cupriavidus taiwanensis STM 8560 chromosome CBM2617_a': './refseq//bacteria/GCF_900249885.1/GCF_900249885.1_CBM2617_genomic.fna', 'Cupriavidus taiwanensis isolate Cupriavidus taiwanensis STM 3511 chromosome CBM2588_a': './refseq//bacteria/GCF_900249715.1/GCF_900249715.1_CBM2588_genomic.fna', 'Cupriavidus taiwanensis isolate Cupriavidus taiwanensis STM 6119 chromosome CBM2610_a': './refseq//bacteria/GCF_900249895.1/GCF_900249895.1_CBM2610_genomic.fna', 'Coxiella burnetii RSA 493 strain Cb171_QLYMPHOMA': './refseq//bacteria/GCF_000826165.1/GCF_000826165.1_Coxiella_burnetii_Cb171_QLYMPHOMA_genomic.fna', 'Campylobacter jejuni subsp. jejuni 81-176': './refseq//bacteria/GCF_000015525.1/GCF_000015525.1_ASM1552v1_genomic.fna', 'Bordetella pertussis Tohama I': './refseq//bacteria/GCF_004794295.1/GCF_004794295.1_ASM479429v1_genomic.fna', 'Bacteroides fragilis YCH46': './refseq//bacteria/GCF_000009925.1/GCF_000009925.1_ASM992v1_genomic.fna', 'Shewanella putrefaciens CN-32': './refseq//bacteria/GCF_000016585.1/GCF_000016585.1_ASM1658v1_genomic.fna', 'Chlamydia trachomatis 434/Bu': './refseq//bacteria/GCF_000068585.1/GCF_000068585.1_ASM6858v1_genomic.fna', 'Thermodesulfovibrio yellowstonii DSM 11347': './refseq//bacteria/GCF_000020985.1/GCF_000020985.1_ASM2098v1_genomic.fna', 'Cupriavidus taiwanensis strain USM6 USM6_assembled_contig_1': './refseq//bacteria/GCF_013314905.1/GCF_013314905.1_ASM1331490v1_genomic.fna', 'Coxiella burnetii RSA 493': './refseq//bacteria/GCF_000007765.2/GCF_000007765.2_ASM776v2_genomic.fna', 'Cupriavidus taiwanensis isolate Cupriavidus taiwanensis mpp 1.1 chromosome CBM2626_a': './refseq//bacteria/GCF_900249965.1/GCF_900249965.1_CBM2626_genomic.fna', 'Dictyoglomus thermophilum H-6-12': './refseq//bacteria/GCF_000020965.1/GCF_000020965.1_ASM2096v1_genomic.fna', 'Gemmatimonas aurantiaca T-27': './refseq//bacteria/GCF_000010305.1/GCF_000010305.1_ASM1030v1_genomic.fna', 'Prochlorococcus marinus str. AS9601': './refseq//bacteria/GCF_000015645.1/GCF_000015645.1_ASM1564v1_genomic.fna', 'Fibrobacter succinogenes subsp. succinogenes S85': './refseq//bacteria/GCF_000024665.1/GCF_000024665.1_ASM2466v1_genomic.fna', 'Rhizobium leguminosarum bv. trifolii WSM1325': './refseq//bacteria/GCF_000023185.1/GCF_000023185.1_ASM2318v1_genomic.fna', 'Cupriavidus taiwanensis isolate Cupriavidus taiwanensis STM 6041 plasmid I': './refseq//bacteria/GCF_900250105.1/GCF_900250105.1_CBM2596_genomic.fna', 'Acidobacterium capsulatum ATCC 51196': './refseq//bacteria/GCF_000022565.1/GCF_000022565.1_ASM2256v1_genomic.fna', 'Cupriavidus taiwanensis LMG 19424': './refseq//bacteria/GCF_000069785.1/GCF_000069785.1_ASM6978v1_genomic.fna', 'Cupriavidus taiwanensis isolate Cupriavidus taiwanensis TPIG 6a chromosome CBM2629_a': './refseq//bacteria/GCF_900249985.1/GCF_900249985.1_CBM2629_genomic.fna', 'Opitutus terrae PB90-1': './refseq//bacteria/GCF_000019965.1/GCF_000019965.1_ASM1996v1_genomic.fna', 'Pedobacter heparinus DSM 2366 ctg7180000000005_quiver': './refseq//bacteria/GCF_000410815.1/GCF_000410815.1_Pedobacter_heparinus_DSM_2366_HGAP_Assembly_genomic.fna', 'Corynebacterium glutamicum ATCC 13032': './refseq//bacteria/GCF_000011325.1/GCF_000011325.1_ASM1132v1_genomic.fna', 'Cupriavidus taiwanensis isolate Cupriavidus taiwanensis TPUD 27.6 chromosome CBM2631_a': './refseq//bacteria/GCF_900249995.1/GCF_900249995.1_CBM2631_genomic.fna', 'Leptospira interrogans serovar Lai str. 56601 chromosome I': './refseq//bacteria/GCF_000092565.1/GCF_000092565.1_ASM9256v1_genomic.fna', 'Candidatus Amoebophilus asiaticus 5a2': './refseq//bacteria/GCF_000020565.1/GCF_000020565.1_ASM2056v1_genomic.fna', 'Mycoplasma genitalium G37 strain G-37 unique_20': './refseq//bacteria/GCF_000167595.1/GCF_000167595.1_ASM16759v1_genomic.fna', 'Thermanaerovibrio acidaminovorans DSM 6589': './refseq//bacteria/GCF_000024905.1/GCF_000024905.1_ASM2490v1_genomic.fna', 'Bacteroides fragilis YCH46 isolate Bacteroides fragilis 82A12': './refseq//bacteria/GCF_900624785.1/GCF_900624785.1_82A12_genomic.fna', 'Cupriavidus taiwanensis isolate Cupriavidus taiwanensis STM 6043 chromosome CBM2597_a': './refseq//bacteria/GCF_900249835.1/GCF_900249835.1_CBM2597_genomic.fna', 'Cupriavidus taiwanensis isolate Cupriavidus taiwanensis cmp 52': './refseq//bacteria/GCF_900249975.1/GCF_900249975.1_CBM2634_genomic.fna', 'Thermobaculum terrenum ATCC BAA-798 chromosome 1': './refseq//bacteria/GCF_000025005.1/GCF_000025005.1_ASM2500v1_genomic.fna', 'Cupriavidus taiwanensis isolate Cupriavidus taiwanensis STM 3679 ': './refseq//bacteria/GCF_900250115.1/GCF_900250115.1_CBM2590_genomic.fna', 'Cupriavidus taiwanensis isolate Cupriavidus sp. LMG 19464 chromosome CBM2587_a': './refseq//bacteria/GCF_900249755.1/GCF_900249755.1_CBM2587_genomic.fna', 'Cupriavidus taiwanensis isolate Cupriavidus taiwanensis STM 6082 chromosome CBM2605_a': './refseq//bacteria/GCF_900249875.1/GCF_900249875.1_CBM2605_genomic.fna', 'Acholeplasma laidlawii PG-8A': './refseq//bacteria/GCF_000018785.1/GCF_000018785.1_ASM1878v1_genomic.fna', 'Cupriavidus taiwanensis isolate Cupriavidus taiwanensis STM 8561 chromosome CBM2618_a': './refseq//bacteria/GCF_900249935.1/GCF_900249935.1_CBM2618_genomic.fna', 'Pirellula staleyi DSM 6068': './refseq//bacteria/GCF_000025185.1/GCF_000025185.1_ASM2518v1_genomic.fna', 'Cupriavidus taiwanensis isolate Cupriavidus taiwanensis STM 6032 ': './refseq//bacteria/GCF_900249805.1/GCF_900249805.1_CBM2595_genomic.fna', 'Cupriavidus taiwanensis isolate Cupriavidus taiwanensis STM 8565 chromosome CBM2622_a': './refseq//bacteria/GCF_900249955.1/GCF_900249955.1_CBM2622_genomic.fna', 'Cupriavidus taiwanensis isolate Cupriavidus taiwanensis STM 6132 chromosome CBM2599_a': './refseq//bacteria/GCF_900249775.1/GCF_900249775.1_CBM2599_genomic.fna', 'Bdellovibrio bacteriovorus HD100': './refseq//bacteria/GCF_000196175.1/GCF_000196175.1_ASM19617v1_genomic.fna', 'Thermus thermophilus HB8 chromosome 1': './refseq//bacteria/GCF_000091545.1/GCF_000091545.1_ASM9154v1_genomic.fna', 'Cupriavidus taiwanensis isolate Cupriavidus taiwanensis STM 6150 chromosome CBM2608_a': './refseq//bacteria/GCF_900249865.1/GCF_900249865.1_CBM2608_genomic.fna', 'Cupriavidus taiwanensis isolate Cupriavidus taiwanensis SWF 66322 ': './refseq//bacteria/GCF_900250085.1/GCF_900250085.1_CBM2636_genomic.fna', 'Bacillus cereus Q1': './refseq//bacteria/GCF_000013065.1/GCF_000013065.1_ASM1306v1_genomic.fna', 'Cupriavidus taiwanensis isolate Cupriavidus taiwanensis STM 3681': './refseq//bacteria/GCF_900249785.1/GCF_900249785.1_CBM2591_genomic.fna', 'Cupriavidus taiwanensis STM 6018 A3AADRAFT_scaffold_0.1_C': './refseq//bacteria/GCF_000472465.1/GCF_000472465.1_ASM47246v1_genomic.fna', 'Pedobacter heparinus DSM 2366': './refseq//bacteria/GCF_000023825.1/GCF_000023825.1_ASM2382v1_genomic.fna', 'Cupriavidus taiwanensis isolate Cupriavidus taiwanensis STM 6083 ': './refseq//bacteria/GCF_900250055.1/GCF_900250055.1_CBM2606_genomic.fna', 'Bacillus pseudofirmus OF4': './refseq//bacteria/GCF_000005825.2/GCF_000005825.2_ASM582v2_genomic.fna', 'Rhodospirillum rubrum ATCC 11170': './refseq//bacteria/GCF_000013085.1/GCF_000013085.1_ASM1308v1_genomic.fna', 'Cupriavidus taiwanensis isolate Cupriavidus taiwanensis STM 6162 chromosome CBM2600_a': './refseq//bacteria/GCF_900249825.1/GCF_900249825.1_CBM2600_genomic.fna', 'Cupriavidus taiwanensis isolate Cupriavidus taiwanensis ip2.30/pp 2.30 chromosome CBM2623_a': './refseq//bacteria/GCF_900250045.1/GCF_900250045.1_CBM2623_genomic.fna', 'Rickettsia rickettsii str. Iowa': './refseq//bacteria/GCF_000017445.4/GCF_000017445.4_ASM1744v3_genomic.fna', 'Gemmata obscuriglobus UQM 2246 gcontig_1106221710807': './refseq//bacteria/GCF_000171775.1/GCF_000171775.1_ASM17177v1_genomic.fna', 'Cupriavidus taiwanensis isolate Cupriavidus taiwanensis SWF 66324 chromosome CBM2637_a': './refseq//bacteria/GCF_900250025.1/GCF_900250025.1_CBM2637_genomic.fna', 'Chloroflexus aurantiacus J-10-fl': './refseq//bacteria/GCF_000018865.1/GCF_000018865.1_ASM1886v1_genomic.fna', 'Campylobacter jejuni subsp. jejuni 81-176-UMCW7 plasmid pVir': './refseq//bacteria/GCF_000509895.1/GCF_000509895.1_UMCW7_genomic.fna', 'Clostridium acetobutylicum ATCC 824': './refseq//bacteria/GCF_000008765.1/GCF_000008765.1_ASM876v1_genomic.fna', 'Methylacidiphilum infernorum V4': './refseq//bacteria/GCF_000019665.1/GCF_000019665.1_ASM1966v1_genomic.fna', 'Chlorobium chlorochromatii CaD3': './refseq//bacteria/GCF_000012585.1/GCF_000012585.1_ASM1258v1_genomic.fna', 'Cupriavidus taiwanensis isolate Cupriavidus taiwanensis LMG 19426 chromosome CBM2585_a': './refseq//bacteria/GCF_900249705.1/GCF_900249705.1_CBM2585_genomic.fna', 'Akkermansia muciniphila ATCC BAA-835': './refseq//bacteria/GCF_000020225.1/GCF_000020225.1_ASM2022v1_genomic.fna', 'Cupriavidus taiwanensis isolate Cupriavidus taiwanensis STM 8557 chromosome CBM2614_a': './refseq//bacteria/GCF_900249905.1/GCF_900249905.1_CBM2614_genomic.fna', 'Psychrobacter arcticus 273-4': './refseq//bacteria/GCF_000012305.1/GCF_000012305.1_ASM1230v1_genomic.fna', 'Cupriavidus taiwanensis isolate Cupriavidus taiwanensis STM 8558 chromosome CBM2615_a': './refseq//bacteria/GCF_900249915.1/GCF_900249915.1_CBM2615_genomic.fna', 'Bordetella pertussis Tohama I ': './refseq//bacteria/GCF_004794255.1/GCF_004794255.1_ASM479425v1_genomic.fna', 'Alicyclobacillus acidocaldarius subsp. acidocaldarius DSM 446': './refseq//bacteria/GCF_000024285.1/GCF_000024285.1_ASM2428v1_genomic.fna', 'Cupriavidus taiwanensis isolate Cupriavidus taiwanensis LMG 19425 ': './refseq//bacteria/GCF_900250065.1/GCF_900250065.1_CT19425_genomic.fna', 'Nostoc punctiforme PCC 73102': './refseq//bacteria/GCF_000020025.1/GCF_000020025.1_ASM2002v1_genomic.fna', 'Cupriavidus taiwanensis isolate Cupriavidus taiwanensis STM 8564 chromosome CBM2621_a': './refseq//bacteria/GCF_900249945.1/GCF_900249945.1_CBM2621_genomic.fna', 'Carboxydothermus hydrogenoformans Z-2901': './refseq//bacteria/GCF_000012865.1/GCF_000012865.1_ASM1286v1_genomic.fna', 'Gemmata obscuriglobus UQM 2246 ': './refseq//bacteria/GCF_901538385.1/GCF_901538385.1_ASM90153838v1_genomic.fna'}}\n",
      "Following Bacterias Genomes were not downloaded: \n",
      "\n",
      "Borrelia burgdorferi B31\n",
      "Candidatus Cloacamonas acidaminovorans\n",
      "Candidatus Endomicrobium sp. Rs-D17\n",
      "Cupriavidus taiwanensis\n",
      "Cupriavidus taiwanensis\n",
      "Cyanothece sp. ATCC 51142\n",
      "Cyanothece sp. ATCC 51142\n",
      "Dehalococcoides ethenogenes 195\n",
      "Deinococcus radiodurans R1\n",
      "Deinococcus radiodurans R1\n",
      "Fusobacterium nucleatum subsp. nucleatum ATCC 25586\n",
      "Gemmata obscuriglobus UQM 2246\n",
      "Leptospira interrogans serovar Lai str. 56601\n",
      "Leptospira interrogans serovar Lai str. 56601\n",
      "Magnetococcus sp. MC-1\n",
      "Solibacter usitatus Ellin6076\n",
      "Thermoanaerobacter tengcongensis MB4\n",
      "Thermobaculum terrenum ATCC BAA-798\n",
      "Thermobaculum terrenum ATCC BAA-798\n",
      "Thermus thermophilus HB8\n",
      "Following Archaeas Genomes were not downloaded: \n",
      "\n",
      "Candidatus Methanoregula boonei 6A8\n",
      "Candidatus Methanosphaerula palustris E1-9c\n",
      "Cenarchaeum symbiosum A\n",
      "Desulfurococcus kamchatkensis 1221n\n",
      "Halobacterium sp. NRC-1\n",
      "Halorubrum lacusprofundi ATCC 49239\n",
      "Halorubrum lacusprofundi ATCC 49239\n",
      "Methanosaeta thermophila PT\n",
      "Nanoarchaeum equitans Kin4-M\n",
      "Sulfolobus solfataricus P2\n",
      "Thermoproteus neutrophilus V24Sta\n",
      "Elapsed time: 2075.584764957428\n"
     ]
    }
   ],
   "source": [
    "pp.DownloadingSequences('../data/Bacteria.list','../data/Archea.list','./refseq/')"
   ]
  },
  {
   "cell_type": "markdown",
   "metadata": {},
   "source": [
    "### II-Retrieving organisms names linked to their .fna files\n",
    "\n",
    "We used a nested dictionnary to be able to retrieve phylums, organism names and genomin .fna file path\n",
    "\n",
    "\n",
    "\n",
    "**Structure is the following:** $\\color{black}{\\text{Dictionnary}}$**\\[**$\\color{blue}{\\text{Phylum}}$**\\]\\[**$\\color{blue}{\\text{Organism}}$**\\]=**$\\color{red}{\\text{'Path to Genomic File'}}$"
   ]
  },
  {
   "cell_type": "code",
   "execution_count": 11,
   "metadata": {},
   "outputs": [],
   "source": [
    "pathDictionnary=pp.Parsing_Sequences(resultsfolder)\n",
    "pathTest=pathDictionnary['archaea']['Methanosarcina mazei Go1']"
   ]
  },
  {
   "cell_type": "markdown",
   "metadata": {},
   "source": [
    "### III-Computing a K-mer signature from a genomic file\n",
    "\n",
    "To compute a Kmer signature, we need to specify the size of said Kmer and if we want to normalize counts. <br>\n",
    "$\\color{red}{\\text{Warning}}$: If the size of the Kmer is to high, memory issues can appear. We advise you to use Kmer size between **2 and 8 bases**"
   ]
  },
  {
   "cell_type": "code",
   "execution_count": 13,
   "metadata": {},
   "outputs": [],
   "source": [
    "signatureExample=pp.KmerSignature(pathTest,3,False)"
   ]
  },
  {
   "cell_type": "code",
   "execution_count": 14,
   "metadata": {},
   "outputs": [
    {
     "data": {
      "text/html": [
       "<div>\n",
       "<style scoped>\n",
       "    .dataframe tbody tr th:only-of-type {\n",
       "        vertical-align: middle;\n",
       "    }\n",
       "\n",
       "    .dataframe tbody tr th {\n",
       "        vertical-align: top;\n",
       "    }\n",
       "\n",
       "    .dataframe thead th {\n",
       "        text-align: right;\n",
       "    }\n",
       "</style>\n",
       "<table border=\"1\" class=\"dataframe\">\n",
       "  <thead>\n",
       "    <tr style=\"text-align: right;\">\n",
       "      <th></th>\n",
       "      <th>AAA</th>\n",
       "      <th>AAC</th>\n",
       "      <th>AAG</th>\n",
       "      <th>AAT</th>\n",
       "      <th>ACA</th>\n",
       "      <th>ACC</th>\n",
       "      <th>ACG</th>\n",
       "      <th>ACT</th>\n",
       "      <th>AGA</th>\n",
       "      <th>AGC</th>\n",
       "      <th>...</th>\n",
       "      <th>TCG</th>\n",
       "      <th>TCT</th>\n",
       "      <th>TGA</th>\n",
       "      <th>TGC</th>\n",
       "      <th>TGG</th>\n",
       "      <th>TGT</th>\n",
       "      <th>TTA</th>\n",
       "      <th>TTC</th>\n",
       "      <th>TTG</th>\n",
       "      <th>TTT</th>\n",
       "    </tr>\n",
       "  </thead>\n",
       "  <tbody>\n",
       "    <tr>\n",
       "      <th>0</th>\n",
       "      <td>164445</td>\n",
       "      <td>62969</td>\n",
       "      <td>92871</td>\n",
       "      <td>103563</td>\n",
       "      <td>58168</td>\n",
       "      <td>46190</td>\n",
       "      <td>27208</td>\n",
       "      <td>53014</td>\n",
       "      <td>83932</td>\n",
       "      <td>57138</td>\n",
       "      <td>...</td>\n",
       "      <td>34351</td>\n",
       "      <td>83152</td>\n",
       "      <td>78296</td>\n",
       "      <td>62872</td>\n",
       "      <td>49624</td>\n",
       "      <td>58467</td>\n",
       "      <td>83779</td>\n",
       "      <td>104245</td>\n",
       "      <td>69314</td>\n",
       "      <td>161803</td>\n",
       "    </tr>\n",
       "  </tbody>\n",
       "</table>\n",
       "<p>1 rows × 64 columns</p>\n",
       "</div>"
      ],
      "text/plain": [
       "      AAA    AAC    AAG     AAT    ACA    ACC    ACG    ACT    AGA    AGC  \\\n",
       "0  164445  62969  92871  103563  58168  46190  27208  53014  83932  57138   \n",
       "\n",
       "   ...    TCG    TCT    TGA    TGC    TGG    TGT    TTA     TTC    TTG     TTT  \n",
       "0  ...  34351  83152  78296  62872  49624  58467  83779  104245  69314  161803  \n",
       "\n",
       "[1 rows x 64 columns]"
      ]
     },
     "metadata": {},
     "output_type": "display_data"
    }
   ],
   "source": [
    "display(signatureExample)"
   ]
  },
  {
   "cell_type": "markdown",
   "metadata": {},
   "source": [
    "#### à changer avec pl quand la biliothèque existera"
   ]
  },
  {
   "cell_type": "code",
   "execution_count": 16,
   "metadata": {},
   "outputs": [
    {
     "data": {
      "text/plain": [
       "<BarContainer object of 64 artists>"
      ]
     },
     "execution_count": 16,
     "metadata": {},
     "output_type": "execute_result"
    },
    {
     "data": {
      "image/png": "[encoded data removed]",
      "text/plain": [
       "<Figure size 432x288 with 1 Axes>"
      ]
     },
     "metadata": {
      "needs_background": "light"
     },
     "output_type": "display_data"
    }
   ],
   "source": [
    "plt.bar(np.arange(0,len(signatureExample.columns),1),signatureExample.values[0])"
   ]
  },
  {
   "cell_type": "markdown",
   "metadata": {},
   "source": [
    "### IV-Computing a genetic distance matrix for all organisms in a folder"
   ]
  },
  {
   "cell_type": "code",
   "execution_count": 17,
   "metadata": {
    "scrolled": true
   },
   "outputs": [
    {
     "name": "stdout",
     "output_type": "stream",
     "text": [
      "archaea Genome K-mer Computation : 1 / 44\n",
      "archaea Genome K-mer Computation : 2 / 44\n",
      "archaea Genome K-mer Computation : 3 / 44\n",
      "archaea Genome K-mer Computation : 4 / 44\n",
      "archaea Genome K-mer Computation : 5 / 44\n",
      "archaea Genome K-mer Computation : 6 / 44\n",
      "archaea Genome K-mer Computation : 7 / 44\n",
      "archaea Genome K-mer Computation : 8 / 44\n",
      "archaea Genome K-mer Computation : 9 / 44\n",
      "archaea Genome K-mer Computation : 10 / 44\n",
      "archaea Genome K-mer Computation : 11 / 44\n",
      "archaea Genome K-mer Computation : 12 / 44\n",
      "archaea Genome K-mer Computation : 13 / 44\n",
      "archaea Genome K-mer Computation : 14 / 44\n",
      "archaea Genome K-mer Computation : 15 / 44\n",
      "archaea Genome K-mer Computation : 16 / 44\n",
      "archaea Genome K-mer Computation : 17 / 44\n",
      "archaea Genome K-mer Computation : 18 / 44\n",
      "archaea Genome K-mer Computation : 19 / 44\n",
      "archaea Genome K-mer Computation : 20 / 44\n",
      "archaea Genome K-mer Computation : 21 / 44\n",
      "archaea Genome K-mer Computation : 22 / 44\n",
      "archaea Genome K-mer Computation : 23 / 44\n",
      "archaea Genome K-mer Computation : 24 / 44\n",
      "archaea Genome K-mer Computation : 25 / 44\n",
      "archaea Genome K-mer Computation : 26 / 44\n",
      "archaea Genome K-mer Computation : 27 / 44\n",
      "archaea Genome K-mer Computation : 28 / 44\n",
      "archaea Genome K-mer Computation : 29 / 44\n",
      "archaea Genome K-mer Computation : 30 / 44\n",
      "archaea Genome K-mer Computation : 31 / 44\n",
      "archaea Genome K-mer Computation : 32 / 44\n",
      "archaea Genome K-mer Computation : 33 / 44\n",
      "archaea Genome K-mer Computation : 34 / 44\n",
      "archaea Genome K-mer Computation : 35 / 44\n",
      "archaea Genome K-mer Computation : 36 / 44\n",
      "archaea Genome K-mer Computation : 37 / 44\n",
      "archaea Genome K-mer Computation : 38 / 44\n",
      "archaea Genome K-mer Computation : 39 / 44\n",
      "archaea Genome K-mer Computation : 40 / 44\n",
      "archaea Genome K-mer Computation : 41 / 44\n",
      "archaea Genome K-mer Computation : 42 / 44\n",
      "archaea Genome K-mer Computation : 43 / 44\n",
      "archaea Genome K-mer Computation : 44 / 44\n",
      "bacteria Genome K-mer Computation : 1 / 98\n",
      "bacteria Genome K-mer Computation : 2 / 98\n",
      "bacteria Genome K-mer Computation : 3 / 98\n",
      "bacteria Genome K-mer Computation : 4 / 98\n",
      "bacteria Genome K-mer Computation : 5 / 98\n",
      "bacteria Genome K-mer Computation : 6 / 98\n",
      "bacteria Genome K-mer Computation : 7 / 98\n",
      "bacteria Genome K-mer Computation : 8 / 98\n",
      "bacteria Genome K-mer Computation : 9 / 98\n",
      "bacteria Genome K-mer Computation : 10 / 98\n",
      "bacteria Genome K-mer Computation : 11 / 98\n",
      "bacteria Genome K-mer Computation : 12 / 98\n",
      "bacteria Genome K-mer Computation : 13 / 98\n",
      "bacteria Genome K-mer Computation : 14 / 98\n",
      "bacteria Genome K-mer Computation : 15 / 98\n",
      "bacteria Genome K-mer Computation : 16 / 98\n",
      "bacteria Genome K-mer Computation : 17 / 98\n",
      "bacteria Genome K-mer Computation : 18 / 98\n",
      "bacteria Genome K-mer Computation : 19 / 98\n",
      "bacteria Genome K-mer Computation : 20 / 98\n",
      "bacteria Genome K-mer Computation : 21 / 98\n",
      "bacteria Genome K-mer Computation : 22 / 98\n",
      "bacteria Genome K-mer Computation : 23 / 98\n",
      "bacteria Genome K-mer Computation : 24 / 98\n",
      "bacteria Genome K-mer Computation : 25 / 98\n",
      "bacteria Genome K-mer Computation : 26 / 98\n",
      "bacteria Genome K-mer Computation : 27 / 98\n",
      "bacteria Genome K-mer Computation : 28 / 98\n",
      "bacteria Genome K-mer Computation : 29 / 98\n",
      "bacteria Genome K-mer Computation : 30 / 98\n",
      "bacteria Genome K-mer Computation : 31 / 98\n",
      "bacteria Genome K-mer Computation : 32 / 98\n",
      "bacteria Genome K-mer Computation : 33 / 98\n",
      "bacteria Genome K-mer Computation : 34 / 98\n",
      "bacteria Genome K-mer Computation : 35 / 98\n",
      "bacteria Genome K-mer Computation : 36 / 98\n",
      "bacteria Genome K-mer Computation : 37 / 98\n",
      "bacteria Genome K-mer Computation : 38 / 98\n",
      "bacteria Genome K-mer Computation : 39 / 98\n",
      "bacteria Genome K-mer Computation : 40 / 98\n",
      "bacteria Genome K-mer Computation : 41 / 98\n",
      "bacteria Genome K-mer Computation : 42 / 98\n",
      "bacteria Genome K-mer Computation : 43 / 98\n",
      "bacteria Genome K-mer Computation : 44 / 98\n",
      "bacteria Genome K-mer Computation : 45 / 98\n",
      "bacteria Genome K-mer Computation : 46 / 98\n",
      "bacteria Genome K-mer Computation : 47 / 98\n",
      "bacteria Genome K-mer Computation : 48 / 98\n",
      "bacteria Genome K-mer Computation : 49 / 98\n",
      "bacteria Genome K-mer Computation : 50 / 98\n",
      "bacteria Genome K-mer Computation : 51 / 98\n",
      "bacteria Genome K-mer Computation : 52 / 98\n",
      "bacteria Genome K-mer Computation : 53 / 98\n",
      "bacteria Genome K-mer Computation : 54 / 98\n",
      "bacteria Genome K-mer Computation : 55 / 98\n",
      "bacteria Genome K-mer Computation : 56 / 98\n",
      "bacteria Genome K-mer Computation : 57 / 98\n",
      "bacteria Genome K-mer Computation : 58 / 98\n",
      "bacteria Genome K-mer Computation : 59 / 98\n",
      "bacteria Genome K-mer Computation : 60 / 98\n",
      "bacteria Genome K-mer Computation : 61 / 98\n",
      "bacteria Genome K-mer Computation : 62 / 98\n",
      "bacteria Genome K-mer Computation : 63 / 98\n",
      "bacteria Genome K-mer Computation : 64 / 98\n",
      "bacteria Genome K-mer Computation : 65 / 98\n",
      "bacteria Genome K-mer Computation : 66 / 98\n",
      "bacteria Genome K-mer Computation : 67 / 98\n",
      "bacteria Genome K-mer Computation : 68 / 98\n",
      "bacteria Genome K-mer Computation : 69 / 98\n",
      "bacteria Genome K-mer Computation : 70 / 98\n",
      "bacteria Genome K-mer Computation : 71 / 98\n",
      "bacteria Genome K-mer Computation : 72 / 98\n",
      "bacteria Genome K-mer Computation : 73 / 98\n",
      "bacteria Genome K-mer Computation : 74 / 98\n",
      "bacteria Genome K-mer Computation : 75 / 98\n",
      "bacteria Genome K-mer Computation : 76 / 98\n",
      "bacteria Genome K-mer Computation : 77 / 98\n",
      "bacteria Genome K-mer Computation : 78 / 98\n",
      "bacteria Genome K-mer Computation : 79 / 98\n",
      "bacteria Genome K-mer Computation : 80 / 98\n",
      "bacteria Genome K-mer Computation : 81 / 98\n",
      "bacteria Genome K-mer Computation : 82 / 98\n",
      "bacteria Genome K-mer Computation : 83 / 98\n",
      "bacteria Genome K-mer Computation : 84 / 98\n",
      "bacteria Genome K-mer Computation : 85 / 98\n",
      "bacteria Genome K-mer Computation : 86 / 98\n",
      "bacteria Genome K-mer Computation : 87 / 98\n",
      "bacteria Genome K-mer Computation : 88 / 98\n",
      "bacteria Genome K-mer Computation : 89 / 98\n",
      "bacteria Genome K-mer Computation : 90 / 98\n",
      "bacteria Genome K-mer Computation : 91 / 98\n",
      "bacteria Genome K-mer Computation : 92 / 98\n",
      "bacteria Genome K-mer Computation : 93 / 98\n",
      "bacteria Genome K-mer Computation : 94 / 98\n",
      "bacteria Genome K-mer Computation : 95 / 98\n",
      "bacteria Genome K-mer Computation : 96 / 98\n",
      "bacteria Genome K-mer Computation : 97 / 98\n",
      "bacteria Genome K-mer Computation : 98 / 98\n"
     ]
    }
   ],
   "source": [
    "distanceMatrix=pp.DistanceMatrix('./refseq/',3)"
   ]
  },
  {
   "cell_type": "code",
   "execution_count": 18,
   "metadata": {},
   "outputs": [
    {
     "data": {
      "text/html": [
       "<div>\n",
       "<style scoped>\n",
       "    .dataframe tbody tr th:only-of-type {\n",
       "        vertical-align: middle;\n",
       "    }\n",
       "\n",
       "    .dataframe tbody tr th {\n",
       "        vertical-align: top;\n",
       "    }\n",
       "\n",
       "    .dataframe thead th {\n",
       "        text-align: right;\n",
       "    }\n",
       "</style>\n",
       "<table border=\"1\" class=\"dataframe\">\n",
       "  <thead>\n",
       "    <tr style=\"text-align: right;\">\n",
       "      <th></th>\n",
       "      <th>Methanobrevibacter ruminantium M1</th>\n",
       "      <th>Staphylothermus marinus F1</th>\n",
       "      <th>Methanosarcina barkeri str. Fusaro</th>\n",
       "      <th>Nitrosopumilus maritimus SCM1</th>\n",
       "      <th>Archaeoglobus profundus DSM 5631</th>\n",
       "      <th>Caldivirga maquilingensis IC-167</th>\n",
       "      <th>Methanocella paludicola SANAE</th>\n",
       "      <th>Haloarcula marismortui ATCC 43049 chromosome I</th>\n",
       "      <th>Pyrococcus furiosus DSM 3638</th>\n",
       "      <th>Methanosarcina mazei Go1</th>\n",
       "      <th>...</th>\n",
       "      <th>Cupriavidus taiwanensis isolate Cupriavidus taiwanensis STM 8557 chromosome CBM2614_a</th>\n",
       "      <th>Psychrobacter arcticus 273-4</th>\n",
       "      <th>Cupriavidus taiwanensis isolate Cupriavidus taiwanensis STM 8558 chromosome CBM2615_a</th>\n",
       "      <th>Bordetella pertussis Tohama I</th>\n",
       "      <th>Alicyclobacillus acidocaldarius subsp. acidocaldarius DSM 446</th>\n",
       "      <th>Cupriavidus taiwanensis isolate Cupriavidus taiwanensis LMG 19425</th>\n",
       "      <th>Nostoc punctiforme PCC 73102</th>\n",
       "      <th>Cupriavidus taiwanensis isolate Cupriavidus taiwanensis STM 8564 chromosome CBM2621_a</th>\n",
       "      <th>Carboxydothermus hydrogenoformans Z-2901</th>\n",
       "      <th>Gemmata obscuriglobus UQM 2246</th>\n",
       "    </tr>\n",
       "  </thead>\n",
       "  <tbody>\n",
       "    <tr>\n",
       "      <th>Methanobrevibacter ruminantium M1</th>\n",
       "      <td>0.000000</td>\n",
       "      <td>0.040198</td>\n",
       "      <td>0.036123</td>\n",
       "      <td>0.033875</td>\n",
       "      <td>0.057535</td>\n",
       "      <td>0.073932</td>\n",
       "      <td>0.104312</td>\n",
       "      <td>0.138466</td>\n",
       "      <td>0.049919</td>\n",
       "      <td>0.045833</td>\n",
       "      <td>...</td>\n",
       "      <td>0.159843</td>\n",
       "      <td>0.058876</td>\n",
       "      <td>0.159853</td>\n",
       "      <td>0.162066</td>\n",
       "      <td>0.136761</td>\n",
       "      <td>0.158216</td>\n",
       "      <td>0.047525</td>\n",
       "      <td>0.159663</td>\n",
       "      <td>0.051117</td>\n",
       "      <td>0.159248</td>\n",
       "    </tr>\n",
       "    <tr>\n",
       "      <th>Staphylothermus marinus F1</th>\n",
       "      <td>0.040198</td>\n",
       "      <td>0.000000</td>\n",
       "      <td>0.039305</td>\n",
       "      <td>0.052706</td>\n",
       "      <td>0.045592</td>\n",
       "      <td>0.055608</td>\n",
       "      <td>0.089696</td>\n",
       "      <td>0.123439</td>\n",
       "      <td>0.040988</td>\n",
       "      <td>0.046581</td>\n",
       "      <td>...</td>\n",
       "      <td>0.147977</td>\n",
       "      <td>0.050880</td>\n",
       "      <td>0.147985</td>\n",
       "      <td>0.150287</td>\n",
       "      <td>0.124048</td>\n",
       "      <td>0.146270</td>\n",
       "      <td>0.043850</td>\n",
       "      <td>0.147770</td>\n",
       "      <td>0.058537</td>\n",
       "      <td>0.145977</td>\n",
       "    </tr>\n",
       "    <tr>\n",
       "      <th>Methanosarcina barkeri str. Fusaro</th>\n",
       "      <td>0.036123</td>\n",
       "      <td>0.039305</td>\n",
       "      <td>0.000000</td>\n",
       "      <td>0.036871</td>\n",
       "      <td>0.029933</td>\n",
       "      <td>0.061508</td>\n",
       "      <td>0.076610</td>\n",
       "      <td>0.109875</td>\n",
       "      <td>0.026664</td>\n",
       "      <td>0.012079</td>\n",
       "      <td>...</td>\n",
       "      <td>0.134337</td>\n",
       "      <td>0.042672</td>\n",
       "      <td>0.134347</td>\n",
       "      <td>0.136756</td>\n",
       "      <td>0.109463</td>\n",
       "      <td>0.132558</td>\n",
       "      <td>0.026281</td>\n",
       "      <td>0.134085</td>\n",
       "      <td>0.035942</td>\n",
       "      <td>0.131858</td>\n",
       "    </tr>\n",
       "    <tr>\n",
       "      <th>Nitrosopumilus maritimus SCM1</th>\n",
       "      <td>0.033875</td>\n",
       "      <td>0.052706</td>\n",
       "      <td>0.036871</td>\n",
       "      <td>0.000000</td>\n",
       "      <td>0.053086</td>\n",
       "      <td>0.078946</td>\n",
       "      <td>0.103212</td>\n",
       "      <td>0.133101</td>\n",
       "      <td>0.049218</td>\n",
       "      <td>0.045574</td>\n",
       "      <td>...</td>\n",
       "      <td>0.155796</td>\n",
       "      <td>0.057655</td>\n",
       "      <td>0.155806</td>\n",
       "      <td>0.158215</td>\n",
       "      <td>0.131209</td>\n",
       "      <td>0.154070</td>\n",
       "      <td>0.041499</td>\n",
       "      <td>0.155590</td>\n",
       "      <td>0.058284</td>\n",
       "      <td>0.155072</td>\n",
       "    </tr>\n",
       "    <tr>\n",
       "      <th>Archaeoglobus profundus DSM 5631</th>\n",
       "      <td>0.057535</td>\n",
       "      <td>0.045592</td>\n",
       "      <td>0.029933</td>\n",
       "      <td>0.053086</td>\n",
       "      <td>0.000000</td>\n",
       "      <td>0.055529</td>\n",
       "      <td>0.066128</td>\n",
       "      <td>0.096895</td>\n",
       "      <td>0.019966</td>\n",
       "      <td>0.029591</td>\n",
       "      <td>...</td>\n",
       "      <td>0.126226</td>\n",
       "      <td>0.043830</td>\n",
       "      <td>0.126236</td>\n",
       "      <td>0.129145</td>\n",
       "      <td>0.097311</td>\n",
       "      <td>0.124257</td>\n",
       "      <td>0.030273</td>\n",
       "      <td>0.125895</td>\n",
       "      <td>0.050342</td>\n",
       "      <td>0.121329</td>\n",
       "    </tr>\n",
       "    <tr>\n",
       "      <th>...</th>\n",
       "      <td>...</td>\n",
       "      <td>...</td>\n",
       "      <td>...</td>\n",
       "      <td>...</td>\n",
       "      <td>...</td>\n",
       "      <td>...</td>\n",
       "      <td>...</td>\n",
       "      <td>...</td>\n",
       "      <td>...</td>\n",
       "      <td>...</td>\n",
       "      <td>...</td>\n",
       "      <td>...</td>\n",
       "      <td>...</td>\n",
       "      <td>...</td>\n",
       "      <td>...</td>\n",
       "      <td>...</td>\n",
       "      <td>...</td>\n",
       "      <td>...</td>\n",
       "      <td>...</td>\n",
       "      <td>...</td>\n",
       "      <td>...</td>\n",
       "    </tr>\n",
       "    <tr>\n",
       "      <th>Cupriavidus taiwanensis isolate Cupriavidus taiwanensis LMG 19425</th>\n",
       "      <td>0.158216</td>\n",
       "      <td>0.146270</td>\n",
       "      <td>0.132558</td>\n",
       "      <td>0.154070</td>\n",
       "      <td>0.124257</td>\n",
       "      <td>0.126922</td>\n",
       "      <td>0.068470</td>\n",
       "      <td>0.058602</td>\n",
       "      <td>0.132637</td>\n",
       "      <td>0.125736</td>\n",
       "      <td>...</td>\n",
       "      <td>0.002565</td>\n",
       "      <td>0.111433</td>\n",
       "      <td>0.002602</td>\n",
       "      <td>0.010821</td>\n",
       "      <td>0.040399</td>\n",
       "      <td>0.000000</td>\n",
       "      <td>0.121371</td>\n",
       "      <td>0.002274</td>\n",
       "      <td>0.127239</td>\n",
       "      <td>0.037505</td>\n",
       "    </tr>\n",
       "    <tr>\n",
       "      <th>Nostoc punctiforme PCC 73102</th>\n",
       "      <td>0.047525</td>\n",
       "      <td>0.043850</td>\n",
       "      <td>0.026281</td>\n",
       "      <td>0.041499</td>\n",
       "      <td>0.030273</td>\n",
       "      <td>0.052475</td>\n",
       "      <td>0.070320</td>\n",
       "      <td>0.100853</td>\n",
       "      <td>0.032654</td>\n",
       "      <td>0.030271</td>\n",
       "      <td>...</td>\n",
       "      <td>0.123147</td>\n",
       "      <td>0.027021</td>\n",
       "      <td>0.123157</td>\n",
       "      <td>0.125821</td>\n",
       "      <td>0.099718</td>\n",
       "      <td>0.121371</td>\n",
       "      <td>0.000000</td>\n",
       "      <td>0.122942</td>\n",
       "      <td>0.040445</td>\n",
       "      <td>0.121936</td>\n",
       "    </tr>\n",
       "    <tr>\n",
       "      <th>Cupriavidus taiwanensis isolate Cupriavidus taiwanensis STM 8564 chromosome CBM2621_a</th>\n",
       "      <td>0.159663</td>\n",
       "      <td>0.147770</td>\n",
       "      <td>0.134085</td>\n",
       "      <td>0.155590</td>\n",
       "      <td>0.125895</td>\n",
       "      <td>0.128387</td>\n",
       "      <td>0.070057</td>\n",
       "      <td>0.060007</td>\n",
       "      <td>0.134211</td>\n",
       "      <td>0.127256</td>\n",
       "      <td>...</td>\n",
       "      <td>0.001045</td>\n",
       "      <td>0.112983</td>\n",
       "      <td>0.001021</td>\n",
       "      <td>0.010048</td>\n",
       "      <td>0.041914</td>\n",
       "      <td>0.002274</td>\n",
       "      <td>0.122942</td>\n",
       "      <td>0.000000</td>\n",
       "      <td>0.128593</td>\n",
       "      <td>0.038014</td>\n",
       "    </tr>\n",
       "    <tr>\n",
       "      <th>Carboxydothermus hydrogenoformans Z-2901</th>\n",
       "      <td>0.051117</td>\n",
       "      <td>0.058537</td>\n",
       "      <td>0.035942</td>\n",
       "      <td>0.058284</td>\n",
       "      <td>0.050342</td>\n",
       "      <td>0.067222</td>\n",
       "      <td>0.076339</td>\n",
       "      <td>0.109355</td>\n",
       "      <td>0.046505</td>\n",
       "      <td>0.036316</td>\n",
       "      <td>...</td>\n",
       "      <td>0.128798</td>\n",
       "      <td>0.052620</td>\n",
       "      <td>0.128808</td>\n",
       "      <td>0.130696</td>\n",
       "      <td>0.107528</td>\n",
       "      <td>0.127239</td>\n",
       "      <td>0.040445</td>\n",
       "      <td>0.128593</td>\n",
       "      <td>0.000000</td>\n",
       "      <td>0.123723</td>\n",
       "    </tr>\n",
       "    <tr>\n",
       "      <th>Gemmata obscuriglobus UQM 2246</th>\n",
       "      <td>0.159248</td>\n",
       "      <td>0.145977</td>\n",
       "      <td>0.131858</td>\n",
       "      <td>0.155072</td>\n",
       "      <td>0.121329</td>\n",
       "      <td>0.125935</td>\n",
       "      <td>0.065572</td>\n",
       "      <td>0.042892</td>\n",
       "      <td>0.130573</td>\n",
       "      <td>0.124750</td>\n",
       "      <td>...</td>\n",
       "      <td>0.038421</td>\n",
       "      <td>0.115547</td>\n",
       "      <td>0.038428</td>\n",
       "      <td>0.040382</td>\n",
       "      <td>0.037073</td>\n",
       "      <td>0.037505</td>\n",
       "      <td>0.121936</td>\n",
       "      <td>0.038014</td>\n",
       "      <td>0.123723</td>\n",
       "      <td>0.000000</td>\n",
       "    </tr>\n",
       "  </tbody>\n",
       "</table>\n",
       "<p>142 rows × 142 columns</p>\n",
       "</div>"
      ],
      "text/plain": [
       "                                                    Methanobrevibacter ruminantium M1  \\\n",
       "Methanobrevibacter ruminantium M1                                            0.000000   \n",
       "Staphylothermus marinus F1                                                   0.040198   \n",
       "Methanosarcina barkeri str. Fusaro                                           0.036123   \n",
       "Nitrosopumilus maritimus SCM1                                                0.033875   \n",
       "Archaeoglobus profundus DSM 5631                                             0.057535   \n",
       "...                                                                               ...   \n",
       "Cupriavidus taiwanensis isolate Cupriavidus tai...                           0.158216   \n",
       "Nostoc punctiforme PCC 73102                                                 0.047525   \n",
       "Cupriavidus taiwanensis isolate Cupriavidus tai...                           0.159663   \n",
       "Carboxydothermus hydrogenoformans Z-2901                                     0.051117   \n",
       "Gemmata obscuriglobus UQM 2246                                               0.159248   \n",
       "\n",
       "                                                    Staphylothermus marinus F1  \\\n",
       "Methanobrevibacter ruminantium M1                                     0.040198   \n",
       "Staphylothermus marinus F1                                            0.000000   \n",
       "Methanosarcina barkeri str. Fusaro                                    0.039305   \n",
       "Nitrosopumilus maritimus SCM1                                         0.052706   \n",
       "Archaeoglobus profundus DSM 5631                                      0.045592   \n",
       "...                                                                        ...   \n",
       "Cupriavidus taiwanensis isolate Cupriavidus tai...                    0.146270   \n",
       "Nostoc punctiforme PCC 73102                                          0.043850   \n",
       "Cupriavidus taiwanensis isolate Cupriavidus tai...                    0.147770   \n",
       "Carboxydothermus hydrogenoformans Z-2901                              0.058537   \n",
       "Gemmata obscuriglobus UQM 2246                                        0.145977   \n",
       "\n",
       "                                                    Methanosarcina barkeri str. Fusaro  \\\n",
       "Methanobrevibacter ruminantium M1                                             0.036123   \n",
       "Staphylothermus marinus F1                                                    0.039305   \n",
       "Methanosarcina barkeri str. Fusaro                                            0.000000   \n",
       "Nitrosopumilus maritimus SCM1                                                 0.036871   \n",
       "Archaeoglobus profundus DSM 5631                                              0.029933   \n",
       "...                                                                                ...   \n",
       "Cupriavidus taiwanensis isolate Cupriavidus tai...                            0.132558   \n",
       "Nostoc punctiforme PCC 73102                                                  0.026281   \n",
       "Cupriavidus taiwanensis isolate Cupriavidus tai...                            0.134085   \n",
       "Carboxydothermus hydrogenoformans Z-2901                                      0.035942   \n",
       "Gemmata obscuriglobus UQM 2246                                                0.131858   \n",
       "\n",
       "                                                    Nitrosopumilus maritimus SCM1  \\\n",
       "Methanobrevibacter ruminantium M1                                        0.033875   \n",
       "Staphylothermus marinus F1                                               0.052706   \n",
       "Methanosarcina barkeri str. Fusaro                                       0.036871   \n",
       "Nitrosopumilus maritimus SCM1                                            0.000000   \n",
       "Archaeoglobus profundus DSM 5631                                         0.053086   \n",
       "...                                                                           ...   \n",
       "Cupriavidus taiwanensis isolate Cupriavidus tai...                       0.154070   \n",
       "Nostoc punctiforme PCC 73102                                             0.041499   \n",
       "Cupriavidus taiwanensis isolate Cupriavidus tai...                       0.155590   \n",
       "Carboxydothermus hydrogenoformans Z-2901                                 0.058284   \n",
       "Gemmata obscuriglobus UQM 2246                                           0.155072   \n",
       "\n",
       "                                                    Archaeoglobus profundus DSM 5631  \\\n",
       "Methanobrevibacter ruminantium M1                                           0.057535   \n",
       "Staphylothermus marinus F1                                                  0.045592   \n",
       "Methanosarcina barkeri str. Fusaro                                          0.029933   \n",
       "Nitrosopumilus maritimus SCM1                                               0.053086   \n",
       "Archaeoglobus profundus DSM 5631                                            0.000000   \n",
       "...                                                                              ...   \n",
       "Cupriavidus taiwanensis isolate Cupriavidus tai...                          0.124257   \n",
       "Nostoc punctiforme PCC 73102                                                0.030273   \n",
       "Cupriavidus taiwanensis isolate Cupriavidus tai...                          0.125895   \n",
       "Carboxydothermus hydrogenoformans Z-2901                                    0.050342   \n",
       "Gemmata obscuriglobus UQM 2246                                              0.121329   \n",
       "\n",
       "                                                    Caldivirga maquilingensis IC-167  \\\n",
       "Methanobrevibacter ruminantium M1                                           0.073932   \n",
       "Staphylothermus marinus F1                                                  0.055608   \n",
       "Methanosarcina barkeri str. Fusaro                                          0.061508   \n",
       "Nitrosopumilus maritimus SCM1                                               0.078946   \n",
       "Archaeoglobus profundus DSM 5631                                            0.055529   \n",
       "...                                                                              ...   \n",
       "Cupriavidus taiwanensis isolate Cupriavidus tai...                          0.126922   \n",
       "Nostoc punctiforme PCC 73102                                                0.052475   \n",
       "Cupriavidus taiwanensis isolate Cupriavidus tai...                          0.128387   \n",
       "Carboxydothermus hydrogenoformans Z-2901                                    0.067222   \n",
       "Gemmata obscuriglobus UQM 2246                                              0.125935   \n",
       "\n",
       "                                                    Methanocella paludicola SANAE  \\\n",
       "Methanobrevibacter ruminantium M1                                        0.104312   \n",
       "Staphylothermus marinus F1                                               0.089696   \n",
       "Methanosarcina barkeri str. Fusaro                                       0.076610   \n",
       "Nitrosopumilus maritimus SCM1                                            0.103212   \n",
       "Archaeoglobus profundus DSM 5631                                         0.066128   \n",
       "...                                                                           ...   \n",
       "Cupriavidus taiwanensis isolate Cupriavidus tai...                       0.068470   \n",
       "Nostoc punctiforme PCC 73102                                             0.070320   \n",
       "Cupriavidus taiwanensis isolate Cupriavidus tai...                       0.070057   \n",
       "Carboxydothermus hydrogenoformans Z-2901                                 0.076339   \n",
       "Gemmata obscuriglobus UQM 2246                                           0.065572   \n",
       "\n",
       "                                                    Haloarcula marismortui ATCC 43049 chromosome I  \\\n",
       "Methanobrevibacter ruminantium M1                                                         0.138466   \n",
       "Staphylothermus marinus F1                                                                0.123439   \n",
       "Methanosarcina barkeri str. Fusaro                                                        0.109875   \n",
       "Nitrosopumilus maritimus SCM1                                                             0.133101   \n",
       "Archaeoglobus profundus DSM 5631                                                          0.096895   \n",
       "...                                                                                            ...   \n",
       "Cupriavidus taiwanensis isolate Cupriavidus tai...                                        0.058602   \n",
       "Nostoc punctiforme PCC 73102                                                              0.100853   \n",
       "Cupriavidus taiwanensis isolate Cupriavidus tai...                                        0.060007   \n",
       "Carboxydothermus hydrogenoformans Z-2901                                                  0.109355   \n",
       "Gemmata obscuriglobus UQM 2246                                                            0.042892   \n",
       "\n",
       "                                                    Pyrococcus furiosus DSM 3638  \\\n",
       "Methanobrevibacter ruminantium M1                                       0.049919   \n",
       "Staphylothermus marinus F1                                              0.040988   \n",
       "Methanosarcina barkeri str. Fusaro                                      0.026664   \n",
       "Nitrosopumilus maritimus SCM1                                           0.049218   \n",
       "Archaeoglobus profundus DSM 5631                                        0.019966   \n",
       "...                                                                          ...   \n",
       "Cupriavidus taiwanensis isolate Cupriavidus tai...                      0.132637   \n",
       "Nostoc punctiforme PCC 73102                                            0.032654   \n",
       "Cupriavidus taiwanensis isolate Cupriavidus tai...                      0.134211   \n",
       "Carboxydothermus hydrogenoformans Z-2901                                0.046505   \n",
       "Gemmata obscuriglobus UQM 2246                                          0.130573   \n",
       "\n",
       "                                                    Methanosarcina mazei Go1  \\\n",
       "Methanobrevibacter ruminantium M1                                   0.045833   \n",
       "Staphylothermus marinus F1                                          0.046581   \n",
       "Methanosarcina barkeri str. Fusaro                                  0.012079   \n",
       "Nitrosopumilus maritimus SCM1                                       0.045574   \n",
       "Archaeoglobus profundus DSM 5631                                    0.029591   \n",
       "...                                                                      ...   \n",
       "Cupriavidus taiwanensis isolate Cupriavidus tai...                  0.125736   \n",
       "Nostoc punctiforme PCC 73102                                        0.030271   \n",
       "Cupriavidus taiwanensis isolate Cupriavidus tai...                  0.127256   \n",
       "Carboxydothermus hydrogenoformans Z-2901                            0.036316   \n",
       "Gemmata obscuriglobus UQM 2246                                      0.124750   \n",
       "\n",
       "                                                    ...  \\\n",
       "Methanobrevibacter ruminantium M1                   ...   \n",
       "Staphylothermus marinus F1                          ...   \n",
       "Methanosarcina barkeri str. Fusaro                  ...   \n",
       "Nitrosopumilus maritimus SCM1                       ...   \n",
       "Archaeoglobus profundus DSM 5631                    ...   \n",
       "...                                                 ...   \n",
       "Cupriavidus taiwanensis isolate Cupriavidus tai...  ...   \n",
       "Nostoc punctiforme PCC 73102                        ...   \n",
       "Cupriavidus taiwanensis isolate Cupriavidus tai...  ...   \n",
       "Carboxydothermus hydrogenoformans Z-2901            ...   \n",
       "Gemmata obscuriglobus UQM 2246                      ...   \n",
       "\n",
       "                                                    Cupriavidus taiwanensis isolate Cupriavidus taiwanensis STM 8557 chromosome CBM2614_a  \\\n",
       "Methanobrevibacter ruminantium M1                                                            0.159843                                       \n",
       "Staphylothermus marinus F1                                                                   0.147977                                       \n",
       "Methanosarcina barkeri str. Fusaro                                                           0.134337                                       \n",
       "Nitrosopumilus maritimus SCM1                                                                0.155796                                       \n",
       "Archaeoglobus profundus DSM 5631                                                             0.126226                                       \n",
       "...                                                                                               ...                                       \n",
       "Cupriavidus taiwanensis isolate Cupriavidus tai...                                           0.002565                                       \n",
       "Nostoc punctiforme PCC 73102                                                                 0.123147                                       \n",
       "Cupriavidus taiwanensis isolate Cupriavidus tai...                                           0.001045                                       \n",
       "Carboxydothermus hydrogenoformans Z-2901                                                     0.128798                                       \n",
       "Gemmata obscuriglobus UQM 2246                                                               0.038421                                       \n",
       "\n",
       "                                                    Psychrobacter arcticus 273-4  \\\n",
       "Methanobrevibacter ruminantium M1                                       0.058876   \n",
       "Staphylothermus marinus F1                                              0.050880   \n",
       "Methanosarcina barkeri str. Fusaro                                      0.042672   \n",
       "Nitrosopumilus maritimus SCM1                                           0.057655   \n",
       "Archaeoglobus profundus DSM 5631                                        0.043830   \n",
       "...                                                                          ...   \n",
       "Cupriavidus taiwanensis isolate Cupriavidus tai...                      0.111433   \n",
       "Nostoc punctiforme PCC 73102                                            0.027021   \n",
       "Cupriavidus taiwanensis isolate Cupriavidus tai...                      0.112983   \n",
       "Carboxydothermus hydrogenoformans Z-2901                                0.052620   \n",
       "Gemmata obscuriglobus UQM 2246                                          0.115547   \n",
       "\n",
       "                                                    Cupriavidus taiwanensis isolate Cupriavidus taiwanensis STM 8558 chromosome CBM2615_a  \\\n",
       "Methanobrevibacter ruminantium M1                                                            0.159853                                       \n",
       "Staphylothermus marinus F1                                                                   0.147985                                       \n",
       "Methanosarcina barkeri str. Fusaro                                                           0.134347                                       \n",
       "Nitrosopumilus maritimus SCM1                                                                0.155806                                       \n",
       "Archaeoglobus profundus DSM 5631                                                             0.126236                                       \n",
       "...                                                                                               ...                                       \n",
       "Cupriavidus taiwanensis isolate Cupriavidus tai...                                           0.002602                                       \n",
       "Nostoc punctiforme PCC 73102                                                                 0.123157                                       \n",
       "Cupriavidus taiwanensis isolate Cupriavidus tai...                                           0.001021                                       \n",
       "Carboxydothermus hydrogenoformans Z-2901                                                     0.128808                                       \n",
       "Gemmata obscuriglobus UQM 2246                                                               0.038428                                       \n",
       "\n",
       "                                                    Bordetella pertussis Tohama I   \\\n",
       "Methanobrevibacter ruminantium M1                                         0.162066   \n",
       "Staphylothermus marinus F1                                                0.150287   \n",
       "Methanosarcina barkeri str. Fusaro                                        0.136756   \n",
       "Nitrosopumilus maritimus SCM1                                             0.158215   \n",
       "Archaeoglobus profundus DSM 5631                                          0.129145   \n",
       "...                                                                            ...   \n",
       "Cupriavidus taiwanensis isolate Cupriavidus tai...                        0.010821   \n",
       "Nostoc punctiforme PCC 73102                                              0.125821   \n",
       "Cupriavidus taiwanensis isolate Cupriavidus tai...                        0.010048   \n",
       "Carboxydothermus hydrogenoformans Z-2901                                  0.130696   \n",
       "Gemmata obscuriglobus UQM 2246                                            0.040382   \n",
       "\n",
       "                                                    Alicyclobacillus acidocaldarius subsp. acidocaldarius DSM 446  \\\n",
       "Methanobrevibacter ruminantium M1                                                            0.136761               \n",
       "Staphylothermus marinus F1                                                                   0.124048               \n",
       "Methanosarcina barkeri str. Fusaro                                                           0.109463               \n",
       "Nitrosopumilus maritimus SCM1                                                                0.131209               \n",
       "Archaeoglobus profundus DSM 5631                                                             0.097311               \n",
       "...                                                                                               ...               \n",
       "Cupriavidus taiwanensis isolate Cupriavidus tai...                                           0.040399               \n",
       "Nostoc punctiforme PCC 73102                                                                 0.099718               \n",
       "Cupriavidus taiwanensis isolate Cupriavidus tai...                                           0.041914               \n",
       "Carboxydothermus hydrogenoformans Z-2901                                                     0.107528               \n",
       "Gemmata obscuriglobus UQM 2246                                                               0.037073               \n",
       "\n",
       "                                                    Cupriavidus taiwanensis isolate Cupriavidus taiwanensis LMG 19425   \\\n",
       "Methanobrevibacter ruminantium M1                                                            0.158216                    \n",
       "Staphylothermus marinus F1                                                                   0.146270                    \n",
       "Methanosarcina barkeri str. Fusaro                                                           0.132558                    \n",
       "Nitrosopumilus maritimus SCM1                                                                0.154070                    \n",
       "Archaeoglobus profundus DSM 5631                                                             0.124257                    \n",
       "...                                                                                               ...                    \n",
       "Cupriavidus taiwanensis isolate Cupriavidus tai...                                           0.000000                    \n",
       "Nostoc punctiforme PCC 73102                                                                 0.121371                    \n",
       "Cupriavidus taiwanensis isolate Cupriavidus tai...                                           0.002274                    \n",
       "Carboxydothermus hydrogenoformans Z-2901                                                     0.127239                    \n",
       "Gemmata obscuriglobus UQM 2246                                                               0.037505                    \n",
       "\n",
       "                                                    Nostoc punctiforme PCC 73102  \\\n",
       "Methanobrevibacter ruminantium M1                                       0.047525   \n",
       "Staphylothermus marinus F1                                              0.043850   \n",
       "Methanosarcina barkeri str. Fusaro                                      0.026281   \n",
       "Nitrosopumilus maritimus SCM1                                           0.041499   \n",
       "Archaeoglobus profundus DSM 5631                                        0.030273   \n",
       "...                                                                          ...   \n",
       "Cupriavidus taiwanensis isolate Cupriavidus tai...                      0.121371   \n",
       "Nostoc punctiforme PCC 73102                                            0.000000   \n",
       "Cupriavidus taiwanensis isolate Cupriavidus tai...                      0.122942   \n",
       "Carboxydothermus hydrogenoformans Z-2901                                0.040445   \n",
       "Gemmata obscuriglobus UQM 2246                                          0.121936   \n",
       "\n",
       "                                                    Cupriavidus taiwanensis isolate Cupriavidus taiwanensis STM 8564 chromosome CBM2621_a  \\\n",
       "Methanobrevibacter ruminantium M1                                                            0.159663                                       \n",
       "Staphylothermus marinus F1                                                                   0.147770                                       \n",
       "Methanosarcina barkeri str. Fusaro                                                           0.134085                                       \n",
       "Nitrosopumilus maritimus SCM1                                                                0.155590                                       \n",
       "Archaeoglobus profundus DSM 5631                                                             0.125895                                       \n",
       "...                                                                                               ...                                       \n",
       "Cupriavidus taiwanensis isolate Cupriavidus tai...                                           0.002274                                       \n",
       "Nostoc punctiforme PCC 73102                                                                 0.122942                                       \n",
       "Cupriavidus taiwanensis isolate Cupriavidus tai...                                           0.000000                                       \n",
       "Carboxydothermus hydrogenoformans Z-2901                                                     0.128593                                       \n",
       "Gemmata obscuriglobus UQM 2246                                                               0.038014                                       \n",
       "\n",
       "                                                    Carboxydothermus hydrogenoformans Z-2901  \\\n",
       "Methanobrevibacter ruminantium M1                                                   0.051117   \n",
       "Staphylothermus marinus F1                                                          0.058537   \n",
       "Methanosarcina barkeri str. Fusaro                                                  0.035942   \n",
       "Nitrosopumilus maritimus SCM1                                                       0.058284   \n",
       "Archaeoglobus profundus DSM 5631                                                    0.050342   \n",
       "...                                                                                      ...   \n",
       "Cupriavidus taiwanensis isolate Cupriavidus tai...                                  0.127239   \n",
       "Nostoc punctiforme PCC 73102                                                        0.040445   \n",
       "Cupriavidus taiwanensis isolate Cupriavidus tai...                                  0.128593   \n",
       "Carboxydothermus hydrogenoformans Z-2901                                            0.000000   \n",
       "Gemmata obscuriglobus UQM 2246                                                      0.123723   \n",
       "\n",
       "                                                    Gemmata obscuriglobus UQM 2246   \n",
       "Methanobrevibacter ruminantium M1                                          0.159248  \n",
       "Staphylothermus marinus F1                                                 0.145977  \n",
       "Methanosarcina barkeri str. Fusaro                                         0.131858  \n",
       "Nitrosopumilus maritimus SCM1                                              0.155072  \n",
       "Archaeoglobus profundus DSM 5631                                           0.121329  \n",
       "...                                                                             ...  \n",
       "Cupriavidus taiwanensis isolate Cupriavidus tai...                         0.037505  \n",
       "Nostoc punctiforme PCC 73102                                               0.121936  \n",
       "Cupriavidus taiwanensis isolate Cupriavidus tai...                         0.038014  \n",
       "Carboxydothermus hydrogenoformans Z-2901                                   0.123723  \n",
       "Gemmata obscuriglobus UQM 2246                                             0.000000  \n",
       "\n",
       "[142 rows x 142 columns]"
      ]
     },
     "metadata": {},
     "output_type": "display_data"
    }
   ],
   "source": [
    "display(distanceMatrix)"
   ]
  },
  {
   "cell_type": "markdown",
   "metadata": {},
   "source": [
    "### V-Computing a tree from a distance matrix using Neighbour Joining"
   ]
  },
  {
   "cell_type": "code",
   "execution_count": 19,
   "metadata": {},
   "outputs": [
    {
     "name": "stdout",
     "output_type": "stream",
     "text": [
      "Cupriavidus taiwanensis isolate Cupriavidus taiwanensis STM 8565 chromosome CBM2622_a:0((((Cupriavidus taiwanensis isolate Cupriavidus taiwanensis STM 8560 chromosome CBM2617_a:2.088319860673295e-05,Cupriavidus taiwanensis isolate Cupriavidus taiwanensis STM 8564 chromosome CBM2621_a:2.7057566132185472e-05):1.0647796163921478e-05),((Cupriavidus taiwanensis isolate Cupriavidus taiwanensis STM 8561 chromosome CBM2618_a:5.0441631504483445e-05,((((((Cupriavidus taiwanensis isolate Cupriavidus taiwanensis ip2.30/pp 2.30 chromosome CBM2623_a:0.00010349340470172934,((Cupriavidus taiwanensis isolate Cupriavidus taiwanensis STM 3511 chromosome CBM2588_a:6.255494915231744e-05,Cupriavidus taiwanensis isolate Cupriavidus taiwanensis STM 6150 chromosome CBM2608_a:0.00013012958594734174):3.126199122754653e-05)):0.00018643629977159443),((Cupriavidus taiwanensis isolate Cupriavidus taiwanensis STM 3521 chromosome CBM2589_a:0.0002864949529086644,((((((Cupriavidus taiwanensis isolate Cupriavidus taiwanensis LMG 19430 chromosome CBM2586_a:0.0003665597220743146,((Cupriavidus taiwanensis isolate Cupriavidus taiwanensis MAPUD 10.1:0.0001899201095160696,Cupriavidus taiwanensis isolate Cupriavidus taiwanensis mpp 1.1 chromosome CBM2626_a:0.000303201918211035):5.967715099814406e-05)):0.00012801887789333548),((((Cupriavidus taiwanensis isolate Cupriavidus taiwanensis SWF 66322 :0.0001618277569618219,((Cupriavidus taiwanensis isolate Cupriavidus taiwanensis STM 6162 chromosome CBM2600_a:0.000181292027666527,((Cupriavidus taiwanensis isolate Cupriavidus taiwanensis STM 6132 chromosome CBM2599_a:0.0003657003184895627,Cupriavidus taiwanensis isolate Cupriavidus taiwanensis STM 6083 :0.0003087440255661677):5.70922531505678e-05)):3.2556579745233257e-05)):0.0001796753194130499),((((Cupriavidus taiwanensis isolate Cupriavidus taiwanensis SWF 65033 :0.0005315324988124576,Cupriavidus taiwanensis isolate Cupriavidus taiwanensis LMG 19431 chromosome CT19431:0.0007610168989924772):0.00012561542576975418),((Cupriavidus taiwanensis LMG 19424:0.0005874792663435686,((Cupriavidus taiwanensis isolate Cupriavidus taiwanensis cmp 52:0.0002884842666774695,((Cupriavidus taiwanensis isolate Cupriavidus taiwanensis STM 3679 :0.0004797132963304503,((Cupriavidus taiwanensis isolate Cupriavidus taiwanensis LMG 19425 :0.001032629352153851,((((Cupriavidus taiwanensis isolate Cupriavidus taiwanensis STM 6032 :0.000126253937696101,Cupriavidus taiwanensis isolate Cupriavidus taiwanensis LMG 19426 chromosome CBM2585_a:0.00019230921206072032):0.00020007626394418843),((Cupriavidus taiwanensis STM 6018 A3AADRAFT_scaffold_0.1_C:0.00042446375200946135,((Cupriavidus taiwanensis isolate Cupriavidus taiwanensis STM 6044 :0.0014104517303161034,((Cupriavidus taiwanensis isolate Cupriavidus taiwanensis STM 6041 plasmid I:0.0001719205940146104,((Cupriavidus taiwanensis isolate Cupriavidus taiwanensis STM 6021 chromosome CBM2594_a:0.0001080374582793195,Cupriavidus taiwanensis isolate Cupriavidus taiwanensis STM 6043 chromosome CBM2597_a:0.00016005267711072376):0.0004180640316713189)):0.00028198917183515316)):0.00030663796302022326)):0.00018520772596014102)):0.00012470430406496006)):0.00020027580865483383)):6.771279392290142e-05)):7.104094430691941e-05)):0.00011198300236734115)):0.00012983421217813244)):7.480619883091323e-05)):0.00014015907866088726),((((((Cupriavidus taiwanensis isolate Cupriavidus taiwanensis STM 6116 chromosome CBM2609_a:6.34627278746976e-05,((Cupriavidus taiwanensis isolate Cupriavidus taiwanensis STM 6117 chromosome CBM2604_a:3.062882827705013e-05,Cupriavidus taiwanensis isolate Cupriavidus taiwanensis STM 6119 chromosome CBM2610_a:8.123857443305307e-05):3.698233355024457e-05)):0.00015778384959634878),((((Cupriavidus taiwanensis isolate Cupriavidus taiwanensis STM 8556 chromosome CBM2613_a:7.870908411837486e-05,Cupriavidus taiwanensis isolate Cupriavidus taiwanensis STM 8558 chromosome CBM2615_a:5.149449964237339e-05):2.7173210850694562e-05),((Cupriavidus taiwanensis isolate Cupriavidus taiwanensis mpp 1.3 chromosome CBM2625_a:8.410865279742674e-05,Cupriavidus taiwanensis isolate Cupriavidus taiwanensis STM 8557 chromosome CBM2614_a:6.824620319597068e-05):2.1128056144872963e-05)):0.00011344802291272037)):0.00020574426231960094),((Cupriavidus taiwanensis isolate Cupriavidus taiwanensis STM 6082 chromosome CBM2605_a:0.00037252617019857873,((Cupriavidus taiwanensis isolate Cupriavidus taiwanensis SWF 66324 chromosome CBM2637_a:0.0005473899755177032,((((((Deinococcus radiodurans R1 chromosome 1:0.01248545682661643,((Rhodospirillum rubrum ATCC 11170:0.01866666800169061,((((Gemmatimonas aurantiaca T-27:0.011326936348966334,((((Rhizobium leguminosarum bv. trifolii WSM1325:0.011942223772471328,((Alicyclobacillus acidocaldarius subsp. acidocaldarius DSM 446:0.010375656551735574,((((((((Thermanaerovibrio acidaminovorans DSM 6589:0.014322047563417213,Thermus thermophilus HB8 chromosome 1:0.027348450813085207):0.02233906582852791),((Akkermansia muciniphila ATCC BAA-835:0.022594344939417605,((Methanocella paludicola SANAE:0.012005950756484453,((((Thermofilum pendens Hrk 5:0.009207781532402315,((Thermococcus gammatolerans EJ3:0.013718606210055537,Ignicoccus hospitalis KIN4/I:0.013157320486722843):0.003509257537795532)):0.003296354571285909),((((Aeropyrum pernix K1:0.014916318434130688,((Hyperthermus butylicus DSM 5456:0.012097963834004008,Thermobaculum terrenum ATCC BAA-798 chromosome 1:0.008519940047544347):0.002206068473681891)):0.005578661111289587),((Pyrobaculum arsenaticum DSM 13514:0.005278385758572771,Pyrobaculum aerophilum str. IM2:0.015917595313858612):0.003997037056148553)):0.0017874961663180318)):0.009342537121183596)):0.003997360559932682)):0.005693506171972784)):0.00732420716998566),((Chloroflexus aurantiacus J-10-fl:0.012871485438583505,((Pirellula staleyi DSM 6068:0.009026645991303931,((Rhodopirellula baltica SH 1:0.016344755998760837,((Synechococcus elongatus PCC 6301:0.010088072516924364,((Corynebacterium glutamicum ATCC 13032:0.008392149751796044,((((Fibrobacter succinogenes subsp. succinogenes S85:0.015511104118516701,Bdellovibrio bacteriovorus HD100:0.010502971398847871):0.003085867068379128),((Methanocorpusculum labreanum Z:0.013458171739681786,((Haloquadratum walsbyi DSM 16790:0.019156168535671918,((((Candidatus Korarchaeum cryptofilum OPF8:0.020588875156864195,((Caldivirga maquilingensis IC-167:0.030180723036189877,((Pyrococcus abyssi GE5:0.010702529462262612,Metallosphaera sedula DSM 5348:0.008077588615438926):0.007250175195234104)):0.005510471014451637)):0.005318760037940809),((((Archaeoglobus fulgidus DSM 4304:0.01057829926113088,Thermotoga maritima MSB8:0.023160983110933946):0.003977610689692296),((((Thermoplasma acidophilum DSM 1728:0.007552730505475953,Methanospirillum hungatei JF-1:0.014794087135657927):0.007997157210524158),((((Chlorobium chlorochromatii CaD3:0.01263273610070862,((Shewanella putrefaciens CN-32:0.004870634527673438,Psychrobacter arcticus 273-4:0.011877288811244967):0.0027727433964324574)):0.005754198900015696),((((Methylacidiphilum infernorum V4:0.013083145097168625,((Aquifex aeolicus VF5:0.019484111216868362,((((((Pyrococcus furiosus DSM 3638:0.00874094235323742,Pyrococcus horikoshii OT3:0.006102843418617353):0.005994695276303134),((Archaeoglobus profundus DSM 5631:0.007110701543489327,Chlamydia trachomatis 434/Bu:0.009433149528493757):0.00025161321037907997)):0.0038671658295894723),((((Methanosarcina acetivorans C2A:0.002628401683833631,((Methanosarcina barkeri str. Fusaro:0.00866641598836907,Methanosarcina mazei Go1:0.003412778602763296):0.0038438558134226836)):0.00558729159579003),((Methanococcoides burtonii DSM 6242:0.009916419055750421,((Bacillus pseudofirmus OF4:0.00902805634022575,((Thermoplasma volcanium GSS1:0.006955026290262296,((((Sulfolobus acidocaldarius DSM 639:0.009201628176230277,((Staphylothermus marinus F1:0.0121066407557291,Candidatus Amoebophilus asiaticus 5a2:0.014714829860369955):0.001138339791034039)):0.006417731482647224),((Picrophilus torridus DSM 9790:0.01864887818481887,((Bacillus cereus Q1:0.0110942574299525,((Nitrosopumilus maritimus SCM1:0.018926956450514246,((Leptospira interrogans serovar Lai str. 56601 chromosome I:0.017454706287692454,((((((((Mycoplasma genitalium G37:0.0010906648663195906,Mycoplasma genitalium G37 strain G-37 unique_20:0.0021915066621766843):0.018043910850002357),((Methanococcus maripaludis C6:0.006943446778226781,((Flavobacterium psychrophilum JIP02/86:0.009308927793704569,((Prochlorococcus marinus str. AS9601:0.009579787224552404,((Methanococcus vannielii SB:0.01101044811088172,((Campylobacter jejuni subsp. jejuni 81-176:0.0017230926845150651,Campylobacter jejuni subsp. jejuni 81-176-UMCW7 plasmid pVir:0.0020399026739196247):0.016602133935074558)):0.0012158525442955356)):0.0020165607748045475)):0.0022607768129420808)):0.00325096550798553)):0.0031835063217776627),((Acholeplasma laidlawii PG-8A:0.012491756618225693,((Rickettsia rickettsii str. Iowa:0.01285702213947603,((Methanobrevibacter ruminantium M1:0.007047322239141354,((Methanocaldococcus fervens AG86:0.008985696947751115,((Clostridium acetobutylicum ATCC 824:0.007572056398128205,((Methanococcus aeolicus Nankai-3:0.011216357339170327,Methanosphaera stadtmanae DSM 3091:0.0140295932792988):0.0066079709497497766)):0.004582103626520506)):0.0018847575565993646)):0.0032880914192767313)):0.0012122509343824237)):0.0017979839201704567)):0.004010884341112138),((Thermodesulfovibrio yellowstonii DSM 11347:0.010506589419521525,Dictyoglomus thermophilum H-6-12:0.013767898243941902):0.0032111169210306614)):0.003281207086574922)):0.0011051434650691597)):0.002323697956316609)):0.005091795283451425)):0.0008469264916982772)):0.006157943095526454)):0.0027425986130786215)):0.002206457939529803)):0.0022543992938416843)):0.0012899220234554032)):0.0029448614791904235)):0.004076531864154145)):0.0031164777667154475),((((Bacteroides fragilis YCH46:0.0011787512578187095,Bacteroides fragilis YCH46 isolate Bacteroides fragilis 82A12:0.0004742279336475072):0.01087294568414695),((((((Coxiella burnetii RSA 493 strain Cb171_QLYMPHOMA:0.0007610976357137825,Coxiella burnetii RSA 493:0.00018895269871511272):0.009297821666850288),((Elusimicrobium minutum Pei191:0.019452231807795116,Carboxydothermus hydrogenoformans Z-2901:0.011008342687768423):0.009032174082867446)):0.0028902631258651418),((Nostoc punctiforme PCC 73102:0.012737917320985698,((Pedobacter heparinus DSM 2366 ctg7180000000005_quiver:5.6427900437354406e-05,Pedobacter heparinus DSM 2366:7.498654329594207e-05):0.012865811537909444)):0.002737537547970695)):0.004764457452910868)):0.0013923619293489675)):0.004746108652504341)):0.004944648335724444)):0.0018456043966775526)):0.0007226468437881023)):0.006804491494676955)):0.002259716312245426)):0.0013427386069296554)):0.008523216591036248)):0.00676662163170463)):0.0033670662872240034)):0.003595590081327517)):0.004408626287658941)):0.007016690908866908)):0.005435633278045977),((Thermomicrobium roseum DSM 5159:0.007310229033968149,((((Methanoculleus marisnigri JR1:0.007621335533108918,Methanopyrus kandleri AV19:0.01731729589410452):0.007791358701250604),((((Haloarcula marismortui ATCC 43049 chromosome I:0.0002570019082040846,Haloarcula marismortui ATCC 43049:0.00021453872941881377):0.008455531815820112),((Natronomonas pharaonis DSM 2160:0.006216991754110661,((Halorhabdus utahensis DSM 12940:0.007519432543665529,((Halomicrobium mukohataei DSM 12286:0.006168274624710642,((Halorubrum lacusprofundi ATCC 49239 chromosome 1:0.002554982708991925,Haloterrigena turkmenica DSM 5511:0.007984401486207483):0.0017219015530718466)):0.0030325970619105233)):0.003543607862694767)):0.002755245327036606)):0.0042944691360448685)):0.007735902096317991)):0.004449017033796597)):0.0023015865276801058)):0.0014302157548017475)):0.0022797439065579232),((Gloeobacter violaceus PCC 7421:0.011652102891321885,Acidobacterium capsulatum ATCC 51196:0.011324635444164063):0.0008411671026622991)):0.00565583546023014)):0.003187519973037546),((Opitutus terrae PB90-1:0.00954250544305539,((Gemmata obscuriglobus UQM 2246 gcontig_1106221710807:0.0006593444714378463,Gemmata obscuriglobus UQM 2246 :0.0007073697824403619):0.01648723072793682)):0.0022037899527459267)):0.002100599619279494)):0.001574552083009946)):0.010347608778363125),((Bordetella pertussis Tohama I:8.309503242934918e-07,Bordetella pertussis Tohama I :1.0508278728577763e-06):0.005666518662001215)):0.00267565770978754),((Cupriavidus taiwanensis strain USM6 USM6_assembled_contig_1:0.00045854955532630484,Cupriavidus taiwanensis isolate Cupriavidus sp. LMG 19464 chromosome CBM2587_a:0.0017936919767093974):0.002116754207406982)):0.0009633857452501958)):7.696807448872331e-05)):1.048939697122724e-05)):0.00013666646816013996)):0.00016353078176755906)):3.164639773334e-05)):0.0001210653520612866),((Cupriavidus taiwanensis isolate Cupriavidus taiwanensis TPIG 6a chromosome CBM2629_a:0.0001800535020054456,((Cupriavidus taiwanensis isolate Cupriavidus taiwanensis TPUD 27.6 chromosome CBM2631_a:0.00013754706375573308,((Cupriavidus taiwanensis isolate Cupriavidus taiwanensis STM 3711 chromosome CBM2592_a:2.4208079311690417e-05,Cupriavidus taiwanensis isolate Cupriavidus taiwanensis STM 3681:2.2148116641981656e-05):1.1869510726821313e-05)):5.66851624298486e-05)):0.00011674260012799114)):3.4130610686601386e-05)):7.195403660971336e-06)):0)\n"
     ]
    }
   ],
   "source": [
    "treeExample=pp.NeighbourJoining(distanceMatrix)\n",
    "print(treeExample)"
   ]
  },
  {
   "cell_type": "code",
   "execution_count": null,
   "metadata": {},
   "outputs": [],
   "source": []
  }
 ],
 "metadata": {
  "kernelspec": {
   "display_name": "Python 3",
   "language": "python",
   "name": "python3"
  },
  "language_info": {
   "codemirror_mode": {
    "name": "ipython",
    "version": 3
   },
   "file_extension": ".py",
   "mimetype": "text/x-python",
   "name": "python",
   "nbconvert_exporter": "python",
   "pygments_lexer": "ipython3",
   "version": "3.8.5"
  }
 },
 "nbformat": 4,
 "nbformat_minor": 4
}
