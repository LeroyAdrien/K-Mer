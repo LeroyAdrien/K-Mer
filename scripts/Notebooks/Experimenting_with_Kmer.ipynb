{
 "cells": [
  {
   "cell_type": "code",
   "execution_count": 4,
   "metadata": {},
   "outputs": [],
   "source": [
    "import subprocess\n",
    "import os\n",
    "import numpy as np\n",
    "import re\n",
    "import itertools\n",
    "import pandas as pd\n",
    "from Bio import SeqIO\n",
    "import matplotlib.pyplot as plt\n",
    "from scipy.stats import chi2_contingency"
   ]
  },
  {
   "cell_type": "markdown",
   "metadata": {},
   "source": [
    "### Gathering the genomes with their names associated\n",
    "\n",
    "Dict : GCF -> (Specie name,fnaPath,faaPath)"
   ]
  },
  {
   "cell_type": "code",
   "execution_count": null,
   "metadata": {},
   "outputs": [
    {
     "name": "stdout",
     "output_type": "stream",
     "text": [
      "Downloading Bacteria Files\n"
     ]
    }
   ],
   "source": [
    "def DownloadingSequences(bacteriaPath,archeaPath,outputPath):\n",
    "    \n",
    "    print(\"Downloading Bacteria Files\")\n",
    "    subprocess.run(\"ncbi-genome-download --genera \\'\"+bacteriaPath+\"\\' bacteria -F protein-fasta,fasta -o \"+outputPath,shell=True)\n",
    "    \n",
    "    print(\"Downloading Archaea Files\")\n",
    "    subprocess.run(\"ncbi-genome-download --genera \\'\"+archeaPath+\"\\' archaea -F protein-fasta,fasta -o \"+outputPath,shell=True)\n",
    "        \n",
    "    CleaningFolder(outputPath)\t\n",
    "\n",
    "def CleaningFolder(path):\n",
    "    for root, dirs, files in os.walk(path):\n",
    "        for file in files:\n",
    "            if file.endswith('.gz'):\n",
    "                subprocess.run(\"gunzip \"+root+\"/\"+file,shell=True)\n",
    "            if file==\"MD5SUMS\":\n",
    "                subprocess.run(\"rm \"+root+\"/\"+file,shell=True)\n",
    "            \n",
    "            \n",
    "DownloadingSequences('../../data/Bacteria.list','../../data/Archea.list','../../data/')"
   ]
  },
  {
   "cell_type": "code",
   "execution_count": 5,
   "metadata": {},
   "outputs": [],
   "source": [
    "#Returns a dictionnary: Key: Phylum -> Value Other dictionnary | Organism name -> Path to Proteome and Genome\n",
    "\n",
    "def ParsingSequences(path):\n",
    "    #Dictionnary of all the adresses\n",
    "    dictGen={}\n",
    "    #Getting the species names via Regular expression\n",
    "    regex=\"[0-9] (.+)(chromosome|,)\"\n",
    "    \n",
    "    listPhylums=os.listdir(path)\n",
    "    listFiles=[[] for _ in range(len(listPhylums))]\n",
    "    for i in range(len(listPhylums)):\n",
    "        listfaa=[]\n",
    "        listfna=[]\n",
    "        listNames=[]\n",
    "        for root,dirs,files in os.walk(path+'/'+listPhylums[i]):\n",
    "            for file in files:\n",
    "                if file.endswith('.faa'):\n",
    "                    listfaa.append(root+'/'+file)\n",
    "                elif file.endswith('.fna'):\n",
    "                    listfna.append(root+'/'+file)\n",
    "                    lineSpecie=open(root+'/'+file).readlines()[0]\n",
    "                    match=re.search(regex,lineSpecie).group(1)\n",
    "                    if match.split(' ')[-1]=='chromosome':\n",
    "                        match=' '.join(match.split(' ')[:-1])\n",
    "                    listNames.append(match)    \n",
    "        dictGen[listPhylums[i]]=dict(zip(listNames,zip(listfaa,listfna)))          \n",
    "        \n",
    "    return dictGen"
   ]
  },
  {
   "cell_type": "code",
   "execution_count": 6,
   "metadata": {
    "scrolled": false
   },
   "outputs": [
    {
     "name": "stdout",
     "output_type": "stream",
     "text": [
      "Number of Bacterias: 99\n",
      "Number of Archaeas: 44\n"
     ]
    }
   ],
   "source": [
    "pathGenomes='../../data/refseq/'\n",
    "dictGeneral=ParsingSequences(pathGenomes)\n",
    "\n",
    "print(\"Number of Bacterias:\",len(dictGeneral['bacteria'].keys()))\n",
    "print(\"Number of Archaeas:\",len(dictGeneral['archaea'].keys()))"
   ]
  },
  {
   "cell_type": "markdown",
   "metadata": {},
   "source": [
    "### Missing organisms"
   ]
  },
  {
   "cell_type": "code",
   "execution_count": 7,
   "metadata": {
    "scrolled": false
   },
   "outputs": [
    {
     "name": "stdout",
     "output_type": "stream",
     "text": [
      "Bacterias: \n",
      "\n",
      "Borrelia burgdorferi B31\n",
      "Candidatus Cloacamonas acidaminovorans\n",
      "Candidatus Endomicrobium sp. Rs-D17\n",
      "Cupriavidus taiwanensis\n",
      "Cupriavidus taiwanensis\n",
      "Cyanothece sp. ATCC 51142\n",
      "Cyanothece sp. ATCC 51142\n",
      "Dehalococcoides ethenogenes 195\n",
      "Deinococcus radiodurans R1\n",
      "Deinococcus radiodurans R1\n",
      "Fusobacterium nucleatum subsp. nucleatum ATCC 25586\n",
      "Gemmata obscuriglobus UQM 2246\n",
      "Leptospira interrogans serovar Lai str. 56601\n",
      "Leptospira interrogans serovar Lai str. 56601\n",
      "Magnetococcus sp. MC-1\n",
      "Solibacter usitatus Ellin6076\n",
      "Thermoanaerobacter tengcongensis MB4\n",
      "Thermobaculum terrenum ATCC BAA-798\n",
      "Thermobaculum terrenum ATCC BAA-798\n",
      "Thermus thermophilus HB8\n",
      "Archaeas: \n",
      "\n",
      "Candidatus Methanoregula boonei 6A8\n",
      "Candidatus Methanosphaerula palustris E1-9c\n",
      "Cenarchaeum symbiosum A\n",
      "Desulfurococcus kamchatkensis 1221n\n",
      "Halobacterium sp. NRC-1\n",
      "Halorubrum lacusprofundi ATCC 49239\n",
      "Halorubrum lacusprofundi ATCC 49239\n",
      "Methanosaeta thermophila PT\n",
      "Nanoarchaeum equitans Kin4-M\n",
      "Sulfolobus solfataricus P2\n",
      "Thermoproteus neutrophilus V24Sta\n"
     ]
    }
   ],
   "source": [
    "listBacterias=[i[:-1] for i in open('../../data/Bacteria.list','r').readlines()[1:]]\n",
    "listArchaeas=[i[:-1] for i in open('../../data/Archea.list','r').readlines()[1:]]\n",
    "\n",
    "\n",
    "print('Bacterias:','\\n')\n",
    "for i in listBacterias:\n",
    "    if i not in dictGeneral['bacteria'].keys():\n",
    "        print(i)\n",
    "        \n",
    "print('Archaeas:','\\n')    \n",
    "for i in listArchaeas:\n",
    "    if i not in dictGeneral['archaea'].keys():\n",
    "        print(i)"
   ]
  },
  {
   "cell_type": "markdown",
   "metadata": {},
   "source": [
    "### Read sequence from file"
   ]
  },
  {
   "cell_type": "code",
   "execution_count": 8,
   "metadata": {},
   "outputs": [],
   "source": [
    "def ReadSequence(path):\n",
    "    seqs=SeqIO.parse(path,'fasta')\n",
    "    seqs=[str(seq.seq) for seq in seqs]\n",
    "    return ''.join(seqs)"
   ]
  },
  {
   "cell_type": "markdown",
   "metadata": {},
   "source": [
    "### Compute K-Mers"
   ]
  },
  {
   "cell_type": "code",
   "execution_count": 35,
   "metadata": {},
   "outputs": [],
   "source": [
    "def Cut(sequence,size):\n",
    "    return [sequence[i:i+size] for i in range(len(sequence)-(size-1)) ]\n",
    "\n",
    "def CountCuts(listOfSequences,normalized=False):\n",
    "    \n",
    "    #Creating the dictionnary\n",
    "    possibilities=list(map(''.join,list(itertools.product('ACGT', repeat=len(listOfSequences[0])))))\n",
    "    counts=[0 for i in range(len(possibilities))]\n",
    "    dicoCuts=dict(zip(possibilities,counts))\n",
    "    \n",
    "    #Counting sequences\n",
    "    for sequence in listOfSequences:\n",
    "        try:\n",
    "            dicoCuts[sequence]+=1\n",
    "        except:\n",
    "            None\n",
    "    \n",
    "    #Conversion to df\n",
    "    df=pd.DataFrame([dicoCuts])\n",
    "\n",
    "    \n",
    "    if normalized==False:        \n",
    "        return df\n",
    "    else:\n",
    "        return df/np.sum(df.values)\n",
    " \n",
    "def CountKMerFromFile(path,size):\n",
    "    sequence=ReadSequence(path)\n",
    "    cutList=Cut(sequence,size)\n",
    "    return CountCuts(cutList,normalized=True)"
   ]
  },
  {
   "cell_type": "markdown",
   "metadata": {},
   "source": [
    "### Quick Look at the dataset"
   ]
  },
  {
   "cell_type": "code",
   "execution_count": 10,
   "metadata": {},
   "outputs": [
    {
     "name": "stdout",
     "output_type": "stream",
     "text": [
      "../../data/refseq//archaea/GCF_000007065.1/GCF_000007065.1_ASM706v1_protein.faa\n"
     ]
    }
   ],
   "source": [
    "pathTest=dictGeneral['archaea']['Methanosarcina mazei Go1']\n",
    "print(pathTest[0])"
   ]
  },
  {
   "cell_type": "code",
   "execution_count": 11,
   "metadata": {},
   "outputs": [
    {
     "name": "stdout",
     "output_type": "stream",
     "text": [
      "['AAA', 'AAC', 'AAG', 'AAT', 'AAN', 'AAR', 'ACA', 'ACC', 'ACG', 'ACT', 'ACN', 'ACR', 'AGA', 'AGC', 'AGG', 'AGT', 'AGN', 'AGR', 'ATA', 'ATC', 'ATG', 'ATT', 'ATN', 'ATR', 'ANA', 'ANC', 'ANG', 'ANT', 'ANN', 'ANR', 'ARA', 'ARC', 'ARG', 'ART', 'ARN', 'ARR', 'CAA', 'CAC', 'CAG', 'CAT', 'CAN', 'CAR', 'CCA', 'CCC', 'CCG', 'CCT', 'CCN', 'CCR', 'CGA', 'CGC', 'CGG', 'CGT', 'CGN', 'CGR', 'CTA', 'CTC', 'CTG', 'CTT', 'CTN', 'CTR', 'CNA', 'CNC', 'CNG', 'CNT', 'CNN', 'CNR', 'CRA', 'CRC', 'CRG', 'CRT', 'CRN', 'CRR', 'GAA', 'GAC', 'GAG', 'GAT', 'GAN', 'GAR', 'GCA', 'GCC', 'GCG', 'GCT', 'GCN', 'GCR', 'GGA', 'GGC', 'GGG', 'GGT', 'GGN', 'GGR', 'GTA', 'GTC', 'GTG', 'GTT', 'GTN', 'GTR', 'GNA', 'GNC', 'GNG', 'GNT', 'GNN', 'GNR', 'GRA', 'GRC', 'GRG', 'GRT', 'GRN', 'GRR', 'TAA', 'TAC', 'TAG', 'TAT', 'TAN', 'TAR', 'TCA', 'TCC', 'TCG', 'TCT', 'TCN', 'TCR', 'TGA', 'TGC', 'TGG', 'TGT', 'TGN', 'TGR', 'TTA', 'TTC', 'TTG', 'TTT', 'TTN', 'TTR', 'TNA', 'TNC', 'TNG', 'TNT', 'TNN', 'TNR', 'TRA', 'TRC', 'TRG', 'TRT', 'TRN', 'TRR', 'NAA', 'NAC', 'NAG', 'NAT', 'NAN', 'NAR', 'NCA', 'NCC', 'NCG', 'NCT', 'NCN', 'NCR', 'NGA', 'NGC', 'NGG', 'NGT', 'NGN', 'NGR', 'NTA', 'NTC', 'NTG', 'NTT', 'NTN', 'NTR', 'NNA', 'NNC', 'NNG', 'NNT', 'NNN', 'NNR', 'NRA', 'NRC', 'NRG', 'NRT', 'NRN', 'NRR', 'RAA', 'RAC', 'RAG', 'RAT', 'RAN', 'RAR', 'RCA', 'RCC', 'RCG', 'RCT', 'RCN', 'RCR', 'RGA', 'RGC', 'RGG', 'RGT', 'RGN', 'RGR', 'RTA', 'RTC', 'RTG', 'RTT', 'RTN', 'RTR', 'RNA', 'RNC', 'RNG', 'RNT', 'RNN', 'RNR', 'RRA', 'RRC', 'RRG', 'RRT', 'RRN', 'RRR']\n"
     ]
    },
    {
     "data": {
      "text/html": [
       "<div>\n",
       "<style scoped>\n",
       "    .dataframe tbody tr th:only-of-type {\n",
       "        vertical-align: middle;\n",
       "    }\n",
       "\n",
       "    .dataframe tbody tr th {\n",
       "        vertical-align: top;\n",
       "    }\n",
       "\n",
       "    .dataframe thead th {\n",
       "        text-align: right;\n",
       "    }\n",
       "</style>\n",
       "<table border=\"1\" class=\"dataframe\">\n",
       "  <thead>\n",
       "    <tr style=\"text-align: right;\">\n",
       "      <th></th>\n",
       "      <th>AAA</th>\n",
       "      <th>AAC</th>\n",
       "      <th>AAG</th>\n",
       "      <th>AAT</th>\n",
       "      <th>AAN</th>\n",
       "      <th>AAR</th>\n",
       "      <th>ACA</th>\n",
       "      <th>ACC</th>\n",
       "      <th>ACG</th>\n",
       "      <th>ACT</th>\n",
       "      <th>...</th>\n",
       "      <th>RNG</th>\n",
       "      <th>RNT</th>\n",
       "      <th>RNN</th>\n",
       "      <th>RNR</th>\n",
       "      <th>RRA</th>\n",
       "      <th>RRC</th>\n",
       "      <th>RRG</th>\n",
       "      <th>RRT</th>\n",
       "      <th>RRN</th>\n",
       "      <th>RRR</th>\n",
       "    </tr>\n",
       "  </thead>\n",
       "  <tbody>\n",
       "    <tr>\n",
       "      <th>0</th>\n",
       "      <td>0.040144</td>\n",
       "      <td>0.015372</td>\n",
       "      <td>0.022672</td>\n",
       "      <td>0.025282</td>\n",
       "      <td>0.0</td>\n",
       "      <td>0.0</td>\n",
       "      <td>0.0142</td>\n",
       "      <td>0.011276</td>\n",
       "      <td>0.006642</td>\n",
       "      <td>0.012942</td>\n",
       "      <td>...</td>\n",
       "      <td>0.0</td>\n",
       "      <td>0.0</td>\n",
       "      <td>0.0</td>\n",
       "      <td>0.0</td>\n",
       "      <td>0.0</td>\n",
       "      <td>0.0</td>\n",
       "      <td>0.0</td>\n",
       "      <td>0.0</td>\n",
       "      <td>0.0</td>\n",
       "      <td>0.0</td>\n",
       "    </tr>\n",
       "  </tbody>\n",
       "</table>\n",
       "<p>1 rows × 216 columns</p>\n",
       "</div>"
      ],
      "text/plain": [
       "        AAA       AAC       AAG       AAT  AAN  AAR     ACA       ACC  \\\n",
       "0  0.040144  0.015372  0.022672  0.025282  0.0  0.0  0.0142  0.011276   \n",
       "\n",
       "        ACG       ACT  ...  RNG  RNT  RNN  RNR  RRA  RRC  RRG  RRT  RRN  RRR  \n",
       "0  0.006642  0.012942  ...  0.0  0.0  0.0  0.0  0.0  0.0  0.0  0.0  0.0  0.0  \n",
       "\n",
       "[1 rows x 216 columns]"
      ]
     },
     "execution_count": 11,
     "metadata": {},
     "output_type": "execute_result"
    }
   ],
   "source": [
    "seqTest=ReadSequence(pathTest[1])\n",
    "seqCuttesTest=Cut(seqTest,3)\n",
    "dicSeq=CountCuts(seqCuttesTest,normalized=True)\n",
    "dicSeq"
   ]
  },
  {
   "cell_type": "code",
   "execution_count": 12,
   "metadata": {},
   "outputs": [
    {
     "data": {
      "text/plain": [
       "array([[0.04014434, 0.015372  , 0.02267169, 0.02528182, 0.        ,\n",
       "        0.        , 0.01419998, 0.01127591, 0.00664202, 0.01294179,\n",
       "        0.        , 0.        , 0.0204895 , 0.01394854, 0.01737818,\n",
       "        0.01294154, 0.        , 0.        , 0.02270562, 0.01644442,\n",
       "        0.01557706, 0.02518149, 0.        , 0.        , 0.        ,\n",
       "        0.        , 0.        , 0.        , 0.        , 0.        ,\n",
       "        0.        , 0.        , 0.        , 0.        , 0.        ,\n",
       "        0.        , 0.01677374, 0.00819145, 0.01987651, 0.01555046,\n",
       "        0.        , 0.        , 0.01216695, 0.01156153, 0.01026379,\n",
       "        0.01735353, 0.        , 0.        , 0.0084429 , 0.00553347,\n",
       "        0.01019104, 0.00661834, 0.        , 0.        , 0.00798542,\n",
       "        0.01431838, 0.02013772, 0.02229476, 0.        , 0.        ,\n",
       "        0.        , 0.        , 0.        , 0.        , 0.        ,\n",
       "        0.        , 0.        , 0.        , 0.        , 0.        ,\n",
       "        0.        , 0.        , 0.02603224, 0.00969182, 0.01425711,\n",
       "        0.01635556, 0.        , 0.        , 0.01511421, 0.01031676,\n",
       "        0.00549417, 0.01414188, 0.        , 0.        , 0.0182907 ,\n",
       "        0.01023669, 0.01151271, 0.01115629, 0.        , 0.        ,\n",
       "        0.01185423, 0.00957635, 0.00821342, 0.01534515, 0.        ,\n",
       "        0.        , 0.        , 0.        , 0.        , 0.        ,\n",
       "        0.        , 0.        , 0.        , 0.        , 0.        ,\n",
       "        0.        , 0.        , 0.        , 0.02051952, 0.01180443,\n",
       "        0.00795246, 0.022721  , 0.        , 0.        , 0.01891101,\n",
       "        0.01819159, 0.00838577, 0.02029908, 0.        , 0.        ,\n",
       "        0.01911363, 0.01534832, 0.01211422, 0.01427297, 0.        ,\n",
       "        0.        , 0.02045214, 0.02544831, 0.01692095, 0.03949938,\n",
       "        0.        , 0.        , 0.        , 0.        , 0.        ,\n",
       "        0.        , 0.        , 0.        , 0.        , 0.        ,\n",
       "        0.        , 0.        , 0.        , 0.        , 0.        ,\n",
       "        0.        , 0.        , 0.        , 0.        , 0.        ,\n",
       "        0.        , 0.        , 0.        , 0.        , 0.        ,\n",
       "        0.        , 0.        , 0.        , 0.        , 0.        ,\n",
       "        0.        , 0.        , 0.        , 0.        , 0.        ,\n",
       "        0.        , 0.        , 0.        , 0.        , 0.        ,\n",
       "        0.        , 0.        , 0.        , 0.        , 0.        ,\n",
       "        0.        , 0.        , 0.        , 0.        , 0.        ,\n",
       "        0.        , 0.        , 0.        , 0.        , 0.        ,\n",
       "        0.        , 0.        , 0.        , 0.        , 0.        ,\n",
       "        0.        , 0.        , 0.        , 0.        , 0.        ,\n",
       "        0.        , 0.        , 0.        , 0.        , 0.        ,\n",
       "        0.        , 0.        , 0.        , 0.        , 0.        ,\n",
       "        0.        , 0.        , 0.        , 0.        , 0.        ,\n",
       "        0.        , 0.        , 0.        , 0.        , 0.        ,\n",
       "        0.        ]])"
      ]
     },
     "execution_count": 12,
     "metadata": {},
     "output_type": "execute_result"
    }
   ],
   "source": [
    "dicSeq.values"
   ]
  },
  {
   "cell_type": "code",
   "execution_count": null,
   "metadata": {},
   "outputs": [],
   "source": [
    "plt.bar(np.arange(0,len(dicSeq.columns),1),dicSeq.values[0])"
   ]
  },
  {
   "cell_type": "markdown",
   "metadata": {},
   "source": [
    "#### Computing some distances"
   ]
  },
  {
   "cell_type": "code",
   "execution_count": 38,
   "metadata": {},
   "outputs": [],
   "source": [
    "distanceDf=pd.DataFrame(data=None,index=dictGeneral['bacteria'].keys(),columns=dictGeneral['bacteria'].keys())"
   ]
  },
  {
   "cell_type": "code",
   "execution_count": 47,
   "metadata": {},
   "outputs": [
    {
     "name": "stdout",
     "output_type": "stream",
     "text": [
      "Computing.  0.02 % completed\n",
      "Pvalue: 4.590284871824413e-06\n",
      "Computing.  0.04 % completed\n",
      "Pvalue: 0.2988834119905005\n",
      "Computing.  0.06 % completed\n",
      "Pvalue: 0.00043166572874940947\n",
      "Computing.  0.08 % completed\n",
      "Pvalue: 0.34001631932231824\n",
      "Computing.  0.1 % completed\n"
     ]
    },
    {
     "ename": "KeyboardInterrupt",
     "evalue": "",
     "output_type": "error",
     "traceback": [
      "\u001b[0;31m---------------------------------------------------------------------------\u001b[0m",
      "\u001b[0;31mKeyboardInterrupt\u001b[0m                         Traceback (most recent call last)",
      "\u001b[0;32m<ipython-input-47-7ae31b842284>\u001b[0m in \u001b[0;36m<module>\u001b[0;34m\u001b[0m\n\u001b[1;32m      4\u001b[0m         \u001b[0;32mif\u001b[0m \u001b[0mi\u001b[0m\u001b[0;34m!=\u001b[0m\u001b[0mj\u001b[0m\u001b[0;34m:\u001b[0m\u001b[0;34m\u001b[0m\u001b[0;34m\u001b[0m\u001b[0m\n\u001b[1;32m      5\u001b[0m             \u001b[0mprint\u001b[0m\u001b[0;34m(\u001b[0m\u001b[0;34m\"Computing. \"\u001b[0m\u001b[0;34m,\u001b[0m\u001b[0;34m(\u001b[0m\u001b[0mi\u001b[0m\u001b[0;34m*\u001b[0m\u001b[0mlen\u001b[0m\u001b[0;34m(\u001b[0m\u001b[0mkeys\u001b[0m\u001b[0;34m)\u001b[0m\u001b[0;34m+\u001b[0m\u001b[0mj\u001b[0m\u001b[0;34m)\u001b[0m\u001b[0;34m/\u001b[0m\u001b[0;36m50\u001b[0m\u001b[0;34m,\u001b[0m\u001b[0;34m'% completed'\u001b[0m\u001b[0;34m)\u001b[0m\u001b[0;34m\u001b[0m\u001b[0;34m\u001b[0m\u001b[0m\n\u001b[0;32m----> 6\u001b[0;31m             \u001b[0mcontingencyI\u001b[0m\u001b[0;34m=\u001b[0m\u001b[0mCountKMerFromFile\u001b[0m\u001b[0;34m(\u001b[0m\u001b[0mdictGeneral\u001b[0m\u001b[0;34m[\u001b[0m\u001b[0;34m'bacteria'\u001b[0m\u001b[0;34m]\u001b[0m\u001b[0;34m[\u001b[0m\u001b[0mkeys\u001b[0m\u001b[0;34m[\u001b[0m\u001b[0mi\u001b[0m\u001b[0;34m]\u001b[0m\u001b[0;34m]\u001b[0m\u001b[0;34m[\u001b[0m\u001b[0;36m1\u001b[0m\u001b[0;34m]\u001b[0m\u001b[0;34m,\u001b[0m\u001b[0;36m3\u001b[0m\u001b[0;34m)\u001b[0m\u001b[0;34m.\u001b[0m\u001b[0mvalues\u001b[0m\u001b[0;34m[\u001b[0m\u001b[0;36m0\u001b[0m\u001b[0;34m]\u001b[0m\u001b[0;34m\u001b[0m\u001b[0;34m\u001b[0m\u001b[0m\n\u001b[0m\u001b[1;32m      7\u001b[0m             \u001b[0mcontingencyJ\u001b[0m\u001b[0;34m=\u001b[0m\u001b[0mCountKMerFromFile\u001b[0m\u001b[0;34m(\u001b[0m\u001b[0mdictGeneral\u001b[0m\u001b[0;34m[\u001b[0m\u001b[0;34m'bacteria'\u001b[0m\u001b[0;34m]\u001b[0m\u001b[0;34m[\u001b[0m\u001b[0mkeys\u001b[0m\u001b[0;34m[\u001b[0m\u001b[0mj\u001b[0m\u001b[0;34m]\u001b[0m\u001b[0;34m]\u001b[0m\u001b[0;34m[\u001b[0m\u001b[0;36m1\u001b[0m\u001b[0;34m]\u001b[0m\u001b[0;34m,\u001b[0m\u001b[0;36m3\u001b[0m\u001b[0;34m)\u001b[0m\u001b[0;34m.\u001b[0m\u001b[0mvalues\u001b[0m\u001b[0;34m[\u001b[0m\u001b[0;36m0\u001b[0m\u001b[0;34m]\u001b[0m\u001b[0;34m\u001b[0m\u001b[0;34m\u001b[0m\u001b[0m\n\u001b[1;32m      8\u001b[0m             \u001b[0mcontingency\u001b[0m\u001b[0;34m=\u001b[0m\u001b[0mnp\u001b[0m\u001b[0;34m.\u001b[0m\u001b[0mvstack\u001b[0m\u001b[0;34m(\u001b[0m\u001b[0;34m(\u001b[0m\u001b[0mcontingencyI\u001b[0m\u001b[0;34m,\u001b[0m\u001b[0mcontingencyJ\u001b[0m\u001b[0;34m)\u001b[0m\u001b[0;34m)\u001b[0m\u001b[0;34m\u001b[0m\u001b[0;34m\u001b[0m\u001b[0m\n",
      "\u001b[0;32m<ipython-input-35-61b2f8beac37>\u001b[0m in \u001b[0;36mCountKMerFromFile\u001b[0;34m(path, size)\u001b[0m\n\u001b[1;32m     27\u001b[0m \u001b[0;32mdef\u001b[0m \u001b[0mCountKMerFromFile\u001b[0m\u001b[0;34m(\u001b[0m\u001b[0mpath\u001b[0m\u001b[0;34m,\u001b[0m\u001b[0msize\u001b[0m\u001b[0;34m)\u001b[0m\u001b[0;34m:\u001b[0m\u001b[0;34m\u001b[0m\u001b[0;34m\u001b[0m\u001b[0m\n\u001b[1;32m     28\u001b[0m     \u001b[0msequence\u001b[0m\u001b[0;34m=\u001b[0m\u001b[0mReadSequence\u001b[0m\u001b[0;34m(\u001b[0m\u001b[0mpath\u001b[0m\u001b[0;34m)\u001b[0m\u001b[0;34m\u001b[0m\u001b[0;34m\u001b[0m\u001b[0m\n\u001b[0;32m---> 29\u001b[0;31m     \u001b[0mcutList\u001b[0m\u001b[0;34m=\u001b[0m\u001b[0mCut\u001b[0m\u001b[0;34m(\u001b[0m\u001b[0msequence\u001b[0m\u001b[0;34m,\u001b[0m\u001b[0msize\u001b[0m\u001b[0;34m)\u001b[0m\u001b[0;34m\u001b[0m\u001b[0;34m\u001b[0m\u001b[0m\n\u001b[0m\u001b[1;32m     30\u001b[0m     \u001b[0;32mreturn\u001b[0m \u001b[0mCountCuts\u001b[0m\u001b[0;34m(\u001b[0m\u001b[0mcutList\u001b[0m\u001b[0;34m,\u001b[0m\u001b[0mnormalized\u001b[0m\u001b[0;34m=\u001b[0m\u001b[0;32mTrue\u001b[0m\u001b[0;34m)\u001b[0m\u001b[0;34m\u001b[0m\u001b[0;34m\u001b[0m\u001b[0m\n",
      "\u001b[0;32m<ipython-input-35-61b2f8beac37>\u001b[0m in \u001b[0;36mCut\u001b[0;34m(sequence, size)\u001b[0m\n\u001b[1;32m      1\u001b[0m \u001b[0;32mdef\u001b[0m \u001b[0mCut\u001b[0m\u001b[0;34m(\u001b[0m\u001b[0msequence\u001b[0m\u001b[0;34m,\u001b[0m\u001b[0msize\u001b[0m\u001b[0;34m)\u001b[0m\u001b[0;34m:\u001b[0m\u001b[0;34m\u001b[0m\u001b[0;34m\u001b[0m\u001b[0m\n\u001b[0;32m----> 2\u001b[0;31m     \u001b[0;32mreturn\u001b[0m \u001b[0;34m[\u001b[0m\u001b[0msequence\u001b[0m\u001b[0;34m[\u001b[0m\u001b[0mi\u001b[0m\u001b[0;34m:\u001b[0m\u001b[0mi\u001b[0m\u001b[0;34m+\u001b[0m\u001b[0msize\u001b[0m\u001b[0;34m]\u001b[0m \u001b[0;32mfor\u001b[0m \u001b[0mi\u001b[0m \u001b[0;32min\u001b[0m \u001b[0mrange\u001b[0m\u001b[0;34m(\u001b[0m\u001b[0mlen\u001b[0m\u001b[0;34m(\u001b[0m\u001b[0msequence\u001b[0m\u001b[0;34m)\u001b[0m\u001b[0;34m-\u001b[0m\u001b[0;34m(\u001b[0m\u001b[0msize\u001b[0m\u001b[0;34m-\u001b[0m\u001b[0;36m1\u001b[0m\u001b[0;34m)\u001b[0m\u001b[0;34m)\u001b[0m \u001b[0;34m]\u001b[0m\u001b[0;34m\u001b[0m\u001b[0;34m\u001b[0m\u001b[0m\n\u001b[0m\u001b[1;32m      3\u001b[0m \u001b[0;34m\u001b[0m\u001b[0m\n\u001b[1;32m      4\u001b[0m \u001b[0;32mdef\u001b[0m \u001b[0mCountCuts\u001b[0m\u001b[0;34m(\u001b[0m\u001b[0mlistOfSequences\u001b[0m\u001b[0;34m,\u001b[0m\u001b[0mnormalized\u001b[0m\u001b[0;34m=\u001b[0m\u001b[0;32mFalse\u001b[0m\u001b[0;34m)\u001b[0m\u001b[0;34m:\u001b[0m\u001b[0;34m\u001b[0m\u001b[0;34m\u001b[0m\u001b[0m\n\u001b[1;32m      5\u001b[0m \u001b[0;34m\u001b[0m\u001b[0m\n",
      "\u001b[0;32m<ipython-input-35-61b2f8beac37>\u001b[0m in \u001b[0;36m<listcomp>\u001b[0;34m(.0)\u001b[0m\n\u001b[1;32m      1\u001b[0m \u001b[0;32mdef\u001b[0m \u001b[0mCut\u001b[0m\u001b[0;34m(\u001b[0m\u001b[0msequence\u001b[0m\u001b[0;34m,\u001b[0m\u001b[0msize\u001b[0m\u001b[0;34m)\u001b[0m\u001b[0;34m:\u001b[0m\u001b[0;34m\u001b[0m\u001b[0;34m\u001b[0m\u001b[0m\n\u001b[0;32m----> 2\u001b[0;31m     \u001b[0;32mreturn\u001b[0m \u001b[0;34m[\u001b[0m\u001b[0msequence\u001b[0m\u001b[0;34m[\u001b[0m\u001b[0mi\u001b[0m\u001b[0;34m:\u001b[0m\u001b[0mi\u001b[0m\u001b[0;34m+\u001b[0m\u001b[0msize\u001b[0m\u001b[0;34m]\u001b[0m \u001b[0;32mfor\u001b[0m \u001b[0mi\u001b[0m \u001b[0;32min\u001b[0m \u001b[0mrange\u001b[0m\u001b[0;34m(\u001b[0m\u001b[0mlen\u001b[0m\u001b[0;34m(\u001b[0m\u001b[0msequence\u001b[0m\u001b[0;34m)\u001b[0m\u001b[0;34m-\u001b[0m\u001b[0;34m(\u001b[0m\u001b[0msize\u001b[0m\u001b[0;34m-\u001b[0m\u001b[0;36m1\u001b[0m\u001b[0;34m)\u001b[0m\u001b[0;34m)\u001b[0m \u001b[0;34m]\u001b[0m\u001b[0;34m\u001b[0m\u001b[0;34m\u001b[0m\u001b[0m\n\u001b[0m\u001b[1;32m      3\u001b[0m \u001b[0;34m\u001b[0m\u001b[0m\n\u001b[1;32m      4\u001b[0m \u001b[0;32mdef\u001b[0m \u001b[0mCountCuts\u001b[0m\u001b[0;34m(\u001b[0m\u001b[0mlistOfSequences\u001b[0m\u001b[0;34m,\u001b[0m\u001b[0mnormalized\u001b[0m\u001b[0;34m=\u001b[0m\u001b[0;32mFalse\u001b[0m\u001b[0;34m)\u001b[0m\u001b[0;34m:\u001b[0m\u001b[0;34m\u001b[0m\u001b[0;34m\u001b[0m\u001b[0m\n\u001b[1;32m      5\u001b[0m \u001b[0;34m\u001b[0m\u001b[0m\n",
      "\u001b[0;31mKeyboardInterrupt\u001b[0m: "
     ]
    }
   ],
   "source": [
    "keys=list(dictGeneral['bacteria'].keys())\n",
    "for i in range(len(keys)):\n",
    "    for j in range(i,len(keys)):\n",
    "        if i!=j:\n",
    "            print(\"Computing. \",(i*len(keys)+j)/50,'% completed')\n",
    "            contingencyI=CountKMerFromFile(dictGeneral['bacteria'][keys[i]][1],3).values[0]\n",
    "            contingencyJ=CountKMerFromFile(dictGeneral['bacteria'][keys[j]][1],3).values[0]\n",
    "            contingency=np.vstack((contingencyI,contingencyJ))\n",
    "            pVal=chi2_contingency(contingency)[0]\n",
    "            print('Pvalue:',pVal)\n",
    "            distanceDf.loc[keys[i],keys[j]]=pVal\n",
    "            "
   ]
  },
  {
   "cell_type": "code",
   "execution_count": 24,
   "metadata": {},
   "outputs": [
    {
     "data": {
      "text/plain": [
       "array([[4.87135197e-03, 8.78990425e-03, 1.05567767e-02, 4.81633701e-03,\n",
       "        7.43445450e-07, 0.00000000e+00, 8.11158462e-03, 1.70840791e-02,\n",
       "        1.66881200e-02, 5.74787415e-03, 8.92134540e-07, 0.00000000e+00,\n",
       "        7.03998235e-03, 2.23738421e-02, 1.48046753e-02, 5.76036404e-03,\n",
       "        4.46067270e-07, 0.00000000e+00, 3.64184188e-03, 1.48781277e-02,\n",
       "        1.39638385e-02, 4.89246582e-03, 8.92134540e-07, 0.00000000e+00,\n",
       "        1.48689090e-07, 1.48689090e-07, 0.00000000e+00, 0.00000000e+00,\n",
       "        2.23033635e-06, 0.00000000e+00, 0.00000000e+00, 0.00000000e+00,\n",
       "        0.00000000e+00, 0.00000000e+00, 0.00000000e+00, 0.00000000e+00,\n",
       "        1.02754569e-02, 1.69795506e-02, 2.45973388e-02, 1.40139467e-02,\n",
       "        8.92134540e-07, 0.00000000e+00, 2.13263275e-02, 1.52269523e-02,\n",
       "        3.69425479e-02, 1.46698143e-02, 1.04082363e-06, 0.00000000e+00,\n",
       "        2.47568822e-02, 5.26192847e-02, 3.72034972e-02, 1.68320511e-02,\n",
       "        1.48689090e-06, 0.00000000e+00, 3.50638612e-03, 1.12401518e-02,\n",
       "        2.40523933e-02, 1.07621163e-02, 1.48689090e-06, 0.00000000e+00,\n",
       "        0.00000000e+00, 4.46067270e-07, 0.00000000e+00, 0.00000000e+00,\n",
       "        3.27115998e-06, 0.00000000e+00, 0.00000000e+00, 0.00000000e+00,\n",
       "        0.00000000e+00, 0.00000000e+00, 0.00000000e+00, 0.00000000e+00,\n",
       "        1.23150252e-02, 1.63168434e-02, 1.12120495e-02, 1.48854135e-02,\n",
       "        4.46067270e-07, 0.00000000e+00, 2.57716852e-02, 4.34734188e-02,\n",
       "        5.29016453e-02, 2.20348310e-02, 1.18951272e-06, 0.00000000e+00,\n",
       "        1.23455065e-02, 4.35287311e-02, 1.52767632e-02, 1.72880805e-02,\n",
       "        2.23033635e-06, 0.00000000e+00, 5.69375133e-03, 1.65438916e-02,\n",
       "        1.68268469e-02, 8.87495441e-03, 4.46067270e-07, 0.00000000e+00,\n",
       "        4.46067270e-07, 2.97378180e-07, 1.48689090e-07, 0.00000000e+00,\n",
       "        4.16329452e-06, 0.00000000e+00, 0.00000000e+00, 0.00000000e+00,\n",
       "        0.00000000e+00, 0.00000000e+00, 0.00000000e+00, 0.00000000e+00,\n",
       "        1.57149499e-03, 5.54550830e-03, 3.61121193e-03, 3.66057671e-03,\n",
       "        4.46067270e-07, 0.00000000e+00, 1.06569932e-02, 1.23808945e-02,\n",
       "        2.48796994e-02, 7.10956884e-03, 5.94756360e-07, 0.00000000e+00,\n",
       "        1.05869606e-02, 2.56597223e-02, 2.11550377e-02, 8.05879999e-03,\n",
       "        8.92134540e-07, 0.00000000e+00, 1.54696129e-03, 1.23646874e-02,\n",
       "        1.06172932e-02, 4.87298755e-03, 1.48689090e-06, 0.00000000e+00,\n",
       "        1.48689090e-07, 2.97378180e-07, 2.97378180e-07, 1.48689090e-07,\n",
       "        3.41984907e-06, 0.00000000e+00, 0.00000000e+00, 0.00000000e+00,\n",
       "        0.00000000e+00, 0.00000000e+00, 0.00000000e+00, 0.00000000e+00,\n",
       "        1.78426908e-06, 5.94756360e-07, 1.93295817e-06, 8.92134540e-07,\n",
       "        0.00000000e+00, 0.00000000e+00, 5.94756360e-07, 1.33820181e-06,\n",
       "        1.18951272e-06, 4.46067270e-07, 0.00000000e+00, 0.00000000e+00,\n",
       "        4.46067270e-07, 1.18951272e-06, 1.33820181e-06, 5.94756360e-07,\n",
       "        0.00000000e+00, 0.00000000e+00, 2.97378180e-07, 8.92134540e-07,\n",
       "        1.04082363e-06, 1.04082363e-06, 0.00000000e+00, 0.00000000e+00,\n",
       "        4.46067270e-06, 2.37902544e-06, 3.12247089e-06, 3.12247089e-06,\n",
       "        1.34637971e-03, 0.00000000e+00, 0.00000000e+00, 0.00000000e+00,\n",
       "        0.00000000e+00, 0.00000000e+00, 0.00000000e+00, 0.00000000e+00,\n",
       "        0.00000000e+00, 0.00000000e+00, 0.00000000e+00, 0.00000000e+00,\n",
       "        0.00000000e+00, 0.00000000e+00, 0.00000000e+00, 0.00000000e+00,\n",
       "        0.00000000e+00, 0.00000000e+00, 0.00000000e+00, 0.00000000e+00,\n",
       "        0.00000000e+00, 0.00000000e+00, 0.00000000e+00, 0.00000000e+00,\n",
       "        0.00000000e+00, 0.00000000e+00, 0.00000000e+00, 0.00000000e+00,\n",
       "        0.00000000e+00, 0.00000000e+00, 0.00000000e+00, 0.00000000e+00,\n",
       "        0.00000000e+00, 0.00000000e+00, 0.00000000e+00, 0.00000000e+00,\n",
       "        0.00000000e+00, 0.00000000e+00, 0.00000000e+00, 0.00000000e+00,\n",
       "        0.00000000e+00, 0.00000000e+00, 0.00000000e+00, 0.00000000e+00]])"
      ]
     },
     "execution_count": 24,
     "metadata": {},
     "output_type": "execute_result"
    }
   ],
   "source": [
    "contingencyI.values"
   ]
  },
  {
   "cell_type": "code",
   "execution_count": null,
   "metadata": {},
   "outputs": [],
   "source": []
  }
 ],
 "metadata": {
  "kernelspec": {
   "display_name": "Python 3",
   "language": "python",
   "name": "python3"
  },
  "language_info": {
   "codemirror_mode": {
    "name": "ipython",
    "version": 3
   },
   "file_extension": ".py",
   "mimetype": "text/x-python",
   "name": "python",
   "nbconvert_exporter": "python",
   "pygments_lexer": "ipython3",
   "version": "3.8.5"
  }
 },
 "nbformat": 4,
 "nbformat_minor": 4
}
