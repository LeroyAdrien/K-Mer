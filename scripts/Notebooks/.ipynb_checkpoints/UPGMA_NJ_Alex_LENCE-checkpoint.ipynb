{
 "cells": [
  {
   "cell_type": "markdown",
   "metadata": {},
   "source": [
    "Alex LENCE"
   ]
  },
  {
   "cell_type": "markdown",
   "metadata": {},
   "source": [
    "## Introduction"
   ]
  },
  {
   "cell_type": "code",
   "execution_count": 19,
   "metadata": {},
   "outputs": [],
   "source": [
    "import numpy as np\n",
    "import pandas as pd\n",
    "from Bio import Phylo\n",
    "from Bio.Phylo import Newick\n",
    "from Bio.Phylo.Consensus import _BitString\n",
    "#Matrice de distance\n",
    "\n",
    "M1 = [[0,8,7,12], [8,0,9,14], [7,9,0,11], [12,14,11,0]]\n",
    "M2 = [[0,2,3,8,14,18],[2,0,3,8,14,18],\n",
    "      [3,3,0,8,14,18],[8,8,8,0,14,18],\n",
    "      [14,14,14,14,0,18],[18,18,18,18,18,0]]\n",
    "#UPGMA\n",
    "M3 = [[0,19,27,8,33,18,13],[19,0,31,18,36,1,13],\n",
    "          [27,31,0,26,41,32,29],[8,18,26,0,31,17,14],\n",
    "          [33,36,41,31,0,35,28],[18,1,32,17,35,0,12],\n",
    "          [13,13,29,14,28,12,0]]\n",
    "#Neighbor Joining\n",
    "M4 = [[0,2,4,6,6,8],[2,0,4,6,6,8],\n",
    "          [4,4,0,6,6,8],[6,6,6,0,4,8],\n",
    "          [6,6,6,4,0,8],[8,8,8,8,8,0]]\n",
    "M5=[[0,6,7,5],[6,0,11,9],[7,11,0,6],[5,9,6,0]]"
   ]
  },
  {
   "cell_type": "markdown",
   "metadata": {},
   "source": [
    "Une matrice est additive s'il existe un arbre T tel que dij(T)=Dij pour tout i et j."
   ]
  },
  {
   "cell_type": "code",
   "execution_count": 20,
   "metadata": {},
   "outputs": [
    {
     "name": "stdout",
     "output_type": "stream",
     "text": [
      "0\n"
     ]
    }
   ],
   "source": [
    "def matrice_additive(matrice):\n",
    "    add=0\n",
    "    #Comme les matrices sont des matrices carrées la longueur d'une ligne est équivalente à la longeur de la colonne\n",
    "    for i in range(len(matrice[0])):\n",
    "        for j in range(len(matrice[0])):\n",
    "            for m in range(len(matrice[0])):\n",
    "                for n in range(len(matrice[0])):\n",
    "                    if j!=m and j!=n and n!=m and i!=j and i!=m and i!=n:#On vérifie qu'on ne compare pas une diagonale\n",
    "                        #Si la vérification est fausse alors la matrice n'est pas additive et donc la fonction renvoie 1 \n",
    "                        #sinon on renvoie 0 et la matrice est additive\n",
    "                        if (matrice[i][j]+matrice[m][n]>max(matrice[i][m]+matrice[j][n],matrice[j][m]+matrice[i][n])):\n",
    "                            return(1)\n",
    "    return(add)\n",
    "\"\"\"\n",
    "print(matrice_additive(M1))\n",
    "print(matrice_additive(M2))\n",
    "print(matrice_additive(M3))\n",
    "print(matrice_additive(M4))\"\"\"\n",
    "print(matrice_additive(M5))"
   ]
  },
  {
   "cell_type": "markdown",
   "metadata": {},
   "source": [
    "Une matrice est dite ultramétrique si on peut tracer un triangle isocèle entre 3 noeuds pour tous les noeuds de la matrice."
   ]
  },
  {
   "cell_type": "code",
   "execution_count": 21,
   "metadata": {},
   "outputs": [
    {
     "name": "stdout",
     "output_type": "stream",
     "text": [
      "1\n",
      "0\n",
      "1\n",
      "0\n",
      "1\n"
     ]
    }
   ],
   "source": [
    "def ultrametrique(matrice):\n",
    "    add=0\n",
    "    for x in range(len(matrice[0])):\n",
    "        for y in range(len(matrice[0])):\n",
    "            for z in range(len(matrice[0])):\n",
    "                if x!=y and x!=z and y!=z: \n",
    "                        if (matrice[x][z]>max(matrice[x][y],matrice[y][z])):\n",
    "                            return(1)\n",
    "    return(add)\n",
    "\n",
    "print(ultrametrique(M1))\n",
    "print(ultrametrique(M2))\n",
    "print(ultrametrique(M3))\n",
    "print(ultrametrique(M4))\n",
    "print(ultrametrique(M5))"
   ]
  },
  {
   "cell_type": "code",
   "execution_count": 22,
   "metadata": {},
   "outputs": [],
   "source": [
    "#On calcule pour un élément de la matrice sa distance à tous les autres éléments\n",
    "def somme_distance_i(matrice,indice):\n",
    "    somme=0\n",
    "    for j in range(len(matrice[0])):\n",
    "        if j!=indice:\n",
    "            somme+=matrice[indice][j]\n",
    "    return somme"
   ]
  },
  {
   "cell_type": "code",
   "execution_count": 23,
   "metadata": {},
   "outputs": [
    {
     "name": "stdout",
     "output_type": "stream",
     "text": [
      "[27, 31, 27, 37]\n",
      "[45, 45, 46, 56, 74, 90]\n",
      "[118, 118, 186, 114, 204, 115, 109]\n",
      "[26, 26, 28, 30, 30, 40]\n"
     ]
    }
   ],
   "source": [
    "#On appelle la fonction somme_distance_i pour chaque indice de la matrice pour avoir la distance de tous les indices\n",
    "#Avec tous les autres éléments de la matrice\n",
    "def all_somme_distance(matrice):\n",
    "    liste_somme=[]\n",
    "    for i in range(len(matrice[0])):\n",
    "        liste_somme.append(somme_distance_i(matrice,i))\n",
    "    return liste_somme\n",
    "\n",
    "print(all_somme_distance(M1))\n",
    "print(all_somme_distance(M2))\n",
    "print(all_somme_distance(M3))\n",
    "print(all_somme_distance(M4))"
   ]
  },
  {
   "cell_type": "markdown",
   "metadata": {},
   "source": [
    "## UPGMA"
   ]
  },
  {
   "cell_type": "code",
   "execution_count": 24,
   "metadata": {},
   "outputs": [],
   "source": [
    "class noeud:\n",
    "    \"\"\"Class qui défini un noeud tel que:\n",
    "    -son nom\n",
    "    -fils gauche\n",
    "    -fils droit\n",
    "    -sa hauteur\n",
    "    -nombre d'élement gauche\n",
    "    -nombre d'élement droit\"\"\"\n",
    "    def __init__(self,nom,fg,fd,hauteur,elemg,elemd):\n",
    "        self.nom=nom\n",
    "        self.fg=fg\n",
    "        self.fd=fd\n",
    "        self.hauteur=hauteur\n",
    "        self.elemg=elemg\n",
    "        self.elemd=elemd\n",
    "        \n",
    "#Attribution de nom à chaque colonne/ligne de la matrice\n",
    "def nom_colonne(matrice):\n",
    "    listenom=[]\n",
    "    for i in range(1,len(matrice)+1):\n",
    "        listenom.append(chr(i+64))\n",
    "    return(listenom)\n",
    "        \n",
    "\n",
    "#Création à partir d'une liste de nom des élements la liste des feuilles à la classe voulue \n",
    "def creer_feuille(listenom):\n",
    "    listefeuilles=[]\n",
    "    for i in listenom:\n",
    "        listefeuilles.append(noeud(i,\"\",\"\",0,0,0))\n",
    "    return(listefeuilles)\n",
    "\n",
    "#Trouve les indices de la valeur minimum d'une matrice carrée\n",
    "def distanceminimal(matrice):\n",
    "    imin=1\n",
    "    jmin=0\n",
    "    minimal=matrice.iloc[imin][jmin]\n",
    "    #Ne parcourt que la partie basse de la diagonale\n",
    "    for i in range(1,len(matrice)):\n",
    "        for j in range(0,i):\n",
    "            if matrice.iloc[i][j]<minimal:\n",
    "                minimal=matrice.iloc[i][j]\n",
    "                imin=i\n",
    "                jmin=j\n",
    "    return(imin,jmin)\n",
    "\n",
    "#Calcule la distance d'un noeud à ses enfants\n",
    "def distance_père(noeud):\n",
    "    if noeud.fg:\n",
    "        distance=distance_père(noeud.fg)\n",
    "        distance+=noeud.hauteur\n",
    "    else :\n",
    "        return noeud.hauteur\n",
    "    return distance\n",
    "\n",
    "#Création d'un nouveau noeud qui va remplacer les 2 valeurs les plus proches \n",
    "def creer_noeud(i,j,listenoeud,matrice):\n",
    "    #Initialisation du nouveau noeud\n",
    "    noeudt=noeud(listenoeud[i].nom+listenoeud[j].nom,\n",
    "          listenoeud[i],\n",
    "          listenoeud[j],\n",
    "          0,\n",
    "          listenoeud[i].elemg+1,\n",
    "          listenoeud[j].elemd+1)\n",
    "    #Si il existe un fils gauche au fils gauche alors la hauteur du premier fils gauche est mise a jour en retirant\n",
    "    #La distance au père pour avoir un arbre parfaitement équilibré\n",
    "    if listenoeud[i].fg:\n",
    "        listenoeud[i].hauteur=(matrice.iloc[i][j]/2)-distance_père(listenoeud[i])\n",
    "    else:\n",
    "        listenoeud[i].hauteur=(matrice.iloc[i][j]/2)\n",
    "        \n",
    "    if listenoeud[j].fg:\n",
    "        listenoeud[j].hauteur=(matrice.iloc[i][j]/2)-distance_père(listenoeud[j])\n",
    "    else:\n",
    "        listenoeud[j].hauteur=(matrice.iloc[i][j]/2)\n",
    "    #On retire les éléments les plus proche (stocké en tant que fils gauche et droit du noeud)   \n",
    "    del listenoeud[i]\n",
    "    del listenoeud[j]\n",
    "    return noeudt\n",
    "          \n",
    "        \n",
    "\n",
    "\n",
    "\n",
    "#Mise a jour de la matrice et de la liste des noeuds pour chaque itération dans la fonction UPGMA\n",
    "def maj_matrice(matrice,listenoeud):\n",
    "    i,j=distanceminimal(matrice)#Recherche des indices minimum de la matrice\n",
    "    x,y=listenoeud[i].nom,listenoeud[j].nom#Stockage du nom des feuilles dans des variables\n",
    "    noeudt=creer_noeud(i,j,listenoeud,matrice)#Création d'un noeud à partir de l'indice des elements les plus proche de \n",
    "                                              #la matrice\n",
    "    matrice2=np.zeros((len(matrice)-1,len(matrice)-1))#Création d'une matrice vierge pour mettre à jour moins les \n",
    "                                                      #colonnes/lignes des valeurs supprimées\n",
    "    \n",
    "    t=0\n",
    "    tt=0\n",
    "    listenom=[]\n",
    "    #Pour chaque noeud dans la liste de noeuds (moins les deux les plus proche) on met à jour la liste de nom \n",
    "    for it in listenoeud:\n",
    "        listenom.append(it.nom) \n",
    "    #On remplit avec les noms des colonnes/lignes la matrice 2\n",
    "    for l in listenom:\n",
    "        for c in listenom:\n",
    "            matrice2[t][tt]=matrice.loc[l][c]\n",
    "            tt=tt+1\n",
    "        t=t+1\n",
    "        tt=0\n",
    "    #On ajoute notre nouveau noeud constitué des deux valeurs les plus proches\n",
    "    listenom.append(noeudt.nom)\n",
    "    listenoeud.append(noeudt)\n",
    "    matrice2_df=pd.DataFrame(matrice2,listenom,listenom)\n",
    "\n",
    "    #On met à proprement parler la matrice 2 à jour en remplissant les distances du nouveau noeud à tous les autres\n",
    "    for t in range(len(listenom)-1):\n",
    "        matrice2_df.loc[noeudt.nom][listenom[t]]=((noeudt.elemg*matrice.loc[x][listenom[t]])+(matrice.loc[y][listenom[t]]*noeudt.elemd))/(noeudt.elemg+noeudt.elemd)\n",
    "        matrice2_df.loc[listenom[t]][noeudt.nom]=((noeudt.elemg*matrice.loc[x][listenom[t]])+(matrice.loc[y][listenom[t]]*noeudt.elemd))/(noeudt.elemg+noeudt.elemd)\n",
    "    #On renvoit la matrice mise à jour\n",
    "    return(matrice2_df)\n",
    "\n",
    "\n",
    "\n",
    "\n",
    "\n",
    "\n",
    "#Fonction qui permet à partir d'une racine d'ecrire par récursion une séquence au format Newick\n",
    "#On va chercher des fils jusqu'a ce qu'il n'y en ai plus, on obtiendra ainsi les feuilles de l'arbre\n",
    "def creer_arbre(noeud):\n",
    "    if noeud.fg==\"\" and noeud.fd==\"\":\n",
    "        return(noeud.nom+\":\"+str(noeud.hauteur))\n",
    "    else:\n",
    "        arbre=\"(\"+creer_arbre(noeud.fd)+\",\"+creer_arbre(noeud.fg)+\")\"+\":\"+str(noeud.hauteur)\n",
    "    return arbre\n",
    "    \n",
    "#Fonction centrale qui appelle toutes les fonctions précédentes pour mettre à jour la liste des noeuds et la matrice\n",
    "def UPGMA(matrice):\n",
    "    listenom=nom_colonne(matrice)\n",
    "    listenoeud=creer_feuille(listenom)\n",
    "    matrice_df=pd.DataFrame(matrice,listenom,listenom)\n",
    "\n",
    "    print(matrice_df)\n",
    "    \n",
    "    matrice_maj=maj_matrice(matrice_df,listenoeud)\n",
    "    while len(matrice_maj)>1:\n",
    "        matrice_maj=maj_matrice(matrice_maj,listenoeud)\n",
    "    arbre=creer_arbre(listenoeud[0])\n",
    "    fichier=open(\"arbre_UPGMA.txt\",\"w\")\n",
    "    for i in arbre:\n",
    "        fichier.write(i)\n",
    "    print(arbre)\n",
    "    fichier.close()\n",
    "    tree=Phylo.read(\"arbre_UPGMA.txt\",'newick')\n",
    "    Phylo.draw(tree)"
   ]
  },
  {
   "cell_type": "code",
   "execution_count": 25,
   "metadata": {},
   "outputs": [
    {
     "name": "stdout",
     "output_type": "stream",
     "text": [
      "   A   B   C  D\n",
      "A  0   6   7  5\n",
      "B  6   0  11  9\n",
      "C  7  11   0  6\n",
      "D  5   9   6  0\n",
      "(B:4.333333333333333,(C:3.25,(A:2.5,D:2.5):0.75):1.083333333333333):0\n"
     ]
    },
    {
     "data": {
      "image/png": "[encoded data removed]",
      "text/plain": [
       "<Figure size 432x288 with 1 Axes>"
      ]
     },
     "metadata": {
      "needs_background": "light"
     },
     "output_type": "display_data"
    }
   ],
   "source": [
    "UPGMA(M5)#Si l'arbre n'apparait pas relancer la cellule"
   ]
  },
  {
   "cell_type": "markdown",
   "metadata": {
    "collapsed": true
   },
   "source": [
    "# Neighbour Joigning"
   ]
  },
  {
   "cell_type": "code",
   "execution_count": 26,
   "metadata": {},
   "outputs": [],
   "source": [
    "class noeud_NJ:\n",
    "    \"\"\"Class qui défini un noeud tel que:\n",
    "    -son nom\n",
    "    -fils gauche\n",
    "    -fils droit\n",
    "    -sa hauteur\n",
    "    -nombre d'élement gauche\n",
    "    -nombre d'élement droit\"\"\"\n",
    "    def __init__(self,nom,fg,fd,hauteur):\n",
    "        self.nom=nom\n",
    "        self.fg=fg\n",
    "        self.fd=fd\n",
    "        self.hauteur=hauteur\n",
    "\n",
    "def distanceminimal_NJ(matrice):\n",
    "    imin=1\n",
    "    jmin=0\n",
    "    minimal=matrice[imin][jmin]\n",
    "    for i in range(1,len(matrice)):\n",
    "        for j in range(0,i):\n",
    "            if matrice[i][j]<minimal:\n",
    "                minimal=matrice[i][j]\n",
    "                imin=i\n",
    "                jmin=j\n",
    "    return(imin,jmin)\n",
    "\n",
    "def nom_colonne(matrice):\n",
    "    listenom=[]\n",
    "    for i in range(1,len(matrice)+1):\n",
    "        listenom.append(chr(i+64))\n",
    "    return(listenom)\n",
    "#Création de la liste qui stocke l'ensemble des distances de chaque élement\n",
    "def liste_somme_distance(matrice):\n",
    "    liste_U=[]\n",
    "    somme=0\n",
    "    for i in range(len(matrice)):\n",
    "        for j in range(len(matrice)):\n",
    "            if i!=j:\n",
    "                somme+=matrice.iloc[i][j]\n",
    "        liste_U.append(somme/(len(matrice)-2))\n",
    "        somme=0\n",
    "    return(liste_U)\n",
    "\n",
    "#Initialisation de la matrice Q qui pour chaque paire d'éléments renvoit une distance \n",
    "def init_matriceQ(matrice,liste_U):\n",
    "    matriceQ=np.zeros((len(matrice),len(matrice)))\n",
    "    for i in range(len(matrice)):\n",
    "        for j in range(len(matrice)):\n",
    "            if i!=j:\n",
    "                matriceQ[i][j]=((matrice.iloc[i][j]-liste_U[i]-liste_U[j]))\n",
    "    return(matriceQ)\n",
    "\n",
    "\n",
    "#Création à partir d'une liste de noms des élements la liste des feuilles à la classe voulue \n",
    "def creer_feuille_NJ(listenom):\n",
    "    listefeuilles=[]\n",
    "    for i in listenom:\n",
    "        listefeuilles.append(noeud_NJ(i,\"\",\"\",0))\n",
    "    return(listefeuilles)\n",
    "\n",
    "#Création d'un nouveau noeud qui va remplacer les 2 valeurs les plus proches \n",
    "def creer_noeud_NJ(i,j,listenoeud,liste_U,matrice):\n",
    "    noeudt=noeud_NJ(listenoeud[i].nom+listenoeud[j].nom,\n",
    "          listenoeud[i],\n",
    "          listenoeud[j],\n",
    "          0)\n",
    "    listenoeud[i].hauteur=(matrice.iloc[i][j]+liste_U[i]-liste_U[j])/2\n",
    "    listenoeud[j].hauteur=(matrice.iloc[i][j]+liste_U[j]-liste_U[i])/2\n",
    "    del listenoeud[i]\n",
    "    del listenoeud[j]\n",
    "    return noeudt\n",
    "\n",
    "#Mise à jour de la matrice et de la liste des noeuds pour chaque itération dans la fonction NJ\n",
    "def maj_matrice_NJ(matrice,listenoeud):\n",
    "    liste_U=liste_somme_distance(matrice)#Définition de l'ensemble des distances\n",
    "    matrice_Q=init_matriceQ(matrice,liste_U)#Création de la matrice_Q de distance\n",
    "    i,j=distanceminimal_NJ(matrice_Q)#Détermination des éléments les plus proches et les plus éloignés des autres éléments\n",
    "    x,y=listenoeud[i].nom,listenoeud[j].nom\n",
    "    noeudt=creer_noeud_NJ(i,j,listenoeud,liste_U,matrice)\n",
    "    matrice2=np.zeros((len(matrice)-1,len(matrice)-1))#Matrice qui permet la mise à jour\n",
    "    \n",
    "    t=0\n",
    "    tt=0\n",
    "    listenom=[]\n",
    "    \n",
    "    for it in listenoeud:\n",
    "        listenom.append(it.nom)\n",
    "    #Recopiage de la matrice de base dans la matrice à mettre à jour sans les éléments les plus proches\n",
    "    for l in listenom:\n",
    "        for c in listenom:\n",
    "            matrice2[t][tt]=matrice.loc[l][c]\n",
    "            tt=tt+1\n",
    "        t=t+1\n",
    "        tt=0\n",
    "    #Ajout du nouveau noeud formé\n",
    "    listenom.append(noeudt.nom)\n",
    "    listenoeud.append(noeudt)\n",
    "    matrice2_df=pd.DataFrame(matrice2,listenom,listenom)\n",
    "\n",
    "    #Ajout des distances au nouveau noeud dans la matrice à mettre à jour\n",
    "    for t in range(len(listenom)-1):\n",
    "        matrice2_df.loc[noeudt.nom][listenom[t]]=(matrice.loc[x][listenom[t]]+matrice.loc[y][listenom[t]]-matrice.loc[x][y])/2\n",
    "        matrice2_df.loc[listenom[t]][noeudt.nom]=(matrice.loc[x][listenom[t]]+matrice.loc[y][listenom[t]]-matrice.loc[x][y])/2\n",
    "    return(matrice2_df)\n",
    "\n",
    "#Fonction récursive qui renvoie une séquence en format Newick\n",
    "def creer_arbre(noeud):\n",
    "    if noeud.fg==\"\" and noeud.fd==\"\":\n",
    "        return(noeud.nom+\":\"+str(noeud.hauteur))\n",
    "    else:\n",
    "        arbre=\"(\"+\"(\"+creer_arbre(noeud.fd)+\",\"+creer_arbre(noeud.fg)+\")\"+\":\"+str(noeud.hauteur)+\")\"\n",
    "        \n",
    "    return arbre\n",
    "    \n",
    "def NJ(matrice):\n",
    "    listenom=nom_colonne(matrice)\n",
    "    matrice_df=pd.DataFrame(matrice,listenom,listenom)\n",
    "    print(matrice_df)\n",
    "    listenoeud=creer_feuille_NJ(listenom)\n",
    "    matrice_maj=maj_matrice_NJ(matrice_df,listenoeud)\n",
    "    #Si il ne reste qu'une valeur on ne peut pas la comparer à une autre donc on s'arrête quand il en reste 2\n",
    "    while len(matrice_maj)>2:\n",
    "        matrice_maj=maj_matrice_NJ(matrice_maj,listenoeud)\n",
    "    arbre=\"\"\n",
    "    for noeud in listenoeud:\n",
    "        arbre+=creer_arbre(noeud)\n",
    "    fichier=open(\"arbre_NJ.txt\",\"w\")\n",
    "    for i in arbre:\n",
    "        fichier.write(i)\n",
    "    print(arbre)\n",
    "    fichier.close()\n",
    "    tree=Phylo.read(\"arbre_NJ.txt\",'newick')\n",
    "    Phylo.draw(tree) \n",
    "    "
   ]
  },
  {
   "cell_type": "code",
   "execution_count": 27,
   "metadata": {},
   "outputs": [
    {
     "name": "stdout",
     "output_type": "stream",
     "text": [
      "   A   B   C  D\n",
      "A  0   6   7  5\n",
      "B  6   0  11  9\n",
      "C  7  11   0  6\n",
      "D  5   9   6  0\n",
      "((A:1.0,B:5.0):0)((C:4.0,D:2.0):0)\n"
     ]
    },
    {
     "data": {
      "image/png": "[encoded data removed]",
      "text/plain": [
       "<Figure size 432x288 with 1 Axes>"
      ]
     },
     "metadata": {
      "needs_background": "light"
     },
     "output_type": "display_data"
    }
   ],
   "source": [
    "a=NJ(M5)\n"
   ]
  },
  {
   "cell_type": "code",
   "execution_count": 29,
   "metadata": {},
   "outputs": [
    {
     "name": "stdout",
     "output_type": "stream",
     "text": [
      "<class 'NoneType'>\n"
     ]
    }
   ],
   "source": []
  },
  {
   "cell_type": "code",
   "execution_count": null,
   "metadata": {},
   "outputs": [],
   "source": []
  }
 ],
 "metadata": {
  "kernelspec": {
   "display_name": "Python 3",
   "language": "python",
   "name": "python3"
  },
  "language_info": {
   "codemirror_mode": {
    "name": "ipython",
    "version": 3
   },
   "file_extension": ".py",
   "mimetype": "text/x-python",
   "name": "python",
   "nbconvert_exporter": "python",
   "pygments_lexer": "ipython3",
   "version": "3.8.5"
  }
 },
 "nbformat": 4,
 "nbformat_minor": 2
}
